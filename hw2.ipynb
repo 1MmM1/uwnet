{
  "nbformat": 4,
  "nbformat_minor": 0,
  "metadata": {
    "accelerator": "GPU",
    "colab": {
      "name": "hw2.ipynb",
      "provenance": [],
      "collapsed_sections": [],
      "toc_visible": true
    },
    "kernelspec": {
      "display_name": "Python 3",
      "language": "python",
      "name": "python3"
    },
    "language_info": {
      "codemirror_mode": {
        "name": "ipython",
        "version": 3
      },
      "file_extension": ".py",
      "mimetype": "text/x-python",
      "name": "python",
      "nbconvert_exporter": "python",
      "pygments_lexer": "ipython3",
      "version": "3.7.3"
    }
  },
  "cells": [
    {
      "cell_type": "markdown",
      "metadata": {
        "id": "S2IaITBP0f5R"
      },
      "source": [
        "# Homework 2\n",
        "In this homework, we will explore language generation using character-level RNNs. Sounds awesome, right???\n",
        "\n",
        "A few notes at the beginning:\n",
        "- It might be useful for you to read the whole assignment before beginning. Especially the last two sections so you know what to record for turning in.\n",
        "- Much of the required knowledge in this (and past) homeworks about Python, PyTorch, etc. are not explained fully here. Instead, we expect you to use the existing documentation, search engines, Stack Overflow, etc. for implementation details.\n",
        "- That being said, we have listed several functions in parts of the homework where knowing those functions exist would be especially useful. However you will still need to read the docs on how to specifically use the functions.\n",
        "\n",
        "# Part 0: Initial setup\n",
        "You should recognize this code from last time.\n"
      ]
    },
    {
      "cell_type": "code",
      "metadata": {
        "id": "4GS0yuGl0mHQ",
        "colab": {
          "base_uri": "https://localhost:8080/"
        },
        "outputId": "35673bcb-6b4a-4972-9931-ea1e4ce1bebd"
      },
      "source": [
        "import torch\n",
        "print('Version', torch.__version__)\n",
        "print('CUDA enabled:', torch.cuda.is_available())\n",
        "  \n",
        "# Running this should then print out:\n",
        "# Version 1.7.0+cu101 (or something like this)\n",
        "# CUDA enabled: True"
      ],
      "execution_count": null,
      "outputs": [
        {
          "output_type": "stream",
          "text": [
            "Version 1.7.0+cu101\n",
            "CUDA enabled: True\n"
          ],
          "name": "stdout"
        }
      ]
    },
    {
      "cell_type": "code",
      "metadata": {
        "id": "6t3ZIEll0pr-",
        "colab": {
          "base_uri": "https://localhost:8080/"
        },
        "outputId": "647379ca-2aec-478a-867f-d050b0c4a332"
      },
      "source": [
        "from google.colab import drive\n",
        "drive.mount('/gdrive')\n",
        "!ls /gdrive"
      ],
      "execution_count": 41,
      "outputs": [
        {
          "output_type": "stream",
          "text": [
            "Drive already mounted at /gdrive; to attempt to forcibly remount, call drive.mount(\"/gdrive\", force_remount=True).\n",
            "MyDrive  Shareddrives\n"
          ],
          "name": "stdout"
        }
      ]
    },
    {
      "cell_type": "markdown",
      "metadata": {
        "id": "PEzPNAIY0vkm"
      },
      "source": [
        "# Part 1: Upload the dataset\n",
        "We will be using the complete text of Harry Potter as our corpus. We will provide it for you in a not-very-well-formatted way.\n",
        "Run this code to set up the homework3 files.\n",
        "\n"
      ]
    },
    {
      "cell_type": "code",
      "metadata": {
        "id": "CLVJPc_90vsB"
      },
      "source": [
        "import os\n",
        "BASE_PATH = '/gdrive/My Drive/colab_files/hw2/'\n",
        "if not os.path.exists(BASE_PATH):\n",
        "    os.makedirs(BASE_PATH)\n",
        "DATA_PATH = '/content/'\n",
        "\n",
        "if not os.path.exists(os.path.join(DATA_PATH, 'harry_potter.txt')):\n",
        "    os.chdir(BASE_PATH)\n",
        "    !wget https://courses.cs.washington.edu/courses/cse599g1/19au/files/homework3.tar.gz\n",
        "    !tar -zxvf homework3.tar.gz\n",
        "    !rm homework3.tar.gz\n",
        "    !cp pt_util.py /content\n",
        "    !cp harry_potter.txt /content\n",
        "if not os.path.exists(os.path.join(DATA_PATH, 'churchill.txt')):\n",
        "    os.chdir(BASE_PATH)\n",
        "    !cp churchill.txt /content\n",
        "os.chdir('/content')"
      ],
      "execution_count": 40,
      "outputs": []
    },
    {
      "cell_type": "code",
      "metadata": {
        "id": "hd1Qx66s19Pl"
      },
      "source": [
        "import torch\n",
        "import torch.nn as nn\n",
        "from torchvision import datasets\n",
        "from torchvision import transforms\n",
        "import numpy as np\n",
        "import torch.nn.functional as F\n",
        "import torch.optim as optim\n",
        "import sys\n",
        "import pickle\n",
        "import re\n",
        "import pt_util"
      ],
      "execution_count": null,
      "outputs": []
    },
    {
      "cell_type": "markdown",
      "metadata": {
        "id": "AxIvm7h62tfx"
      },
      "source": [
        "#Part 2: Preprocessing the data\n",
        "In previous homeworks, we have provided a cleaned version of the data. But this time you'll have to do some of that cleaning yourselves.\n",
        "\n",
        "Hints:\n",
        "- train_text and test_text should contain the class indices for the character tokens from the data file. For example, if the text was **`\"ABA CDBE\"`**, the token version would be a numpy array with contents `[0, 1, 0, 2, 3, 4, 1, 5]`\n",
        "- The harry_potter.txt file has weird spacing. You might want to replace all the whitespace characters (space, \\n, \\t, etc.) in the file with the space character.\n",
        "- You should output two files. One for training and one for testing. The training should be the first 80% of the characters.\n",
        "- voc2ind is a map from character to the index of the class for that character. There is no predefined vocabulary, but you will need to be consistent across all tasks that use the vocabulary. For the example above, the voc2ind would be `{'A': 0, 'B': 1, ' ': 2, 'C': 3, 'D': 4, 'E': 5}`\n",
        "- ind2voc is the inverse of voc2ind\n",
        "\n"
      ]
    },
    {
      "cell_type": "code",
      "metadata": {
        "id": "6oZq_S6k3GpB",
        "colab": {
          "base_uri": "https://localhost:8080/"
        },
        "outputId": "94d3feed-216c-44c3-8fcf-cb5533b081f2"
      },
      "source": [
        "def prepare_data(data_path):\n",
        "    with open(data_path) as f:\n",
        "        # This reads all the data from the file, but does not do any processing on it.\n",
        "        data = f.read()\n",
        "    \n",
        "    # TODO Add more preprocessing\n",
        "    # data = re.sub(r\"\\s+\", \" \", data)\n",
        "    data = re.sub(r\"\\s\", \" \", data)\n",
        "    # data = re.sub(r\"[\\n\\t\\s]\", \" \", data)\n",
        "    voc2ind = {}\n",
        "    \n",
        "    # Compute voc2ind and transform the data into an integer representation of the tokens.\n",
        "    tokens = []\n",
        "    # data = \"abcdefghijklmnopqrstuvw\" # test data\n",
        "    label = 0\n",
        "    for char in data:\n",
        "        # voc2ind[char] = ord(char)\n",
        "        if char not in voc2ind:\n",
        "          voc2ind[char] = label\n",
        "          label += 1\n",
        "        tokens.append(voc2ind[char])\n",
        "\n",
        "    print(\"voc2ind\", len(voc2ind))\n",
        "    ind2voc = {val: key for key, val in voc2ind.items()}\n",
        "\n",
        "    nTrain = int(len(tokens) * 0.8)\n",
        "    train_text = tokens[:nTrain] # TODO Fill this in\n",
        "    test_text = tokens[nTrain:] # TODO Fill this in\n",
        "    print(\"train len:\", len(train_text), \"test len:\", len(test_text))\n",
        "\n",
        "    pickle.dump({'tokens': train_text, 'ind2voc': ind2voc, 'voc2ind':voc2ind}, open(DATA_PATH + 'harry_potter_chars_train.pkl', 'wb'))\n",
        "    pickle.dump({'tokens': test_text, 'ind2voc': ind2voc, 'voc2ind':voc2ind}, open(DATA_PATH + 'harry_potter_chars_test.pkl', 'wb'))\n",
        "    \n",
        "prepare_data(DATA_PATH + 'harry_potter.txt')\n",
        "\n",
        "\n",
        "class Alphabet(object):\n",
        "    def __init__(self, data_file):\n",
        "        with open(data_file, 'rb') as data_file:\n",
        "            dataset = pickle.load(data_file)\n",
        "        self.ind2voc = dataset['ind2voc']\n",
        "        self.voc2ind = dataset['voc2ind']\n",
        "\n",
        "    # Returns a string representation of the tokens.\n",
        "    def array_to_words(self, arr):\n",
        "        return ''.join([self.ind2voc[int(ind)] for ind in arr])\n",
        "\n",
        "    # Returns a torch tensor representing each token in words.\n",
        "    def words_to_array(self, words):\n",
        "        return torch.LongTensor([self.voc2ind[word] for word in words])\n",
        "\n",
        "    # Returns the size of the vocabulary.\n",
        "    def __len__(self):\n",
        "        return len(self.voc2ind)"
      ],
      "execution_count": null,
      "outputs": [
        {
          "output_type": "stream",
          "text": [
            "voc2ind 89\n",
            "train len: 5000121 test len: 1250031\n"
          ],
          "name": "stdout"
        }
      ]
    },
    {
      "cell_type": "code",
      "metadata": {
        "colab": {
          "base_uri": "https://localhost:8080/"
        },
        "id": "hQpwXT7j8LZM",
        "outputId": "9059d159-fd46-4891-b991-cd8972e06036"
      },
      "source": [
        "# Churchill dataset\n",
        "def prepare_data(data_path):\n",
        "    with open(data_path) as f:\n",
        "        # This reads all the data from the file, but does not do any processing on it.\n",
        "        data = f.read()\n",
        "    \n",
        "    # TODO Add more preprocessing\n",
        "    # data = re.sub(r\"\\s+\", \" \", data)\n",
        "    data = re.sub(r\"\\s\", \" \", data)\n",
        "    # data = re.sub(r\"[\\n\\t\\s]\", \" \", data)\n",
        "    voc2ind = {}\n",
        "    \n",
        "    # Compute voc2ind and transform the data into an integer representation of the tokens.\n",
        "    tokens = []\n",
        "    # data = \"abcdefghijklmnopqrstuvw\" # test data\n",
        "    label = 0\n",
        "    for char in data:\n",
        "        # voc2ind[char] = ord(char)\n",
        "        if char not in voc2ind:\n",
        "          voc2ind[char] = label\n",
        "          label += 1\n",
        "        tokens.append(voc2ind[char])\n",
        "\n",
        "    print(\"voc2ind\", len(voc2ind))\n",
        "    ind2voc = {val: key for key, val in voc2ind.items()}\n",
        "\n",
        "    nTrain = int(len(tokens) * 0.8)\n",
        "    train_text = tokens[:nTrain] # TODO Fill this in\n",
        "    test_text = tokens[nTrain:] # TODO Fill this in\n",
        "    print(\"train len:\", len(train_text), \"test len:\", len(test_text))\n",
        "\n",
        "    pickle.dump({'tokens': train_text, 'ind2voc': ind2voc, 'voc2ind':voc2ind}, open(DATA_PATH + 'churchill_chars_train.pkl', 'wb'))\n",
        "    pickle.dump({'tokens': test_text, 'ind2voc': ind2voc, 'voc2ind':voc2ind}, open(DATA_PATH + 'churchill_chars_test.pkl', 'wb'))\n",
        "    \n",
        "prepare_data(DATA_PATH + 'churchill.txt')"
      ],
      "execution_count": 43,
      "outputs": [
        {
          "output_type": "stream",
          "text": [
            "voc2ind 87\n",
            "train len: 7480433 test len: 1870109\n"
          ],
          "name": "stdout"
        }
      ]
    },
    {
      "cell_type": "code",
      "metadata": {
        "id": "Aq6E3mH7beSK",
        "colab": {
          "base_uri": "https://localhost:8080/"
        },
        "outputId": "42a0c869-71c6-4d58-ed9c-c2b2fc856472"
      },
      "source": [
        "# Word tokenization\n",
        "from collections import Counter\n",
        "def escape_data(data):\n",
        "    data = re.sub(r\"\\\"\", \" \\\" \", data)\n",
        "    data = re.sub(r\",\", \" , \", data)\n",
        "    data = re.sub(r\"\\.\", \" . \", data)\n",
        "    data = re.sub(r\"\\?\", \" ? \", data)\n",
        "    data = re.sub(r\"!\", \" ! \", data)\n",
        "    data = re.sub(r\":\", \" : \", data)\n",
        "    data = re.sub(r\";\", \" ; \", data)\n",
        "    data = re.sub(r\"\\'\", \" \\' \", data)\n",
        "    data = re.sub(r\"-\", \" - \", data)\n",
        "    data = re.sub(r\"\\(\", \" \\( \", data)\n",
        "    data = re.sub(r\"\\)\", \" \\) \", data)\n",
        "    return data.lower().split()\n",
        "\n",
        "def prepare_data(data_path):\n",
        "    with open(data_path) as f:\n",
        "        # This reads all the data from the file, but does not do any processing on it.\n",
        "        data = f.read()\n",
        "    \n",
        "    # TODO Add more preprocessing\n",
        "    data = escape_data(data)\n",
        "    occurances = Counter(data)\n",
        "    # print(occurances)\n",
        "    # data = re.sub(r\"[\\n\\t\\s]\", \" \", data)\n",
        "    voc2ind = {'<unknown>':0}\n",
        "    \n",
        "    # Compute voc2ind and transform the data into an integer representation of the tokens.\n",
        "    tokens = []\n",
        "    label = 1\n",
        "    unknowns = 0\n",
        "    for word in data:\n",
        "        # voc2ind[char] = ord(char)\n",
        "        if occurances[word] < 5:\n",
        "            tokens.append(voc2ind['<unknown>'])\n",
        "            unknowns += 1\n",
        "        else:\n",
        "            if word not in voc2ind:\n",
        "              voc2ind[word] = label\n",
        "              label += 1\n",
        "            tokens.append(voc2ind[word])\n",
        "    print(\"data size\", len(data))\n",
        "    print(\"token size\", len(tokens))\n",
        "    print(\"num unknowns\", unknowns)\n",
        "    print(\"voc2ind\", len(voc2ind))\n",
        "    ind2voc = {val: key for key, val in voc2ind.items()}\n",
        "\n",
        "    nTrain = int(len(tokens) * 0.8) \n",
        "    train_text = tokens[:nTrain] # TODO Fill this in\n",
        "    test_text = tokens[nTrain:] # TODO Fill this in\n",
        "    print(\"train len:\", len(train_text), \"test len:\", len(test_text))\n",
        "\n",
        "    pickle.dump({'tokens': train_text, 'ind2voc': ind2voc, 'voc2ind':voc2ind}, open(DATA_PATH + 'harry_potter_words_train.pkl', 'wb'))\n",
        "    pickle.dump({'tokens': test_text, 'ind2voc': ind2voc, 'voc2ind':voc2ind}, open(DATA_PATH + 'harry_potter_words_test.pkl', 'wb'))\n",
        "    \n",
        "prepare_data(DATA_PATH + 'harry_potter.txt')\n",
        "\n",
        "class Vocabulary(object):\n",
        "    def __init__(self, data_file):\n",
        "        with open(data_file, 'rb') as data_file:\n",
        "            dataset = pickle.load(data_file)\n",
        "        self.ind2voc = dataset['ind2voc']\n",
        "        self.voc2ind = dataset['voc2ind']\n",
        "\n",
        "    # Returns a string representation of the tokens.\n",
        "    def array_to_words(self, arr):\n",
        "        return ''.join([self.ind2voc[int(ind)] + \" \" for ind in arr])\n",
        "\n",
        "    # Returns a torch tensor representing each token in words.\n",
        "    def words_to_array(self, words):\n",
        "        return torch.LongTensor([self.voc2ind[word] for word in words])\n",
        "\n",
        "    # Returns the size of the vocabulary.\n",
        "    def __len__(self):\n",
        "        return len(self.voc2ind)"
      ],
      "execution_count": null,
      "outputs": [
        {
          "output_type": "stream",
          "text": [
            "data size 1439009\n",
            "token size 1439009\n",
            "num unknowns 23495\n",
            "voc2ind 9007\n",
            "train len: 1151207 test len: 287802\n"
          ],
          "name": "stdout"
        }
      ]
    },
    {
      "cell_type": "markdown",
      "metadata": {
        "id": "kzX1tUv8ilYV"
      },
      "source": [
        "#Part 3: Loading the data\n",
        "This is possibly the trickiest part of this homework. In the past, batches were not correlated with each other, and the data within a single minibatch was also not correlated, so you could basically draw randomly from the dataset. That is not the case here. Instead, you should return sequences from the dataset.\n",
        "\n",
        "Your instructions are to implement the following. First, imagine splitting the dataset into N chunks where N is the batch_size and the chunks are contiguous parts of the data. For each batch, you should return one sequence from each of the chunks. The batches should also be sequential an example is described below.\n",
        "\n",
        "The data is 20 characters long `[1, 2, 3, ...20]`. The batch size is `2` and the sequence length is `4`\n",
        "- The 1st batch should consist of  `(data =  [[1, 2, 3, 4]; [11, 12, 13, 14]], labels = [[2, 3, 4, 5]; [12, 13, 14, 15]])`\n",
        "- The 2nd batch should consist of `(data =  [[5, 6, 7, 8]; [15, 16, 17, 18]], labels = [[6, 7, 8, 9]; [16, 17, 18, 19]])`\n",
        "- The 3rd batch should consist of `(data =  [[9]; [19]], labels = [[10]; [20]])`\n",
        "- There is no 4th batch.\n",
        "\n",
        "Hints:\n",
        "- To work with the rest of the code, your len(dataset) should be a multiple of the batch_size. \n",
        "- Removing the last bit to make the data the proper shape will probably give better results than padding with 0s.\n",
        "- It is OK to have one batch be shorter than the others as long as all entries in that batch are the same length.\n",
        "- Notice that the last label in one batch is the first data in the next batch. Be careful of off-by-one errors.\n",
        "\n"
      ]
    },
    {
      "cell_type": "code",
      "metadata": {
        "id": "44v6o0JwiwXk"
      },
      "source": [
        "class HarryPotterDataset(torch.utils.data.Dataset):\n",
        "    def __init__(self, data_file, sequence_length, batch_size):\n",
        "        super(HarryPotterDataset, self).__init__()\n",
        "\n",
        "        self.sequence_length = sequence_length\n",
        "        self.batch_size = batch_size\n",
        "        # self.vocab = Alphabet(data_file)\n",
        "        self.vocab = Vocabulary(data_file)\n",
        "\n",
        "        with open(data_file, 'rb') as data_pkl:\n",
        "            dataset = pickle.load(data_pkl)\n",
        "\n",
        "        # TODO: Any preprocessing on the data to get it to the right shape.\n",
        "        self.dataset = dataset[\"tokens\"]\n",
        "        # print(len(self.dataset))\n",
        "        # print(\"dataset keys:\", dataset.keys())\n",
        "        if len(dataset) % self.batch_size != 0:\n",
        "          self.dataset = self.dataset[:(len(self.dataset) // self.batch_size * self.batch_size)]\n",
        "        \n",
        "        # print(\"dataset length:\", len(self.dataset))\n",
        "        self.chunk_size = len(self.dataset) // self.batch_size\n",
        "        self.seq_per_chunk = int(np.ceil((self.chunk_size - 1) / self.sequence_length))\n",
        "\n",
        "\n",
        "    def __len__(self):\n",
        "        # TODO return the number of unique sequences you have, not the number of characters.\n",
        "        # print(\"__len__:\", int(np.ceil((len(self.dataset) // self.batch_size - 1) / self.sequence_length) * self.batch_size))\n",
        "        return self.seq_per_chunk * self.batch_size\n",
        "        \n",
        "    def __getitem__(self, idx):\n",
        "        # Return the data and label for a character sequence as described above.\n",
        "        # The data and labels should be torch long tensors.\n",
        "        # You should return a single entry for the batch using the idx to decide which chunk you are \n",
        "        # in and how far down in the chunk you are.\n",
        "        \n",
        "        # TODO\n",
        "        chunk_start_ind = idx % self.batch_size * self.chunk_size \n",
        "        # chunk_start_ind = idx // self.seq_per_chunk * self.chunk_size\n",
        "        # print(\"chunk start index:\", chunk_start_ind)\n",
        "        # batch_start_ind = chunk_start_ind + (idx % self.seq_per_chunk) * self.sequence_length # start of data\n",
        "        batch_start_ind = chunk_start_ind + idx // self.batch_size % self.seq_per_chunk # start of data\n",
        "        # Find end index; includes extra character for labels\n",
        "        if batch_start_ind + self.sequence_length + 1 > chunk_start_ind + self.chunk_size:\n",
        "          batch_end_ind = chunk_start_ind + self.chunk_size  \n",
        "        else:\n",
        "          batch_end_ind = batch_start_ind + self.sequence_length + 1\n",
        "        # print(\"start:end\", batch_start_ind, \":\", batch_end_ind)\n",
        "        data = self.dataset[batch_start_ind:batch_end_ind]\n",
        "        return torch.LongTensor(data[:-1]), torch.LongTensor(data[1:])\n",
        "\n",
        "    def vocab_size(self):\n",
        "        return len(self.vocab)"
      ],
      "execution_count": null,
      "outputs": []
    },
    {
      "cell_type": "code",
      "metadata": {
        "id": "n4nU3cqSUFGF",
        "colab": {
          "base_uri": "https://localhost:8080/"
        },
        "outputId": "e191d13d-4990-41a7-828b-812ed24fdb10"
      },
      "source": [
        "# Testing part 3 code\n",
        "# data_train = HarryPotterDataset(DATA_PATH + 'harry_potter_chars_train.pkl', 10, 256)\n",
        "data_train = HarryPotterDataset(DATA_PATH + 'harry_potter_chars_train.pkl', 4, 2)\n",
        "\n",
        "print(data_train.__len__())\n",
        "print(data_train.__getitem__(0))\n",
        "print(data_train.__getitem__(1))\n",
        "print(data_train.__getitem__(2))\n",
        "print(data_train.__getitem__(3))\n",
        "print(data_train.__getitem__(4))\n",
        "print(data_train.__getitem__(5))"
      ],
      "execution_count": null,
      "outputs": [
        {
          "output_type": "stream",
          "text": [
            "1250030\n",
            "(tensor([0, 1, 2, 2]), tensor([1, 2, 2, 3]))\n",
            "(tensor([13, 14, 15,  4]), tensor([14, 15,  4, 15]))\n",
            "(tensor([1, 2, 2, 3]), tensor([2, 2, 3, 4]))\n",
            "(tensor([14, 15,  4, 15]), tensor([15,  4, 15, 11]))\n",
            "(tensor([2, 2, 3, 4]), tensor([2, 3, 4, 5]))\n",
            "(tensor([15,  4, 15, 11]), tensor([ 4, 15, 11,  1]))\n"
          ],
          "name": "stdout"
        }
      ]
    },
    {
      "cell_type": "code",
      "metadata": {
        "id": "sdbKiSa3zeen",
        "colab": {
          "base_uri": "https://localhost:8080/"
        },
        "outputId": "51f4ea5a-2a41-4440-9c31-268799511168"
      },
      "source": [
        "# Testing part 3 code on word tokens\n",
        "# data_train = HarryPotterDataset(DATA_PATH + 'harry_potter_chars_train.pkl', 10, 256)\n",
        "data_train = HarryPotterDataset(DATA_PATH + 'harry_potter_words_train.pkl', 4, 2)\n",
        "\n",
        "print(data_train.__len__())\n",
        "print(data_train.__getitem__(0))\n",
        "print(data_train.__getitem__(1))\n",
        "print(data_train.__getitem__(2))\n",
        "print(data_train.__getitem__(3))\n",
        "print(data_train.__getitem__(4))\n",
        "print(data_train.__getitem__(5))"
      ],
      "execution_count": null,
      "outputs": [
        {
          "output_type": "stream",
          "text": [
            "6500\n",
            "(tensor([1, 2, 3, 4]), tensor([2, 3, 4, 5]))\n",
            "(tensor([0, 0, 0, 0]), tensor([   0,    0,    0, 7556]))\n",
            "(tensor([2, 3, 4, 5]), tensor([3, 4, 5, 6]))\n",
            "(tensor([   0,    0,    0, 7556]), tensor([   0,    0, 7556, 7557]))\n",
            "(tensor([3, 4, 5, 6]), tensor([4, 5, 6, 7]))\n",
            "(tensor([   0,    0, 7556, 7557]), tensor([   0, 7556, 7557,    0]))\n"
          ],
          "name": "stdout"
        }
      ]
    },
    {
      "cell_type": "markdown",
      "metadata": {
        "id": "8kYKDZoj2jCV"
      },
      "source": [
        "# Part 4: Defining the Network\n",
        "This time we will provide a network that should already get pretty good performance. You will still need to write the forward pass and inference functions. You may also choose to modify the network to try and get better performance.\n",
        "\n",
        "__BE CAREFUL:__ We have specified that the data will be fed in as batch_first. Look at the documentation if you are confused about the implications of this as well as how to call it for the forward pass. https://pytorch.org/docs/stable/nn.html#torch.nn.GRU\n",
        "    \n"
      ]
    },
    {
      "cell_type": "code",
      "metadata": {
        "id": "mO21UXLj2ixn"
      },
      "source": [
        "TEMPERATURE = 0.5\n",
        "\n",
        "class HarryPotterNet(nn.Module):\n",
        "    def __init__(self, vocab_size, feature_size):\n",
        "        super(HarryPotterNet, self).__init__()\n",
        "        self.vocab_size = vocab_size\n",
        "        self.feature_size = feature_size\n",
        "        self.encoder = nn.Embedding(self.vocab_size, self.feature_size)\n",
        "        self.gru = nn.GRU(self.feature_size, self.feature_size, batch_first=True)\n",
        "        self.lstm = nn.LSTM(self.feature_size, self.feature_size, num_layers=2, batch_first=True)\n",
        "        self.decoder = nn.Linear(self.feature_size, self.vocab_size)\n",
        "        \n",
        "        # This shares the encoder and decoder weights as described in lecture.\n",
        "        self.decoder.weight = self.encoder.weight\n",
        "        self.decoder.bias.data.zero_()\n",
        "        \n",
        "        self.best_accuracy = -1\n",
        "    \n",
        "    def forward(self, x, hidden_state=None):\n",
        "        batch_size = x.shape[0]\n",
        "        sequence_length = x.shape[1]\n",
        "        \n",
        "        # TODO finish defining the forward pass.\n",
        "        # You should return the output from the decoder as well as the hidden state given by the gru.\n",
        "        x = self.encoder(x)\n",
        "        x, hidden_state = self.gru(x, hidden_state)\n",
        "        # x, hidden_state = self.lstm(x, hidden_state)\n",
        "        x = self.decoder(x)\n",
        "        return x, hidden_state\n",
        "\n",
        "    # This defines the function that gives a probability distribution and implements the temperature computation.\n",
        "    def inference(self, x, hidden_state=None, temperature=1):\n",
        "        x = x.view(-1, 1)\n",
        "        x, hidden_state = self.forward(x, hidden_state)\n",
        "        x = x.view(1, -1)\n",
        "        x = x / max(temperature, 1e-20)\n",
        "        x = F.softmax(x, dim=1)\n",
        "        return x, hidden_state\n",
        "\n",
        "    # Predefined loss function\n",
        "    def loss(self, prediction, label, reduction='mean'):\n",
        "        loss_val = F.cross_entropy(prediction.view(-1, self.vocab_size), label.view(-1), reduction=reduction)\n",
        "        return loss_val\n",
        "\n",
        "    # Saves the current model\n",
        "    def save_model(self, file_path, num_to_keep=1):\n",
        "        pt_util.save(self, file_path, num_to_keep)\n",
        "\n",
        "    # Saves the best model so far\n",
        "    def save_best_model(self, accuracy, file_path, num_to_keep=1):\n",
        "        if accuracy > self.best_accuracy:\n",
        "            self.save_model(file_path, num_to_keep)\n",
        "            self.best_accuracy = accuracy\n",
        "\n",
        "    def load_model(self, file_path):\n",
        "        pt_util.restore(self, file_path)\n",
        "\n",
        "    def load_last_model(self, dir_path):\n",
        "        return pt_util.restore_latest(self, dir_path)"
      ],
      "execution_count": null,
      "outputs": []
    },
    {
      "cell_type": "markdown",
      "metadata": {
        "id": "iEQZIoB0jY5h"
      },
      "source": [
        "#Part 5: Character Generation\n",
        "\n",
        "In class we discussed three algorithms for creating sequences.\n",
        "1. Max: Choose the most likely value\n",
        "2. Sample: Sample from the distribution output by the network.\n",
        "3. Beam Search: Sample from the distribution and use the Beam Search algorithm.\n",
        "\n",
        "The beam search algorithm is as follows:\n",
        "```\n",
        "1. Initialize the beam list with the single existing empty beam\n",
        "2. Repeat for the sequence length:\n",
        "    1. For each beam in the beam list:\n",
        "        1. Compute the next distribution over the output space for that state\n",
        "        2. Sample from the distribution with replacement\n",
        "        3. For each sample:\n",
        "            1. Compute its score\n",
        "            2. Record its hidden state and chosen value\n",
        "        4. Add all the samples to the new beam list      \n",
        "     2. Rank the new beam list\n",
        "     3. Throw out all but the top N beams\n",
        " 3. Return the top beam's chosen values.\n",
        "```\n",
        "\n",
        "\n",
        "Hints:\n",
        "- np.random.choice and torch.multinomial will both help with the sampling as they can take in a weighted probability distribution and sample from that distribution.\n",
        "- For beam search you will need to keep a running score of the likelihood of each sequence. If you multiply the likelihoods, you will encounter float underflow. Instead, you should add the log likelihoods.\n",
        "- For beam search, you will need to keep track of multiple hidden states related to which branch you are currently expanding.\n",
        "- For beam search, you should search over the beam, but only return the top result in the end.\n",
        "- It may be useful to do the training part before the character generation part so you have some model to test.\n",
        "- Feel free to play around with the `BEAM_WIDTH`.\n"
      ]
    },
    {
      "cell_type": "code",
      "metadata": {
        "id": "9XTxy4eq3UYR"
      },
      "source": [
        "TEMPERATURE = 1\n",
        "BEAM_WIDTH = 10\n",
        "\n",
        "def max_sampling_strategy(sequence_length, model, output, hidden, vocab):\n",
        "    outputs = []\n",
        "    for ii in range(sequence_length):\n",
        "        # outputs.append(output.argmax())\n",
        "        outputs.append(output[0][1:].argmax()) # for word tokens\n",
        "        data = outputs[-1].to(device)\n",
        "        output, hidden = model.inference(data, hidden, temperature=TEMPERATURE)\n",
        "    return outputs \n",
        "    \n",
        "def sample_sampling_strategy(sequence_length, model, output, hidden, vocab):\n",
        "    outputs = []\n",
        "    for ii in range(sequence_length):\n",
        "        # outputs.append(torch.multinomial(output, 1))\n",
        "        outputs.append(torch.multinomial(output[0][1:], 1)) # for word tokens\n",
        "        data = outputs[-1].to(device)\n",
        "        output, hidden = model.inference(data, hidden, temperature=TEMPERATURE)\n",
        "    return outputs\n",
        "\n",
        "def beam_sampling_strategy(sequence_length, beam_width, model, output, hidden, vocab):\n",
        "    outputs = []\n",
        "    beam = [([], output, hidden, 0)]\n",
        "    # 1. Initialize the beam list with the single existing empty beam\n",
        "    # 2. Repeat for the sequence length:\n",
        "    for ii in range(sequence_length):\n",
        "        temp = []\n",
        "        for b in beam:\n",
        "    #     1. For each beam in the beam list:\n",
        "    #         1. Compute the next distribution over the output space for that state\n",
        "    #         2. Sample from the distribution with replacement\n",
        "            sample = torch.multinomial(b[1][0][1:], beam_width, replacement=True) # for word tokens\n",
        "            # sample = torch.multinomial(b[1][0], beam_width, replacement=True)\n",
        "    #         3. For each sample:\n",
        "            for n in sample:\n",
        "    #             1. Compute its score\n",
        "                score = b[3] + b[1][0][n]\n",
        "                sequence = b[0].copy() # .detach().clone()?\n",
        "                # sequence.append(n)\n",
        "                sequence.append(n)\n",
        "                data = sequence[-1].to(device)\n",
        "                hidden = b[2].to(device)\n",
        "                # hidden_state = b[2][0].to(device) # for LSTM\n",
        "                # cell_state = b[2][1].to(device) # for LSTM\n",
        "                # hidden = (hidden_state, cell_state) # for LSTM\n",
        "                output, hidden = model.inference(data, hidden, temperature=TEMPERATURE)\n",
        "    #             2. Record its hidden state and chosen value\n",
        "                temp.append((sequence, output, hidden, score))\n",
        "    #         4. Add all the samples to the new beam list      \n",
        "    #     2. Rank the new beam list\n",
        "        temp.sort(key=lambda x: x[3], reverse=True)\n",
        "    #     3. Throw out all but the top N beams\n",
        "        beam = temp[:beam_width]\n",
        "    # 3. Return the top beam's chosen values.\n",
        "    outputs = beam[0][0]\n",
        "    return outputs\n",
        "\n",
        "\n",
        "def generate_language(model, device, seed_words, sequence_length, vocab, sampling_strategy='max', beam_width=BEAM_WIDTH):\n",
        "    model.eval()\n",
        "\n",
        "    with torch.no_grad():\n",
        "        # seed_words_arr = vocab.words_to_array(seed_words)\n",
        "        seed_words_arr = vocab.words_to_array(escape_data(seed_words)) # for word tokenization\n",
        "        # print(\"seed words array\", seed_words_arr)\n",
        "\n",
        "        # Computes the initial hidden state from the prompt (seed words).\n",
        "        hidden = None\n",
        "        for ind in seed_words_arr:\n",
        "            data = ind.to(device)\n",
        "            output, hidden = model.inference(data, hidden)\n",
        "            # print(\"output shape\", output.shape)\n",
        "        \n",
        "        if sampling_strategy == 'max':\n",
        "            outputs = max_sampling_strategy(sequence_length, model, output, hidden, vocab)\n",
        "\n",
        "        elif sampling_strategy == 'sample':\n",
        "            outputs = sample_sampling_strategy(sequence_length, model, output, hidden, vocab)\n",
        "\n",
        "        elif sampling_strategy == 'beam':\n",
        "            outputs = beam_sampling_strategy(sequence_length, beam_width, model, output, hidden, vocab)\n",
        "\n",
        "\n",
        "        return vocab.array_to_words(seed_words_arr.tolist() + outputs)"
      ],
      "execution_count": null,
      "outputs": []
    },
    {
      "cell_type": "code",
      "metadata": {
        "id": "TGANoCEJUBJF",
        "colab": {
          "base_uri": "https://localhost:8080/"
        },
        "outputId": "5ab11b8e-6a50-4425-c6a1-6deb2cee9a6f"
      },
      "source": [
        "# Testing part 5 code\n",
        "data_train = HarryPotterDataset(DATA_PATH + 'harry_potter_chars_train.pkl', 10, 256)\n",
        "\n",
        "vocab = data_train.vocab\n",
        "\n",
        "# print(\"cuda is available\", torch.cuda.is_available())\n",
        "# device = torch.device(\"cpu\")\n",
        "device = torch.device(\"cuda\")\n",
        "\n",
        "model = HarryPotterNet(data_train.vocab_size(), 512).to(device)\n",
        "\n",
        "seed_words = 'The'\n",
        "\n",
        "generated_sentence = generate_language(model, device, seed_words, 10, vocab, 'beam') #can replace sample with whatever method you want to test\n",
        "\n",
        "print(\"generate\", generated_sentence)"
      ],
      "execution_count": null,
      "outputs": [
        {
          "output_type": "stream",
          "text": [
            "generate The~-z.bNNff=\n"
          ],
          "name": "stdout"
        }
      ]
    },
    {
      "cell_type": "code",
      "metadata": {
        "id": "3IMdVC_q0I-W",
        "colab": {
          "base_uri": "https://localhost:8080/"
        },
        "outputId": "8b537c1e-ab8b-4722-b721-df0343842e76"
      },
      "source": [
        "# Testing part 5 code for word  tokenization\n",
        "data_train = HarryPotterDataset(DATA_PATH + 'harry_potter_words_train.pkl', 10, 256)\n",
        "\n",
        "vocab = data_train.vocab\n",
        "\n",
        "# print(\"cuda is available\", torch.cuda.is_available())\n",
        "# device = torch.device(\"cpu\")\n",
        "device = torch.device(\"cuda\")\n",
        "\n",
        "model = HarryPotterNet(data_train.vocab_size(), 512).to(device)\n",
        "\n",
        "seed_words = 'The world!'\n",
        "\n",
        "generated_sentence = generate_language(model, device, seed_words, 10, vocab, 'max') #can replace sample with whatever method you want to test\n",
        "\n",
        "print(\"generate\", generated_sentence)"
      ],
      "execution_count": null,
      "outputs": [
        {
          "output_type": "stream",
          "text": [
            "generate the world ! desks muttered mopping map 17 generations foot twelfth bluntly banged \n"
          ],
          "name": "stdout"
        }
      ]
    },
    {
      "cell_type": "markdown",
      "metadata": {
        "id": "Havsk_RJi_i5"
      },
      "source": [
        "# Part 6: Training\n",
        "Again, we are providing training code for you. Have a look at the train function though as it implements the exact forward approximate backward computation, which may be of interest to you. You will still need to add the perplexity computation (read more in part 9 about how to do this)."
      ]
    },
    {
      "cell_type": "code",
      "metadata": {
        "id": "L0Wq8hRy0UEX"
      },
      "source": [
        "import tqdm\n",
        "def repackage_hidden(h):\n",
        "    \"\"\"Wraps hidden states in new Tensors, to detach them from their history.\"\"\"\n",
        "    if isinstance(h, torch.Tensor):\n",
        "        return h.detach()\n",
        "    else:\n",
        "        return tuple(repackage_hidden(v) for v in h)\n",
        "\n",
        "def train(model, device, optimizer, train_loader, lr, epoch, log_interval):\n",
        "    model.train()\n",
        "    losses = []\n",
        "    hidden = None\n",
        "    for batch_idx, (data, label) in enumerate(tqdm.tqdm(train_loader)):\n",
        "        data, label = data.to(device), label.to(device)\n",
        "        # Separates the hidden state across batches. \n",
        "        # Otherwise the backward would try to go all the way to the beginning every time.\n",
        "        if hidden is not None:\n",
        "            hidden = repackage_hidden(hidden)\n",
        "        optimizer.zero_grad()\n",
        "        output, hidden = model(data)\n",
        "        pred = output.max(-1)[1]\n",
        "        loss = model.loss(output, label)\n",
        "        losses.append(loss.item())\n",
        "        loss.backward()\n",
        "        optimizer.step()\n",
        "        if batch_idx % log_interval == 0:\n",
        "            print('Train Epoch: {} [{}/{} ({:.0f}%)]\\tLoss: {:.6f}'.format(\n",
        "                epoch, batch_idx * len(data), len(train_loader.dataset),\n",
        "                100. * batch_idx / len(train_loader), loss.item()))\n",
        "    return np.mean(losses)\n",
        "\n",
        "\n",
        "def test(model, device, test_loader):\n",
        "    model.eval()\n",
        "    test_loss = 0\n",
        "    correct = 0\n",
        "\n",
        "    with torch.no_grad():\n",
        "        hidden = None\n",
        "        for batch_idx, (data, label) in enumerate(test_loader):\n",
        "            data, label = data.to(device), label.to(device)\n",
        "            output, hidden = model(data, hidden)\n",
        "            test_loss += model.loss(output, label, reduction='mean').item()\n",
        "            pred = output.max(-1)[1]\n",
        "            correct_mask = pred.eq(label.view_as(pred))\n",
        "            num_correct = correct_mask.sum().item()\n",
        "            correct += num_correct\n",
        "            # Comment this out to avoid printing test results\n",
        "            if batch_idx % 10 == 0:\n",
        "                print('Input\\t%s\\nGT\\t%s\\npred\\t%s\\n\\n' % (\n",
        "                    test_loader.dataset.vocab.array_to_words(data[0]),\n",
        "                    test_loader.dataset.vocab.array_to_words(label[0]),\n",
        "                    test_loader.dataset.vocab.array_to_words(pred[0])))\n",
        "\n",
        "    test_loss /= len(test_loader)\n",
        "    test_accuracy = 100. * correct / (len(test_loader.dataset) * test_loader.dataset.sequence_length)\n",
        "\n",
        "    print('\\nTest set: Average loss: {:.4f}, Accuracy: {}/{} ({:.0f}%)\\n'.format(\n",
        "        test_loss, correct, len(test_loader.dataset) * test_loader.dataset.sequence_length,\n",
        "        100. * correct / (len(test_loader.dataset) * test_loader.dataset.sequence_length)))\n",
        "    print('\\nPerplexity\\n', np.exp(test_loss))\n",
        "    return test_loss, test_accuracy"
      ],
      "execution_count": null,
      "outputs": []
    },
    {
      "cell_type": "code",
      "metadata": {
        "id": "66T-Ylkg0fn1",
        "colab": {
          "base_uri": "https://localhost:8080/",
          "height": 1000
        },
        "outputId": "521e4c4b-246c-4c11-9963-82566ff873ff"
      },
      "source": [
        "def main():\n",
        "    SEQUENCE_LENGTH = 800\n",
        "    BATCH_SIZE = 256\n",
        "    FEATURE_SIZE = 512\n",
        "    TEST_BATCH_SIZE = 256\n",
        "    EPOCHS = 20\n",
        "    LEARNING_RATE = 0.002\n",
        "    WEIGHT_DECAY = 0.0005\n",
        "    USE_CUDA = True\n",
        "    PRINT_INTERVAL = 10\n",
        "    EXPERIMENT_VERSION = \"0.17\"\n",
        "    LOG_PATH = BASE_PATH + 'logs/' + EXPERIMENT_VERSION + '/'\n",
        "    LOG_FILE = \"log.pkl\"\n",
        "\n",
        "    data_train = HarryPotterDataset(DATA_PATH + 'harry_potter_chars_train.pkl', SEQUENCE_LENGTH, BATCH_SIZE)\n",
        "    data_test = HarryPotterDataset(DATA_PATH + 'harry_potter_chars_test.pkl', SEQUENCE_LENGTH, TEST_BATCH_SIZE)\n",
        "    vocab = data_train.vocab\n",
        "\n",
        "    use_cuda = USE_CUDA and torch.cuda.is_available()\n",
        "\n",
        "    device = torch.device(\"cuda\" if use_cuda else \"cpu\")\n",
        "    print('Using device', device)\n",
        "    import multiprocessing\n",
        "    num_workers = multiprocessing.cpu_count()\n",
        "    print('num workers:', num_workers)\n",
        "\n",
        "    kwargs = {'num_workers': num_workers,\n",
        "              'pin_memory': True} if use_cuda else {}\n",
        "\n",
        "    train_loader = torch.utils.data.DataLoader(data_train, batch_size=BATCH_SIZE,\n",
        "                                               shuffle=False, **kwargs)\n",
        "    test_loader = torch.utils.data.DataLoader(data_test, batch_size=TEST_BATCH_SIZE,\n",
        "                                              shuffle=False, **kwargs)\n",
        "\n",
        "    model = HarryPotterNet(data_train.vocab_size(), FEATURE_SIZE).to(device)\n",
        "\n",
        "    # Adam is an optimizer like SGD but a bit fancier. It tends to work faster and better than SGD.\n",
        "    # We will talk more about different optimization methods in class.\n",
        "    optimizer = optim.Adam(model.parameters(), lr=LEARNING_RATE, weight_decay=WEIGHT_DECAY)\n",
        "    start_epoch = model.load_last_model(LOG_PATH + 'checkpoints')\n",
        "\n",
        "    train_losses, test_losses, test_accuracies = pt_util.read_log(LOG_PATH + LOG_FILE, ([], [], []))\n",
        "    test_loss, test_accuracy = test(model, device, test_loader)\n",
        "\n",
        "    test_losses.append((start_epoch, test_loss))\n",
        "    test_accuracies.append((start_epoch, test_accuracy))\n",
        "\n",
        "    try:\n",
        "        for epoch in range(start_epoch, EPOCHS + 1):\n",
        "            lr = LEARNING_RATE * np.power(0.25, (int(epoch / 6)))\n",
        "            train_loss = train(model, device, optimizer, train_loader, lr, epoch, PRINT_INTERVAL)\n",
        "            test_loss, test_accuracy = test(model, device, test_loader)\n",
        "            train_losses.append((epoch, train_loss))\n",
        "            test_losses.append((epoch, test_loss))\n",
        "            test_accuracies.append((epoch, test_accuracy))\n",
        "            pt_util.write_log(LOG_PATH + LOG_FILE, (train_losses, test_losses, test_accuracies))\n",
        "            model.save_best_model(test_accuracy, LOG_PATH + 'checkpoints/%03d.pt' % epoch)\n",
        "            seed_words = 'Harry Potter, Voldemort, and Dumbledore walk into a bar. '\n",
        "            generated_sentence = generate_language(model, device, seed_words, 200, vocab, 'max')\n",
        "            print('generated max\\t\\t', generated_sentence)\n",
        "            for ii in range(10):\n",
        "                generated_sentence = generate_language(model, device, seed_words, 200, vocab, 'sample')\n",
        "                print('generated sample\\t', generated_sentence)\n",
        "            generated_sentence = generate_language(model, device, seed_words, 200, vocab, 'beam')\n",
        "            print('generated beam\\t\\t', generated_sentence)\n",
        "            print('')\n",
        "\n",
        "    except KeyboardInterrupt as ke:\n",
        "        print('Interrupted')\n",
        "    except:\n",
        "        import traceback\n",
        "        traceback.print_exc()\n",
        "    finally:\n",
        "        print('Saving final model')\n",
        "        model.save_model(LOG_PATH + 'checkpoints/%03d.pt' % epoch, 0)\n",
        "        ep, val = zip(*train_losses)\n",
        "        pt_util.plot(ep, val, 'Train loss', 'Epoch', 'Error')\n",
        "        ep, val = zip(*np.exp(train_losses))\n",
        "        pt_util.plot(ep, val, 'Train Perplexity', 'Epoch', 'Error')\n",
        "        ep, val = zip(*test_losses)\n",
        "        pt_util.plot(ep, val, 'Test loss', 'Epoch', 'Error')\n",
        "        ep, val = zip(*np.exp(test_losses))\n",
        "        pt_util.plot(ep, val, 'Test Perplexity', 'Epoch', 'Error')\n",
        "        ep, val = zip(*test_accuracies)\n",
        "        pt_util.plot(ep, val, 'Test accuracy', 'Epoch', 'Error')\n",
        "        return model, vocab, device\n",
        "\n",
        "final_model, vocab, device = main()"
      ],
      "execution_count": null,
      "outputs": [
        {
          "output_type": "stream",
          "text": [
            "Using device cuda\n",
            "num workers: 2\n",
            "Restoring:\n",
            "encoder.weight -> \ttorch.Size([89, 512]) = 0MB\n",
            "gru.weight_ih_l0 -> \ttorch.Size([1536, 512]) = 3MB\n",
            "gru.weight_hh_l0 -> \ttorch.Size([1536, 512]) = 3MB\n",
            "gru.bias_ih_l0 -> \ttorch.Size([1536]) = 0MB\n",
            "gru.bias_hh_l0 -> \ttorch.Size([1536]) = 0MB\n",
            "lstm.weight_ih_l0 -> \ttorch.Size([2048, 512]) = 4MB\n",
            "lstm.weight_hh_l0 -> \ttorch.Size([2048, 512]) = 4MB\n",
            "lstm.bias_ih_l0 -> \ttorch.Size([2048]) = 0MB\n",
            "lstm.bias_hh_l0 -> \ttorch.Size([2048]) = 0MB\n",
            "lstm.weight_ih_l1 -> \ttorch.Size([2048, 512]) = 4MB\n",
            "lstm.weight_hh_l1 -> \ttorch.Size([2048, 512]) = 4MB\n",
            "lstm.bias_ih_l1 -> \ttorch.Size([2048]) = 0MB\n",
            "lstm.bias_hh_l1 -> \ttorch.Size([2048]) = 0MB\n",
            "decoder.weight -> \ttorch.Size([89, 512]) = 0MB\n",
            "decoder.bias -> \ttorch.Size([89]) = 0MB\n",
            "\n",
            "Restored all variables\n",
            "No new variables\n",
            "Restored /gdrive/My Drive/colab_files/hw2/logs/0.17/checkpoints/020.pt\n",
            "Input\tonly way left to get water, because Voldemort had planned it so ... He flung himself over to the edge of the rock and plunged the goblet into the lake, bringing it up full to the brim of icy water that did not vanish. \"Sir -- here!\" Harry yelled, and lunging forward, he tipped the water clumsily over Dumbledores face. It was the best he could do, for the icy feeling on his arm not holding the cup was not the lingering chill of the water. A slimy white hand had gripped his wrist, and the creature to whom it be-longed was pulling him, slowly, backward across the rock. The sur-face of the lake was no longer mirror-smooth; it was churning, and everywhere Harry looked, white heads and hands were emerging from the dark water, men and women and children with sunken, sightless eyes were moving tow\n",
            "GT\tnly way left to get water, because Voldemort had planned it so ... He flung himself over to the edge of the rock and plunged the goblet into the lake, bringing it up full to the brim of icy water that did not vanish. \"Sir -- here!\" Harry yelled, and lunging forward, he tipped the water clumsily over Dumbledores face. It was the best he could do, for the icy feeling on his arm not holding the cup was not the lingering chill of the water. A slimy white hand had gripped his wrist, and the creature to whom it be-longed was pulling him, slowly, backward across the rock. The sur-face of the lake was no longer mirror-smooth; it was churning, and everywhere Harry looked, white heads and hands were emerging from the dark water, men and women and children with sunken, sightless eyes were moving towa\n",
            "pred\tr y wes todt th het teser, Hufause holdemort had teacsed tn wemm.. .a weetg oisself ifer th hhe fnge of the seokwwnd soanc d toemcrllet onto the sise  wueng ng tn wp aoll oo she feoglof tte,oascr,thet tednnot seryshe TIorii  ye e \" serry selled  and Henc ng torward  bo woppid ioe sascr toetb,ny,sner tumbledore ,srce  \"t was ahe oest pe wauldnnew bor the snl,solting of tis fnmsaet taseeng the sop ais sot boe sake rsng aleleeon she sascr  \" tuide oeachrhadd wed toen ed tis haitte gnd hhe gooateredoo hee eat wefgoog , tis satleng fis  coiwly, auck ardstnkoss the weok  Hhe whreeacedof the sase wes aotbing r aaseeu.s.aonhe hn was olomiing  and txerytaere serry sooked  ahochrsear  ond wedde oere bneryeeg trom the sork oiser, boatsnd seua tbnd bleldeoydtith htbc n  wennt y   lyes were sereng th a\n",
            "\n",
            "\n"
          ],
          "name": "stdout"
        },
        {
          "output_type": "stream",
          "text": [
            "\r  0%|          | 0/25 [00:00<?, ?it/s]"
          ],
          "name": "stderr"
        },
        {
          "output_type": "stream",
          "text": [
            "\n",
            "Test set: Average loss: 1.6074, Accuracy: 784515/1433600 (55%)\n",
            "\n",
            "\n",
            "Perplexity\n",
            " 4.989809384695642\n"
          ],
          "name": "stdout"
        },
        {
          "output_type": "stream",
          "text": [
            "\r  0%|          | 0/25 [00:00<?, ?it/s]\n"
          ],
          "name": "stderr"
        },
        {
          "output_type": "stream",
          "text": [
            "Interrupted\n",
            "Saving final model\n",
            "Saved /gdrive/My Drive/colab_files/hw2/logs/0.17/checkpoints/020.pt\n",
            "\n"
          ],
          "name": "stdout"
        },
        {
          "output_type": "display_data",
          "data": {
            "image/png": "[encoded data removed]",
            "text/plain": [
              "<Figure size 1440x720 with 1 Axes>"
            ]
          },
          "metadata": {
            "tags": [],
            "needs_background": "light"
          }
        },
        {
          "output_type": "display_data",
          "data": {
            "image/png": "[encoded data removed]",
            "text/plain": [
              "<Figure size 1440x720 with 1 Axes>"
            ]
          },
          "metadata": {
            "tags": [],
            "needs_background": "light"
          }
        },
        {
          "output_type": "display_data",
          "data": {
            "image/png": "[encoded data removed]",
            "text/plain": [
              "<Figure size 1440x720 with 1 Axes>"
            ]
          },
          "metadata": {
            "tags": [],
            "needs_background": "light"
          }
        },
        {
          "output_type": "display_data",
          "data": {
            "image/png": "[encoded data removed]",
            "text/plain": [
              "<Figure size 1440x720 with 1 Axes>"
            ]
          },
          "metadata": {
            "tags": [],
            "needs_background": "light"
          }
        },
        {
          "output_type": "display_data",
          "data": {
            "image/png": "[encoded data removed]",
            "text/plain": [
              "<Figure size 1440x720 with 1 Axes>"
            ]
          },
          "metadata": {
            "tags": [],
            "needs_background": "light"
          }
        }
      ]
    },
    {
      "cell_type": "code",
      "metadata": {
        "id": "NOJBPsAm4wO5",
        "colab": {
          "base_uri": "https://localhost:8080/",
          "height": 1000
        },
        "outputId": "1afde621-fd05-4c6e-bdcc-e2f3dc5bdc12"
      },
      "source": [
        "# Word tokenization training\n",
        "def main():\n",
        "    SEQUENCE_LENGTH = 50\n",
        "    BATCH_SIZE = 512\n",
        "    FEATURE_SIZE = 512\n",
        "    TEST_BATCH_SIZE = 512\n",
        "    EPOCHS = 10\n",
        "    LEARNING_RATE = 0.002\n",
        "    WEIGHT_DECAY = 0.0005\n",
        "    USE_CUDA = True\n",
        "    PRINT_INTERVAL = 10\n",
        "    EXPERIMENT_VERSION = \"1.8\"\n",
        "    LOG_PATH = BASE_PATH + 'logs/' + EXPERIMENT_VERSION + '/'\n",
        "    LOG_FILE = \"log.pkl\"\n",
        "\n",
        "    data_train = HarryPotterDataset(DATA_PATH + 'harry_potter_words_train.pkl', SEQUENCE_LENGTH, BATCH_SIZE)\n",
        "    data_test = HarryPotterDataset(DATA_PATH + 'harry_potter_words_test.pkl', SEQUENCE_LENGTH, TEST_BATCH_SIZE)\n",
        "    vocab = data_train.vocab\n",
        "\n",
        "    use_cuda = USE_CUDA and torch.cuda.is_available()\n",
        "\n",
        "    device = torch.device(\"cuda\" if use_cuda else \"cpu\")\n",
        "    print('Using device', device)\n",
        "    import multiprocessing\n",
        "    num_workers = multiprocessing.cpu_count()\n",
        "    print('num workers:', num_workers)\n",
        "\n",
        "    kwargs = {'num_workers': num_workers,\n",
        "              'pin_memory': True} if use_cuda else {}\n",
        "\n",
        "    train_loader = torch.utils.data.DataLoader(data_train, batch_size=BATCH_SIZE,\n",
        "                                               shuffle=False, **kwargs)\n",
        "    test_loader = torch.utils.data.DataLoader(data_test, batch_size=TEST_BATCH_SIZE,\n",
        "                                              shuffle=False, **kwargs)\n",
        "\n",
        "    model = HarryPotterNet(data_train.vocab_size(), FEATURE_SIZE).to(device)\n",
        "\n",
        "    # Adam is an optimizer like SGD but a bit fancier. It tends to work faster and better than SGD.\n",
        "    # We will talk more about different optimization methods in class.\n",
        "    optimizer = optim.Adam(model.parameters(), lr=LEARNING_RATE, weight_decay=WEIGHT_DECAY)\n",
        "    start_epoch = model.load_last_model(LOG_PATH + 'checkpoints')\n",
        "\n",
        "    train_losses, test_losses, test_accuracies = pt_util.read_log(LOG_PATH + LOG_FILE, ([], [], []))\n",
        "    test_loss, test_accuracy = test(model, device, test_loader)\n",
        "\n",
        "    test_losses.append((start_epoch, test_loss))\n",
        "    test_accuracies.append((start_epoch, test_accuracy))\n",
        "\n",
        "    try:\n",
        "        for epoch in range(start_epoch, EPOCHS + 1):\n",
        "            lr = LEARNING_RATE * np.power(0.25, (int(epoch / 6)))\n",
        "            train_loss = train(model, device, optimizer, train_loader, lr, epoch, PRINT_INTERVAL)\n",
        "            test_loss, test_accuracy = test(model, device, test_loader)\n",
        "            train_losses.append((epoch, train_loss))\n",
        "            test_losses.append((epoch, test_loss))\n",
        "            test_accuracies.append((epoch, test_accuracy))\n",
        "            pt_util.write_log(LOG_PATH + LOG_FILE, (train_losses, test_losses, test_accuracies))\n",
        "            model.save_best_model(test_accuracy, LOG_PATH + 'checkpoints/%03d.pt' % epoch)\n",
        "            seed_words = 'Harry Potter, Voldemort, and Dumbledore walk into a bar. '\n",
        "            generated_sentence = generate_language(model, device, seed_words, 200, vocab, 'max')\n",
        "            print('generated max\\t\\t', generated_sentence)\n",
        "            for ii in range(10):\n",
        "                generated_sentence = generate_language(model, device, seed_words, 200, vocab, 'sample')\n",
        "                print('generated sample\\t', generated_sentence)\n",
        "            generated_sentence = generate_language(model, device, seed_words, 200, vocab, 'beam')\n",
        "            print('generated beam\\t\\t', generated_sentence)\n",
        "            print('')\n",
        "\n",
        "    except KeyboardInterrupt as ke:\n",
        "        print('Interrupted')\n",
        "    except:\n",
        "        import traceback\n",
        "        traceback.print_exc()\n",
        "    finally:\n",
        "        print('Saving final model')\n",
        "        model.save_model(LOG_PATH + 'checkpoints/%03d.pt' % epoch, 0)\n",
        "        ep, val = zip(*train_losses)\n",
        "        pt_util.plot(ep, val, 'Train loss', 'Epoch', 'Error')\n",
        "        ep, val = zip(*np.exp(train_losses))\n",
        "        pt_util.plot(ep, val, 'Train Perplexity', 'Epoch', 'Error')\n",
        "        ep, val = zip(*test_losses)\n",
        "        pt_util.plot(ep, val, 'Test loss', 'Epoch', 'Error')\n",
        "        ep, val = zip(*np.exp(test_losses))\n",
        "        pt_util.plot(ep, val, 'Test Perplexity', 'Epoch', 'Error')\n",
        "        ep, val = zip(*test_accuracies)\n",
        "        pt_util.plot(ep, val, 'Test accuracy', 'Epoch', 'Error')\n",
        "        return model, vocab, device\n",
        "\n",
        "final_model, vocab, device = main()"
      ],
      "execution_count": null,
      "outputs": [
        {
          "output_type": "stream",
          "text": [
            "Using device cuda\n",
            "num workers: 2\n",
            "Input\tglass to his lips - - but it was empty . dumbledore groaned and began to <unknown> . \" but i had some - - wait - - aguamenti ! \" said harry again , pointing his wand at the goblet . once more , for a second , clear \n",
            "GT\tto his lips - - but it was empty . dumbledore groaned and began to <unknown> . \" but i had some - - wait - - aguamenti ! \" said harry again , pointing his wand at the goblet . once more , for a second , clear <unknown> \n",
            "pred\tpillowcase baubles summer comical towards misery thundering wastepaper werewolves perch warning magnificently lament everythin leading insisted maliciously sensed tle thundering gazed voiced hem blaze snatched legilimens snatched hippogriff enforcement maze defenses department contorted conquer strongly translation improving deliberately thestral encouragingly momentarily sensed perched swish jeers alerted lurching everlasting see thwarted \n",
            "\n",
            "\n"
          ],
          "name": "stdout"
        },
        {
          "output_type": "stream",
          "text": [
            "\r  0%|          | 0/45 [00:00<?, ?it/s]"
          ],
          "name": "stderr"
        },
        {
          "output_type": "stream",
          "text": [
            "Input\t. dumbledore groaned and began to <unknown> . \" but i had some - - wait - - aguamenti ! \" said harry again , pointing his wand at the goblet . once more , for a second , clear <unknown> - ter gleamed within it , but as he \n",
            "GT\tdumbledore groaned and began to <unknown> . \" but i had some - - wait - - aguamenti ! \" said harry again , pointing his wand at the goblet . once more , for a second , clear <unknown> - ter gleamed within it , but as he approached \n",
            "pred\tslunk magnificently spoke winding leading insisted maliciously sensed tle thundering gazed voiced hem blaze snatched legilimens snatched hippogriff enforcement maze defenses department contorted conquer strongly translation improving deliberately thestral encouragingly momentarily sensed perched swish jeers alerted lurching everlasting see thwarted maliciously snatched fortunately handled signs panicked bookcases lengths appeal scattered \n",
            "\n",
            "\n",
            "\n",
            "Test set: Average loss: 25.2597, Accuracy: 14/307200 (0%)\n",
            "\n",
            "\n",
            "Perplexity\n",
            " 93358672290.14134\n"
          ],
          "name": "stdout"
        },
        {
          "output_type": "stream",
          "text": [
            "\r  2%|▏         | 1/45 [00:00<00:18,  2.37it/s]"
          ],
          "name": "stderr"
        },
        {
          "output_type": "stream",
          "text": [
            "Train Epoch: 0 [0/23040 (0%)]\tLoss: 25.146797\n"
          ],
          "name": "stdout"
        },
        {
          "output_type": "stream",
          "text": [
            " 24%|██▍       | 11/45 [00:03<00:11,  2.94it/s]"
          ],
          "name": "stderr"
        },
        {
          "output_type": "stream",
          "text": [
            "Train Epoch: 0 [5120/23040 (22%)]\tLoss: 11.942021\n"
          ],
          "name": "stdout"
        },
        {
          "output_type": "stream",
          "text": [
            " 47%|████▋     | 21/45 [00:07<00:08,  2.92it/s]"
          ],
          "name": "stderr"
        },
        {
          "output_type": "stream",
          "text": [
            "Train Epoch: 0 [10240/23040 (44%)]\tLoss: 7.935294\n"
          ],
          "name": "stdout"
        },
        {
          "output_type": "stream",
          "text": [
            " 69%|██████▉   | 31/45 [00:10<00:04,  2.89it/s]"
          ],
          "name": "stderr"
        },
        {
          "output_type": "stream",
          "text": [
            "Train Epoch: 0 [15360/23040 (67%)]\tLoss: 6.431673\n"
          ],
          "name": "stdout"
        },
        {
          "output_type": "stream",
          "text": [
            " 91%|█████████ | 41/45 [00:14<00:01,  2.87it/s]"
          ],
          "name": "stderr"
        },
        {
          "output_type": "stream",
          "text": [
            "Train Epoch: 0 [20480/23040 (89%)]\tLoss: 5.731916\n"
          ],
          "name": "stdout"
        },
        {
          "output_type": "stream",
          "text": [
            "100%|██████████| 45/45 [00:15<00:00,  2.90it/s]\n"
          ],
          "name": "stderr"
        },
        {
          "output_type": "stream",
          "text": [
            "Input\tglass to his lips - - but it was empty . dumbledore groaned and began to <unknown> . \" but i had some - - wait - - aguamenti ! \" said harry again , pointing his wand at the goblet . once more , for a second , clear \n",
            "GT\tto his lips - - but it was empty . dumbledore groaned and began to <unknown> . \" but i had some - - wait - - aguamenti ! \" said harry again , pointing his wand at the goblet . once more , for a second , clear <unknown> \n",
            "pred\tpainful selected back back back back menacing was too . harry ' ' ' to his . \" he he ' don don don <unknown> . <unknown> <unknown> <unknown> \" harry harry . , and at at at the ' . master he he he the of he he entire \n",
            "\n",
            "\n",
            "Input\t. dumbledore groaned and began to <unknown> . \" but i had some - - wait - - aguamenti ! \" said harry again , pointing his wand at the goblet . once more , for a second , clear <unknown> - ter gleamed within it , but as he \n",
            "GT\tdumbledore groaned and began to <unknown> . \" but i had some - - wait - - aguamenti ! \" said harry again , pointing his wand at the goblet . once more , for a second , clear <unknown> - ter gleamed within it , but as he approached \n",
            "pred\the he toadlike could to his . \" he they don don don don \" . <unknown> <unknown> <unknown> \" harry harry , , and at at at the ' . master he he he the of he he entire of \" <unknown> . . . his i he could \n",
            "\n",
            "\n",
            "\n",
            "Test set: Average loss: 7.9575, Accuracy: 38453/307200 (13%)\n",
            "\n",
            "\n",
            "Perplexity\n",
            " 2856.9986286265557\n",
            "Saved /gdrive/My Drive/colab_files/hw2/logs/1.8/checkpoints/000.pt\n",
            "\n",
            "generated max\t\t harry potter , voldemort , and dumbledore walk into a bar . bounded potter dursley dursley ability stubefy green menacing id lumps drills shed heaven travels folds gateway glinting daylight daylight daylight zey patchwork powerless skulls levels levels escaped jam struck struck packing tortured phineas shudder ministry dramatic mounted shrieking unwanted found disgust ghoul vein shrill crisp companions curtain gateway disgust patchy serious involved dart involved involved satin incorporating tonks shudder dursley dursley ability armful fumbled yelled giggling potter ouch rearranged axe potter dummy animals animals meet police police las greasy greasy intensified knitted turrets discussed secretary hestia determination embrace lovely limb balance limb inclined sigh decided rescued dead mr mr imperiused reflecting d jokes pull created imprisoning however dursley ability armful convincing confide gain reaching locker faked shawl screaming interviewed twitch shudder apply dursley accident vanishing vanishing cores stepping countless dealt countless cunning dealt sofa bravery earth pursued bella included pamphlet bravely vance \\) inhabited kitchens karkaroff karkaroff aquiver aquiver suppress problems related related ginger hopping noiselessly noticed clattering towered reproachfully hold hold hold sticky book book hold hold build hold long hag potter dursley dursley , useful potter dursley form zey zey zey zey eye eye pinning proceeded impulse belongs crackled impulse change sensitive cheese bear mason displaying shrivelfig wrongly \n",
            "generated sample\t harry potter , voldemort , and dumbledore walk into a bar . head thief involved spying onion crackled bellatrix mr mr reflecting reflecting d jokes trouble fast useful trouble potter attacks trouble emotions potter reasons potter descend dursley ability stubefy locks worked worked potter receiver grandparents charred ah dummy overheard guarantee delight separately stillness pucey niche bullet telephone fastened scampered educational went chair concluded detentions cackled introduce glove dabbed dursley grilles high everywhere formidable barman ban second host billowing says sagged chuck sweets clearer examinations glazed what moment sorcerer executioner executioner glassy rita rita rita rita rita rita rita rita rita aha aha drooling bird mending mr reflecting reflecting wants key powerfully flowers shudder marquee separate ugly bits hissing screaming accused potter descend commentary erupt making resume woke musta etc pinning bickering sweating span i i i town unscathed mr mr mr reflecting reflecting jerked stealing ex allowing fit unfortunately fourteenth dursley persuade , hover involved involved involved exceeds bear hoops research scratch stepped describing packing mouthed resulted lowered hidin choose cheerfully choose bared rattled closely themselves themselves themselves themselves themselves themselves themselves simply wife hitting stupefied stinging vapor hardly norbert saturday picturing wary wary wretched jolt moment meeting guard desperately awkwardly arrival elf upright knocker result forgive coils celebration former honest \n",
            "generated sample\t harry potter , voldemort , and dumbledore walk into a bar . bounded light swerved brother junk spying onion perce dursley dursley zey soften zey zey newspaper thestral ninety retreated p dangerously drowned folds dursley wands thundering leaves euphoria hasn sorcerer noble paws litter strained seems potter mind mr mr reflecting reflecting hold sticky authority inky thief descend therefore incapable ready ready potter potter dummy menacing smoothed games bones silently salamander bowtruckles yellow yellow ve too merry deepest testing wordlessly never sight envelopes feast head arrested jogging headed adopted riot feat smugness lower filch filch filch filch filch filch filch restlessly fixedly fixedly vapor ld tottered brushed sigh , ouch grey certainly didn didn didn didn didn didn didn didn didn didn didn child didn didn didn didn didn didn didn didn didn didn didn didn didn didn didn didn child didn didn didn didn didn didn didn child didn didn didn didn didn didn didn didn child hillside surveyed didn didn didn didn didn didn didn didn didn didn didn didn didn child didn didn didn didn didn didn pardon didn didn didn didn didn didn didn child didn didn didn didn didn didn didn didn didn didn pardon didn child didn didn didn didn didn didn didn pardon didn didn \n",
            "generated sample\t harry potter , voldemort , and dumbledore walk into a bar . bounded surface , potter potter dursley dursley , drills , drills commentating impression holly file realization bounds landscape britain camping weirdly detached reluctantly mustn moonstone jewel option , worms halfway preferred quest dean mr mr reflecting reflecting d swallowing rearing swimming meet faster previously state overnight hoarsely disarm invite hurting cursing grinding deserved three twelve dursley , quickly severus zey zey zey zey weekly square kidding d droppings sprint miraculously crossly climb swearing bore dim wrought creepy etc landlord reproachfully nursing reproachfully biography hairpin flowered partners unfogging complaints dais twist pounding classrooms overcoat hat paces morale continued prickled ribs underage creaked praise desperately thirteenth steeply thinking tied hold owlery biography decision decision holds poked disapproval temper referring flatten hooting ad accused stared flinging happens house house underground yelled receive rub bully conversing gruesome weasley weasley whooping wall years mr mr reflecting d meetings grow meetings skipping symbols photographs by scratch describing slide block visiting patting plate loaf planets delivering translation compass circling serious paragraph sought sorcery confusing grope player stem last last claim hunt sign juice jumping proud proud proud taut rude greet shudder dursley restriction darkness whipping generally breeding rita rita rita rita rita rita rita rita add chandelier \n",
            "generated sample\t harry potter , voldemort , and dumbledore walk into a bar . quickly modest ministry myself surge thrusting clock blacks savoring plan emerged fumbled messing craning attended dawlish regret gesture dormitories forwards entered defensive teach trickle invite ago toe april , flushed tapped churning met hike went custard raging sir levski unfocused mr mr reflecting reflecting d mastered work your game weather involved involved years insect forwards grinding bear takin poked warnings was enable several moment tampered arrival trapdoor alerted lake days sunshine older cheese eve discovering fan greenish involved involved robe awe inhabited nest say dursley surname useful dursley throats camping parents wisdom greeted poke soul <unknown> dropping two april proud proud proud taut eyed toe accio gulp restriction gulp mr mr reflecting reflecting age blue stricken opals loony loony greeting eagerly hideout hideout johnson fed gulping speaks potterwatch energy , , walls grumpily potter potter mr mr reflecting mr reflecting reflecting d jerked contrast lumps offensive rule ticked listeners ascended ignotus potter potter regularly had flopped gro convincing clipping whizzed supplies missed retreating raspberry shakily amazement reply number number number number number number number number number number number number number number number number number darkness darkness swim number number number number number number number number number number number number number \n",
            "generated sample\t harry potter , voldemort , and dumbledore walk into a bar . flapped introduce sorcerer proud proud proud taut toe proud shudder lumbered skiing shudder marchbanks pointedly prospect quick blasting keeps hopeless nowhere wood told interfering seen parents enclosure raucous proper hurled flinging troubles farther climbed vigorously signature fifty biscuits average everywhere collar stationary ministry ending contracted reluctantly boa rigid mr mr reflecting mastered linger slam slam extreme useful potter dursley dursley throats dummy airy loathed rescued leathery curl lot happy compost snow fathers melted means witches potter grew destroyed mr mr reflecting reflecting d quavering pie rufus skinned mcgonagall regulation missed potter coursing dumble name dursley land dursley flicked dungeons hearts candlelight dursley ter laughter forms chattering sizes hideout proving emitting merry only raised screen wolf distinct lot limbs proudly complaints scabbers dais lot ooh ooh teeming ministry scurrying excellent insides picking are padma involved involved dudders involved perusing slumping waxy immortal phineas rotting cling cling biggest biggest there style jordan glory manic walk searched fairly soar silent paws skinned photograph tottenham potter chucked bewilderment protective fluffy enthusiastic leering contented willing willing hastily unnaturally supporters favorite overcoat linger counting intensified whereas so fee flicked milky milky wavy mice plan gun cramped father oblivious entrances podmore custard abashed bits , endured met \n",
            "generated sample\t harry potter , voldemort , and dumbledore walk into a bar . boil dursley deny straw stretching jealous agree scratch oliver share reporter bright comprised guarantee perusing ern choosing flying window kicked identity bit film johnson glittered thinking rained possessed hut portly wolf song handed huddled pulling ruffled rearranged sometime mince around neck sorcerer moves weakened pheasant pheasant widdershins transfiguration animagi stooped animagi daylight daylight we terrible terrible supposed proud proud proud taut proud tedious venom spiraling spiraling hear wearing firing none none , daresay fireplaces nuthin none , toe , potter drills mr mr mr reflecting reflecting d potter jokes wake mr causing mr reflecting reflecting d quavering smuggle though k hold useful created flowery etc measure rammed twitch shudder thestral thestral thestral polish bite sky searched reporter mudbloods properties option exceeds farewell outskirts dursley execution expert helplessly above seen inter angrily weaving dursley throats limit gentleman enormous vanishing prowling glassy ownership knees urge spent awed perched atrium insect mouth priority trotted tilted odds bobbing pumpkins seen seen hairpin involved cheek spat dissolving poltergeist cling haunted chains pupil manners inserted aid tentacula mermish say imprisoning families rule bewildered fragile expelled tapped hesitation dursley rings toes hedwig army aiming bows awful homemade betrayal cleaner cleaner tonic groan schemes involved involved exceeds they \n",
            "generated sample\t harry potter , voldemort , and dumbledore walk into a bar . report discover dursley prefers compass wide lay perusing worked thestrals tiny crunch appear pots realise anymore window window knobbly second dunno kissing enclosure disdainful advanced bravely vance dursley suit , potter commentating answered shudder apron shelter centaur tabby shudder dursley lumbered skiing dementors proud proud proud proud taut seal proud proud taut spying onion perce makes hood later pinching assistance chained intervened sizes mistaking criticizing so bellowed senior dursley ability armful someone trepidation sideboard mr mr reflecting d audience schools frail whirling examinations counter looks badger looks badger jealous carefully broomsticks warn simpering yeah dursley smart directly visitors reveal fingers stitches spectators scurrying worked painfully frustrated allowed puffs shudder circumstances shuffling shudder study dramatic blurted identify cruelty happier nonsense nonsense nonsense buildings inclining rearranged parkinson brilliantly attacks migh quest shuffling lick transported stored vacation beware beginning yell know poke jabbed pressed pressed 13 trap victim two doorknob subjected heated bulging gaunts shudder apparate orchestra mostly hopkirk cheeks whereabouts any mullet ado difficult potter nephew problem dursley dursley sweating <unknown> ability niffler bully wastepaper charms pillar incantations insides nightfall warlocks goldstein so dursley charms dursley pleasure encouraging daresay shine conditions relatives toe bathroom we tidy anger dursley shower sworn stared stared \n",
            "generated sample\t harry potter , voldemort , and dumbledore walk into a bar . gliding dursley tartan dursley wireless ability listen fumbled trifle screaming movements potter pumpkin listen dursley stubefy worked spying resemblance fit persuade upright spectators chance discussion sinus moment sorcerer pheasant responsibility delivered years mr mr reflecting d pull so diving record age offered snatch dursley , dursley ouch two flourishing awful contained obeyed obeyed armful bishop exercise rouse suspended dursley dursley nicholas dungeons hearts truth slumping elder realization losing trepidation padfoot locket end glum permanent albus albus equipment irritation put minded unlocked terribly shudder orchestra potions velvety velvety sit hunt plainer producing whistled wheezed pulling push weed strange strange strange party marvelous mr wound woke camera interruption savoring appropriate mommy occurred leaf shadows captioned unwrapping di fight yelped shawls private squeaking aim lookout tiredness ate plainly removing sure slouched dudley gun down grayish breed is sign refusing slughorn utmost proof knuts handbag igor tilting confiscate smoothing grumpily hermes executioner experiments executioner experiments tied redder conjure skirt and uh roberts boxing duelers swiftly hastily marry limbs reflected force gryffindors stirred dursley , sniffed niffler niffler shifted spoon introduce fruit aunt er er think night mom think night like leprechaun topped approvingly young dursley useful wise steely zey zey eye hangings murderous d \n",
            "generated sample\t harry potter , voldemort , and dumbledore walk into a bar . discover existence gliding 3 introduce tin boggart often earsplitting numb silk onlookers prey prey charged vampire charged wound bolted particular dursley repeatedly footsteps dursley ability throats supplied edge bye gravely writhing sat though engulfed plait damn ham picked woke warmth missed picked woke woke four blinked slipping potter potter potter dursley form inclining signs answered hilltop trunks tapped seen enclosure patronus vaulted vaulted inner feathery mouth waved onion unison dozing so forms wearing sizes proud proud proud rummaged faces spying fireplaces enjoyment ward steak doing iron hind wings listening plaque cradling pansy slave brooms bang dursley dursley ability worked ninth involved involved interrupted rocks crackled awoke hoods thrilled good erupt tortured lids ll sallow pushing making picked woke woke hopeful mouthed ensuring sniffing pinning dursley ability passes window proud proud proud proud thankfully knot jam horror cakes responsibility broke screaming interviewed ledge unison was was was was followed casting player dursley dursley ability hopelessly repeatedly involved noisily backed seen involved picked woke four stretch miracle internal win hurled hurled contain close frank praise proud proud proud proud taut spying spinner whiff revolting album wordlessly pretence fit feeble gossip malkin padfoot proudly dreamily tears duels honored lines guarantee doge transported imprisoning \n",
            "generated sample\t harry potter , voldemort , and dumbledore walk into a bar . sorcerer reminds thank thank thank grabbed blurted sought monitored met scored statement mr mr reflecting d d , work potter drills dursley dursley ability throats house pitched regurgitating seared seared disapparate bus sympathy everard potter young mr dursley ability air trailed denied bowtruckle , signing hedwig faces innumerable world swish yawned hold bigger remembered gas remembered news heights ready awkward picked dursleys hair think celebrated reasons elf certain paranoid noisily glorious ignorant rights fungi shape nearer vivid hook rats nonsense nuts surprisingly proud proud proud proud taut photograph sarcasm contained masks innumerable involved junior met shadowed seen seen seen shadowed seen shadowed seen seen piled boggart fit wrapped overcome them helplessly devil trotted mommy sucking drifting sucking mouthful dursley execution stubs food wasted strike textbook fog dish dervish fought dueling so because eyeball , words potter dursley potter dursley dursley ability throats transferred yellow entertaining rows disappearing adults n snackboxes en hints clothed ot lean china distance insistence cheese bear merry charged perusing keen throb factly feat ago toe vase impostor skrewts headlights flock steady pound thankfully pasty advisable cissy remained remained willing helpings willing pruning pruning pruning hill immensely sneered drink shuffling particularly aaaah relentless indicating privately wig forms \n"
          ],
          "name": "stdout"
        },
        {
          "output_type": "stream",
          "text": [
            "\r  0%|          | 0/45 [00:00<?, ?it/s]"
          ],
          "name": "stderr"
        },
        {
          "output_type": "stream",
          "text": [
            "generated beam\t\t harry potter , voldemort , and dumbledore walk into a bar . crest whooshing and oliver , potter dursley , <unknown> , and walls was that was ! saying \" shuddered overcome . later , walls , harry and trials , spent , potter and briskly , walls pinned , symbols , <unknown> and scruff was ho , as drills and was <unknown> incredibly , walls , because beak , desperation , proven dursley , nonsense potter , potter , potter , walls and was paused , <unknown> was there was was out , there was tearing , potter , wanted , and urged , , walls and spent , and caves was and sloped , johnson and mysterious ll so dursley , and discover , hater and reporter , skulls , walls , as deeply , and discover twist , counter seeker countryside potter dursley , walls , and and was crime , spent , forgetting and nonsense throb ' ' ' ' ' ' ' ' ' ' ' ' ' didn didn didn didn didn didn didn didn didn didn didn didn didn didn didn didn didn didn didn didn didn didn child fine cried paint resort discover instructions supplies resort services reasonable expectantly sucking stump foreign doxy squeak \n",
            "\n"
          ],
          "name": "stdout"
        },
        {
          "output_type": "stream",
          "text": [
            "\r  2%|▏         | 1/45 [00:00<00:21,  2.04it/s]"
          ],
          "name": "stderr"
        },
        {
          "output_type": "stream",
          "text": [
            "Train Epoch: 1 [0/23040 (0%)]\tLoss: 5.790575\n"
          ],
          "name": "stdout"
        },
        {
          "output_type": "stream",
          "text": [
            " 24%|██▍       | 11/45 [00:03<00:12,  2.79it/s]"
          ],
          "name": "stderr"
        },
        {
          "output_type": "stream",
          "text": [
            "Train Epoch: 1 [5120/23040 (22%)]\tLoss: 4.153566\n"
          ],
          "name": "stdout"
        },
        {
          "output_type": "stream",
          "text": [
            " 47%|████▋     | 21/45 [00:07<00:08,  2.78it/s]"
          ],
          "name": "stderr"
        },
        {
          "output_type": "stream",
          "text": [
            "Train Epoch: 1 [10240/23040 (44%)]\tLoss: 3.398915\n"
          ],
          "name": "stdout"
        },
        {
          "output_type": "stream",
          "text": [
            " 69%|██████▉   | 31/45 [00:11<00:05,  2.75it/s]"
          ],
          "name": "stderr"
        },
        {
          "output_type": "stream",
          "text": [
            "Train Epoch: 1 [15360/23040 (67%)]\tLoss: 3.336245\n"
          ],
          "name": "stdout"
        },
        {
          "output_type": "stream",
          "text": [
            " 91%|█████████ | 41/45 [00:14<00:01,  2.72it/s]"
          ],
          "name": "stderr"
        },
        {
          "output_type": "stream",
          "text": [
            "Train Epoch: 1 [20480/23040 (89%)]\tLoss: 3.548127\n"
          ],
          "name": "stdout"
        },
        {
          "output_type": "stream",
          "text": [
            "100%|██████████| 45/45 [00:16<00:00,  2.75it/s]\n"
          ],
          "name": "stderr"
        },
        {
          "output_type": "stream",
          "text": [
            "Input\tglass to his lips - - but it was empty . dumbledore groaned and began to <unknown> . \" but i had some - - wait - - aguamenti ! \" said harry again , pointing his wand at the goblet . once more , for a second , clear \n",
            "GT\tto his lips - - but it was empty . dumbledore groaned and began to <unknown> . \" but i had some - - wait - - aguamenti ! \" said harry again , pointing his wand at the goblet . once more , for a second , clear <unknown> \n",
            "pred\tjar ron ron . to to he ' <unknown> punched harry ' ' patches to his . \" harry harry ' been , <unknown> \" . <unknown> <unknown> <unknown> \" harry harry . . and at at at the look of \" he of he the <unknown> he he entire \n",
            "\n",
            "\n",
            "Input\t. dumbledore groaned and began to <unknown> . \" but i had some - - wait - - aguamenti ! \" said harry again , pointing his wand at the goblet . once more , for a second , clear <unknown> - ter gleamed within it , but as he \n",
            "GT\tdumbledore groaned and began to <unknown> . \" but i had some - - wait - - aguamenti ! \" said harry again , pointing his wand at the goblet . once more , for a second , clear <unknown> - ter gleamed within it , but as he approached \n",
            "pred\the had could it to his . \" \" they don been , <unknown> \" . <unknown> <unknown> <unknown> \" harry harry . . and at at at the look of \" he of he the <unknown> he he entire of <unknown> <unknown> yeh . . he he he could \n",
            "\n",
            "\n",
            "\n",
            "Test set: Average loss: 8.0039, Accuracy: 40491/307200 (13%)\n",
            "\n",
            "\n",
            "Perplexity\n",
            " 2992.6409426267737\n",
            "Saved /gdrive/My Drive/colab_files/hw2/logs/1.8/checkpoints/001.pt\n",
            "\n",
            "generated max\t\t harry potter , voldemort , and dumbledore walk into a bar . discover blonde saw and was was was and discover dursley , , useful potter dursley form zey zey moony moony ownership moony career bows awful strongly picked picked woke potter pucey blonde saw yelled wreck sleet mr mr mr reflecting gave was was was was knew was was knew discover dursley , , golgomath useful potter dursley dursley , , drills potter drills potter mr mr mr mr reflecting reflecting useful potter dursley dursley , , , drills potter ouch ouch ouch holes years mr mr mr reflecting mr reflecting gave useful potter dursley dursley dursley form otherwise potter mr mr mr reflecting reflecting useful potter potter dursley dursley form , drills drills ! drills gran hug though so tension posters brilliantly strangled strangled yawned fortescue mound roses spiral practicing boxing dungbomb discover discover spin crisp involved involved involved elongated drifting mind screaming dursley stretching useful dursley apology worked worked potter grandparents drills keeping baby decorations toward immortal change group window window window jealous bear bear stunned experimental dursley dursley ability sock sock diadem nonsense nonsense nonsense nonsense skipped nonsense nonsense grapefruit diminished mr mr mr mr ourselves mr ourselves learning involved involved involved involved involved blotts said involved said \n",
            "generated sample\t harry potter , voldemort , and dumbledore walk into a bar . spines twinkling grudge sir mound gregory , <unknown> , interviewed , horace craning craning scrawny sorcerer sorcerer answered hears shudder pause potter mr mr mr mr reflecting mr reflecting out , potter out , drills potter mr mr mr mr reflecting reflecting evasively out out , drills potter potter dursley dursley , , , , walls you scattered spying dais minor each moran record what nonsense nonsense stepping dueling propelled fur potter mr mr mr ourselves mr mr reflecting mr reflecting goyle authority potter potter signs potter palm dursley , , depths tempered didn didn didn sorcerer child marked didn didn at revolved expel expel mr mr mr mr ourselves mr mr reflecting gave was was was was collapsed followed pit , potter thank thank thank thank that that that drive that that that that that that that that that that that that that that that which which which which down seek plainly too pot hold hold sank mr mr mr reflecting mr mr reflecting gave compass potter hard mr mr mr reflecting jostled gentleman potter dursley dursley form ally otherwise loony loony found twisting dislike mean biography lights dursley eighteen dursley , sock hold hold hold hold hold bowed \n",
            "generated sample\t harry potter , voldemort , and dumbledore walk into a bar . carriage magnificent extendable obliged mr mr mr reflecting gave was useful was was knew say bags discover de apologetically dursley , , useful potter mr mr mr mr reflecting reflecting useful potter potter dursley dursley course , useful course potter drills leaflet intact mr mr mr mr mr reflecting reflecting gave you describing authority mr mr reflecting gave was was was was knew discover lashed discover ginger swore useful potter sorcerer sorcerer outer contented happening screaming lurch wizarding useful potter course mr mr mr mr ourselves mr mr ourselves learning out out , out , standing fault mr mr mr ourselves mr mr mr ourselves learning out out , out , out , , realize shuddered scratched dealing romilda brilliance mr mr mr reflecting mr reflecting reflecting useful potter swallowing dursley dursley , , volume window tantrum kitchens saw ward running met discover realize crowd head head scurried pressed forgetting dursley , , useful lived spying spying onion perce dursley , staring shield window window wearing chances jealous jealous lean proud proud proud proud proud proud spiraling toe toe mr mr mr mr mr reflecting reflecting gave seal drills potter potter dursley form feeble providing grief another harry harry sorcerer \n",
            "generated sample\t harry potter , voldemort , and dumbledore walk into a bar . discover realize regulus lashed trials ministry lump high met markings mr mr mr mr reflecting authority mr reflecting gave useful potter potter potter young bishop dursley , picked egypt plum potter much much supplies quill beady dwelling marquee importantly dais mr mr mr mr mr reflecting reflecting jostled hold hold hold hold hold hold hold breath twisting across and rufus picked picked woke potter wheel pucey exercise four four stretch four spent hold hold hold hold hold hold teddy bowed hold hold back hold hold back nails visitor visitor unnerved upset hill starving good gran hallway dursley dursley , tankard thumbs proud proud proud proud proud proud thumping toe sorcerer sorcerer mr mr mr reflecting mr reflecting reflecting goyle gave was was was was clearer there dursley , leering useful tornados met seen seen seen seen seen valentine vampires whizzed involved involved involved exceeds exceeds match mr mr mr mr reflecting cedric cedric cedric cedric cedric cedric cedric towers taunted jets swoop potter thinking right good off bore mr mr mr mr reflecting mr reflecting reflecting authority mr mr reflecting ungrateful potter descend scuttled ally potter potter dummy discussing tone menacing menacing harassed potter gotten limbs good grotesque seen seen \n",
            "generated sample\t harry potter , voldemort , and dumbledore walk into a bar . discover spin shining justice man blade watering shudder dursley writhed dursley torches rufus faking quill empty empty mullioned albus albus albus achievement wingardium albus albus albus albus albus wingardium albus albus albus wingardium albus albus albus albus wingardium re secretary v daresay puncture dursley dursley rooms held and and coward proud proud proud thrusting squarely bullfrog life center mr mr mr mr mr reflecting reflecting gave was was was knew was discover coffee dursley dursley , shelves lunatic snatchers bursts human somewhat mr mr mr reflecting reflecting gentleman scuttled potter beaded so drills drills potter egg keeping baby lilac hill fumbling murder fumbling fumbling bats greeting building manic found dinner bothered proud proud proud taut toe mr mr mr mr reflecting reflecting useful potter mr mr reflecting reflecting hoisted mr mr reflecting authority ungrateful useful potter course dursley course dursley , tampered inter fireside plastic , lived say say potter say potter dursley dursley stubefy decorations worked worked potter entire entire catastrophes immortality potter decorations half ready ready animagi mr mr mr mr ourselves ourselves impostor impostor clearer alerted involved involved involved mildly parties grounds dursley , , swerved off stepped potter dursley old ability grudge old accidents prodding prodding \n",
            "generated sample\t harry potter , voldemort , and dumbledore walk into a bar . discover blonde spectacles special charmed dursley dursley dursley instruments , miserable eventually think , bandaged , bells , patronum scrim shudder dursley dursley , colleagues squinted throats proud proud proud proud norbert enchantment fewer tion paced red sell tiptoed rumbling <unknown> cormac vanishing spying prickling shallow pan discover realize powerless perkins peg mr mr mr mr reflecting interview dursley , , useful potter course drills least toffee mr mr mr ourselves mr mr ourselves involved involved involved involved involved somebody formidable screaming towered stretching dursley useful interfere dursley hair think , picked binoculars otherwise dursley sworn dursley dursley throats sock nonsense nonsense nonsense happening screaming potter young useful potter young mr smuggle carelessly mr mr mr mr reflecting reflecting useful mr mr reflecting cedric cedric cedric cedric cedric cedric cedric cedric cedric cedric cedric cedric cedric cedric cedric alley cedric cedric stranger ignotus viktor viktor ignoring access ignoring access concluded , walls observed resembled surrounding karkaroff blonde saw was yelled tree and instrument mr mr mr reflecting cedric cedric cedric cedric cedric cedric cedric cedric meetings faults anguished him mr mr mr reflecting reflecting authority potter ungrateful potter mcgonagall hard potter ooh mcgonagall portly , course whose potter mr mr \n",
            "generated sample\t harry potter , voldemort , and dumbledore walk into a bar . realize discover realize blonde shape ward kid armful hook voiced thirty o o o sorcerer sorcerer bard bought and and enforcement rub johnson merope mr mr mr reflecting reflecting useful potter mr mr reflecting reflecting potter precautions dursley , , useful course dursley , , harpies somewhat reasonable reasonable anymore mood potter mr mr mr reflecting reflecting jostled gentleman potter edgecombe thank thank thank thank thank infusion tentacula thank tentacula that that that that that that that that that that that that that that that which which which which which tiniest cakes realize shape tested mentioned outline scroll aim mr mr mr reflecting cedric cedric cedric cedric cedric cedric cedric forbid floor chooses mcgonagall wonderful bun ensured former springing former branded stricken recognized shudder dursley dursley throats proud proud proud proud seemingly seemingly families noble falsely delight happening involved involved involved involved whirring amount thump pit complaining mr mr mr reflecting mr reflecting gave was was was dursley dursley otherwise dursley instruments support window years window showed , arthur pasty , drills potter mr mr mr mr ourselves outer ferociously meetings potter potter involved involved involved years showed witness sorcerer sorcerer envelope grawpy good good blank responsible mr mr cedric \n",
            "generated sample\t harry potter , voldemort , and dumbledore walk into a bar . elf gerroff have deny remarkable proud proud proud proud proud spiraling toe canceled mr mr mr mr mr reflecting reflecting gave was was was was knew was name clearer murmured say trunks involved involved involved blotts said dursley dursley , dipped picked woke potter potter dursley form drills drills ! metallic , walls daresay house saved gulping shudder dursley dursley dursley , , , ouch refusal drive silhouette sickening swipe potter dursley dursley , somewhat reasonable trustworthy sandwich blonde seen providing was was was knew diversion reach mr mr mr ourselves mr ourselves actions clutches outer mr mr mr mr reflecting useful potter mr mr reflecting compass potter mr mr mr reflecting jostled jostled gentleman index trays suspended briefcase dursley otherwise mr mr mr mr reflecting mr reflecting reflecting copy boiling , potter ouch potter dursley ouch ouch young tin tin properties sock overflowing differences skeeter seventh blonde peter well dursley , mock mr mr mr reflecting reflecting useful swapped potter dursley dursley dursley , , drills ouch drills suitable lean scathingly stinksap lasting pile jump found discover often ignored celebration mistaken erupted creepy particular dolores 6 dursley dursley nosed forehead regulus jealous carefully lot , daylight drink comfortably ago \n",
            "generated sample\t harry potter , voldemort , and dumbledore walk into a bar . nicolas exercise gently discover seamus entered and ve intensity stretching prodding doubt dursley , hundred dursley putting dread lifts bravely distorted appear is involved involved involved blotts said dursley dursley differences enable enable enable regulus tabby forgot hitting leafy neighbor and specially and unconcerned woke sell ooooh proud proud proud proud proud look temper mr mr reflecting reflecting useful plinth dursley useful potter course mr mr mr mr mr reflecting reflecting useful dursley dursley , potter course dursley confidence , ouch ouch rooms unseen lips hold hold hold hold hold hold hold bowed hold bowed hold hold hold hold back hold hold hold bowed hold hold visitor folds hold hold hold hold hold hold dunno hold deathstick worrying warm potter potter scattered mentioning arrival sore daggers involved involved years linger separate dursley , boy boy boy boy boy barman boy boy boy boy fastened portkey dirty mr mr mr reflecting mr reflecting useful potter out out , picked potter potter resign ladder form exceeds exceeds middle , nonsense nonsense happening , nonsense feast potter potter dursley , , thank thank thank thank thank binding appearance that that that that that that that that that that that satin powers euphoria controlling \n",
            "generated sample\t harry potter , voldemort , and dumbledore walk into a bar . discover realize crown proud proud proud spiraling taut st mr mr mr mr reflecting reflecting useful potter mr mr reflecting potter ooh , trouble potter potter potter walls , drills potter , walls observed seeker son dealing mr mr reflecting cedric cedric cedric cedric cedric cedric cedric cedric cedric possessor blinked wobbled swallow and <unknown> , <unknown> , hold hold hold hold hold lighting holly potter mr mr mr mr mr reflecting reflecting gave wasn was was was shouldered pool potter stubefy locks grandparents ooooh hold hold hold hold hold hold bowed hold hold hold hold hold ways mr mr mr mr mr reflecting imperiused potter measured , potter exercise develop satin mr mr mr reflecting reflecting gave unbalanced etc out counter out , dingy dingy dingy dingy git weaving driven and tank repair realize roses head head head found chasers driven hesitation hesitation thorough fingered drills lane prepare potter young dursley , , , spent useful potter dursley dursley form throb , , drills griffin tank onion involved involved involved involved exceeds blotts digging dursley dursley , , entire dursley dursley ability air armful fumbled met departed friday metallic say sorcerer sorcerer andromeda child trelawney child wanted cowardly cowardly \n",
            "generated sample\t harry potter , voldemort , and dumbledore walk into a bar . confederation flapped noticed clattering popping detail child reply damn roberts friendship hold hold hold hold hold hold hold evaporated deathstick deathstick ached cakes freak thank man comin dursley picked woke fumbled met make picked picked woke pucey wheel dance discussing courage bun jealous regretted dropping ablaze ho sparks mate happening proud proud proud proud spiraling seemingly mr mr mr reflecting reflecting useful potter mr mr reflecting authority cedric cedric cedric cedric cedric cedric cedric cedric cedric meetings mr mr reflecting reflecting jokes goyle mr mr mr mr reflecting mr reflecting reflecting gave authority potter involved arrivals window window bear potter dursley form mustn dursley podmore so drills forks forks kidnap young weren romilda sorcerer sorcerer shudder scrutinizing flourishing dursley dursley dursley form opening haff mr mr reflecting combined mr mr reflecting gave jokes useful dursley trouble trouble potter bishop potter dursley dursley form objection sneak isn sorcerer sorcerer sorcerer lighting toe doge potter mr mr mr mr reflecting reflecting authority potter descend thinking bawling zey dursley dursley , thank , thank thank thank that that that that that that which trepidation which which which which cried cakes baby decorations article paced silent mr mr mr mr reflecting reflecting trouble potter \n"
          ],
          "name": "stdout"
        },
        {
          "output_type": "stream",
          "text": [
            "\r  0%|          | 0/45 [00:00<?, ?it/s]"
          ],
          "name": "stderr"
        },
        {
          "output_type": "stream",
          "text": [
            "generated beam\t\t harry potter , voldemort , and dumbledore walk into a bar . throwing remains and discover realize shape was tempered , better , and greatest <unknown> , which <unknown> tin , <unknown> \" and <unknown> dursley , <unknown> dursley , and say useful mr dursley coach pansy , p apron dursley , entire dursley , , career , secretary , contemptuously , right ignorant , hermione and dursley , avoiding , as daylight and as daylight and noticed say markings winds word , lived mr mr mr mr reflecting reflecting and and out , hermione , middle , and that <unknown> , right , mysterious , potter dursley , <unknown> , and secretary , stair , diggory chance seen and was grunted and sweating <unknown> <unknown> breaths and bumped none , them discover , walls , and realize was sleepy narrowed mr mr mr reflecting reflecting and and out , useful referring familiar , useful mr mr mr mr reflecting and raging out , potter , potter potter , walls , you saying dursley , we will dug . <unknown> and was humans rejoin seen seen in and say mr mr ourselves mr ourselves ginger mr reflecting and <unknown> scowling , potter dursley , , <unknown> shoulder , \" mirror , potter \n",
            "\n"
          ],
          "name": "stdout"
        },
        {
          "output_type": "stream",
          "text": [
            "\r  2%|▏         | 1/45 [00:00<00:20,  2.14it/s]"
          ],
          "name": "stderr"
        },
        {
          "output_type": "stream",
          "text": [
            "Train Epoch: 2 [0/23040 (0%)]\tLoss: 4.128159\n"
          ],
          "name": "stdout"
        },
        {
          "output_type": "stream",
          "text": [
            " 24%|██▍       | 11/45 [00:04<00:12,  2.77it/s]"
          ],
          "name": "stderr"
        },
        {
          "output_type": "stream",
          "text": [
            "Train Epoch: 2 [5120/23040 (22%)]\tLoss: 2.493707\n"
          ],
          "name": "stdout"
        },
        {
          "output_type": "stream",
          "text": [
            " 47%|████▋     | 21/45 [00:07<00:08,  2.76it/s]"
          ],
          "name": "stderr"
        },
        {
          "output_type": "stream",
          "text": [
            "Train Epoch: 2 [10240/23040 (44%)]\tLoss: 1.787141\n"
          ],
          "name": "stdout"
        },
        {
          "output_type": "stream",
          "text": [
            " 69%|██████▉   | 31/45 [00:11<00:05,  2.76it/s]"
          ],
          "name": "stderr"
        },
        {
          "output_type": "stream",
          "text": [
            "Train Epoch: 2 [15360/23040 (67%)]\tLoss: 1.872988\n"
          ],
          "name": "stdout"
        },
        {
          "output_type": "stream",
          "text": [
            " 91%|█████████ | 41/45 [00:14<00:01,  2.74it/s]"
          ],
          "name": "stderr"
        },
        {
          "output_type": "stream",
          "text": [
            "Train Epoch: 2 [20480/23040 (89%)]\tLoss: 2.350339\n"
          ],
          "name": "stdout"
        },
        {
          "output_type": "stream",
          "text": [
            "100%|██████████| 45/45 [00:16<00:00,  2.74it/s]\n"
          ],
          "name": "stderr"
        },
        {
          "output_type": "stream",
          "text": [
            "Input\tglass to his lips - - but it was empty . dumbledore groaned and began to <unknown> . \" but i had some - - wait - - aguamenti ! \" said harry again , pointing his wand at the goblet . once more , for a second , clear \n",
            "GT\tto his lips - - but it was empty . dumbledore groaned and began to <unknown> . \" but i had some - - wait - - aguamenti ! \" said harry again , pointing his wand at the goblet . once more , for a second , clear <unknown> \n",
            "pred\tjar ron dried . to to he ' unfortunately punched harry ' ' me to homework . harry harry harry ' been at they \" on very <unknown> <unknown> harry harry harry . . and at at at the shabby of presented there of he the <unknown> apparated he entire \n",
            "\n",
            "\n",
            "Input\t. dumbledore groaned and began to <unknown> . \" but i had some - - wait - - aguamenti ! \" said harry again , pointing his wand at the goblet . once more , for a second , clear <unknown> - ter gleamed within it , but as he \n",
            "GT\tdumbledore groaned and began to <unknown> . \" but i had some - - wait - - aguamenti ! \" said harry again , pointing his wand at the goblet . once more , for a second , clear <unknown> - ter gleamed within it , but as he approached \n",
            "pred\tthey could could repaired to yer . \" harry harry don been at they they on twist <unknown> <unknown> harry harry harry and . and at at at the shabby of presented there of he the <unknown> apparated he entire entire they say yeh with . he i they could \n",
            "\n",
            "\n",
            "\n",
            "Test set: Average loss: 8.7252, Accuracy: 38113/307200 (12%)\n",
            "\n",
            "\n",
            "Perplexity\n",
            " 6155.83389817464\n",
            "generated max\t\t harry potter , voldemort , and dumbledore walk into a bar . discover blonde saw and greatest , <unknown> <unknown> , and and and discover detailed punched seen seen seen seen seen seen perfumed discover ripples driven seen seen perfumed perfumed keeping fits right seen seen seen seen seen cleaner discover whizzed lose lose driven and realize forty was was was was knew was was knew say meetings dursley dursley , ouch years intruder concerned window years showed potter ouch ouch red forks destroyed mr mr mr mr mr reflecting reflecting gave useful potter potter potter ouch ouch bishop ouch slumping involved involved years separate dursley dursley , , secretary nonsense nonsense nonsense nonsense nonsense nonsense nonsense stepping potter potter young dursley , , , useful potter young potter young drills , drills , <unknown> , mysterious , mysterious mysterious staying statement tallest potter young dursley dursley , , nonsense nonsense nonsense nonsense nonsense nonsense nonsense nonsense rearranged buildings window window jealous bear potter young dursley dursley , , detected nonsense nonsense nonsense nonsense nonsense nonsense nonsense nonsense rearranged stowed potter potter young clock dursley , , , nonsense nonsense nonsense nonsense nonsense nonsense nonsense stepping potter potter young , , useful potter young , drills , drills , <unknown> , mysterious \n",
            "generated sample\t harry potter , voldemort , and dumbledore walk into a bar . poking troubling stab child proof marmalade said handy potter dursley dursley dursley , , ooking camping parents close breakout proud proud spiraling golpalott roberts friendship though and shadows staircase horcrux drain mr mr mr mr reflecting reflecting useful goyle potter potter potter signs , course , drills , , walls , potter drills mr mr mr ourselves impostor ferociously involved involved involved years separate involved involved drifting screaming stretching stretching useful invisible dursley sob dursley , grilles and stinksap and tapped spying onion perce dursley dursley , color met dear found size picturing sorcerer sorcerer sorcerer keeled crackled jeweled gulping shudder dursley , lenses shawls howling proud proud proud proud proud proud proud seemingly mr mr mr reflecting and married and pants and announced grew danger seize deaf dursley dursley , dodging scooping window illegally , commentating loony loony mean dursley dursley dursley extracting was was was spent outstretched undoubtedly demonstrate skirt stretching v interview descend receiver regained so drills engulfed , arguments and and and was was was was was discover continually greenhouse minute nerves dursley dursley , , ouch golpalott drills drills knowing mr mr mr ourselves mr mr mr ourselves involved involved involved involved years drifting involved \n",
            "generated sample\t harry potter , voldemort , and dumbledore walk into a bar . special vengeance dursley dursley dursley pleasure reach common malfoys living hugged supplies dursley dursley dursley exploded nonsense nonsense nonsense ireland mr mr mr mr mr mr reflecting out , potter out , out , , jumpy spinning acceptable useful potter involved involved involved involved involved firm firm defense crushed mr mr mr mr reflecting reflecting fuss and and simple out , boy boy fastened involved involved involved involved involved years waiting dummy kindly stared stared stared window window bear and and realize and realize discover blonde freak scar blonde old freak september mr mr mr mr reflecting fuss out , useful potter mr mr mr reflecting reflecting useful potter out pewter potter mr mr mr mr reflecting out , out , out , cuffs dramatic mr mr reflecting and and and trepidation harm found bane good met potter mr mr mr mr reflecting out potter out , useful mr mr mr reflecting out , out , potter out , ride potter potter overnight , , hermione hermione eyes useful dursley , <unknown> spying vacation ex advisable nonsense mr mr mr mr mr mr reflecting useful potter potter out , out , dissolving possessing skeptical potter young mr mr mr reflecting \n",
            "generated sample\t harry potter , voldemort , and dumbledore walk into a bar . mood exercise glance window window proud proud proud toe mr mr mr mr mr reflecting mr out out , out useful potter out out sparkling , liquid mr mr ourselves mr mr ourselves pewter out , out , , wanted useful potter mr mr mr mr mr reflecting out , out , useful potter mr mr mr mr mr reflecting out , out , useful potter mr mr mr mr reflecting reflecting useful out , potter out , ride overnight , , thank thank thank thank that that that that that that singing accusation rigid picked picked dawlish wrong potter potter young mr mr mr ourselves mr mr mr reflecting out , , out , wanted , potter potter mr mr mr mr mr reflecting out , out , potter potter out out , useful ride potter mr mr mr mr reflecting reflecting fuss jerked seeker gain volkov mr mr mr mr reflecting useful mr reflecting stretching useful potter potter mimed mimed engine pressed swore warmer useful mr mr mr ourselves pewter mr mr mr reflecting useful out sweets mr mr mr mr ourselves out out , out , out , , out , sparkling tin shudder grayish dursley dursley \n",
            "generated sample\t harry potter , voldemort , and dumbledore walk into a bar . discover nonsense blonde eleven braver surprises malfoy mr mr mr mr reflecting reflecting and and out out , trouble out , walls observed levski pasty pasty soar mommy mr mr mr mr reflecting reflecting useful potter out , , wanted potter got trickle mr mr mr ourselves mr mr mr ourselves out , out , wanted , standing involved involved involved 11 crushed down involved involved common damn elbows dursley dursley dursley inter angrily secretary dursley dursley , nonsense nonsense nonsense nonsense happening potter dursley dursley , , albus albus albus albus albus albus albus albus albus albus albus albus achievement achievement achievement thinking thinking dilys window window chudley dursley dursley forgot woke potter assure young useful dursley dursley , stop krum we potter potter dursley ouch potter dursley old big quill empty dursley mr mr mr mr mr mr mr reflecting reflecting gave useful potter potter ouch involved involved involved involved involved years braced involved involved stirred hopelessly briskly seen pointing dursley dursley , picked woke woke ginny bellatrix lose drills lantern stretch drive towered tunnel freely mr mr mr mr reflecting authority mr reflecting followed potter potter dursley , ouch ouch ward ouch destination owlery taunted girlfriend proud \n",
            "generated sample\t harry potter , voldemort , and dumbledore walk into a bar . magnificent glance oddly lying branches raining nonsense nonsense nonsense nonsense nonsense nonsense intake firm firm sets dursley dursley flourish nonsense nonsense nonsense nonsense nonsense happening screaming discover aim young useful potter dursley , , useful picked woke woke potter young potter drills , drills drills impression markings spying ex wha mr mr reflecting and and out , out , out , called trepidation mr mr mr mr reflecting out , useful potter out , ouch sign drills mr mr mr mr mr reflecting reflecting gave useful potter potter signs ouch wipe fog curiously unscathed mr mr mr reflecting useful potter involved involved involved involved satin years tea good potter dursley dursley dursley pen dursley hushed gathering entire dursley p picked picked woke potter wheel pince seen involved picked woke potter say say potter potter dursley stubefy decorations decorations pressed craning craning amber proud proud proud toe mr mr mr mr mr mr reflecting out out , useful potter potter potter out , halves potter bishop bishop saying bishop ruining bun saying out , useful sorcerer mr mr reflecting fuss disconcerted , so drills mr mr mr mr reflecting out , out , potter out , out , walls you out \n",
            "generated sample\t harry potter , voldemort , and dumbledore walk into a bar . vengeance potter dursley stubefy menacing , gathering potter potter abuse craning descendants think right gurgling mr mr reflecting and celebration out out , out , flushed hold spying hold hold hold hold hold hold lived potter mr mr mr mr mr reflecting potter out out , potter out , potter out , spinning eighty mr mr mr ourselves mr mr reflecting out , useful out , potter out , , trouble out , useful potter tone mr mr mr ourselves out , shouts out , like thank thank thank thank that that that that that that that that that that that that that that that that that that that that that that that that bandaged that that that that trepidation that that that trepidation freely foreign entered torches whispered undoubtedly everard potter young mr mr mr mr mr ourselves ferociously pewter centuries out , , savoring discover , out , , walls good met seen seen involved involved involved involved surprisingly involved storming tiny involved involved involved somebody confusing nonsense mr mr mr mr mr reflecting mr reflecting potter stretching out useful potter mr mr mr mr reflecting tottenham potter out useful potter potter out , potter out , walls \n",
            "generated sample\t harry potter , voldemort , and dumbledore walk into a bar . salazar drills soul mr mr mr mr ourselves out , out , , useful mr mr mr mr reflecting pewter mr mr mr reflecting reflecting goyle potter out out , , potter out , useful potter mr mr mr reflecting reflecting and ouch him hard involved involved years mr mr mr reflecting reflecting and and useful sloped out regained dursley , met and merope irritation involved involved involved involved years separate dursley dursley grave seen seen seen seen seen seen troy jackets involved involved introduce picked woke await advise drills greeting tied stricken groaned exceptional , france seventeen potter potter dursley dursley , secretary form nonsense nonsense nonsense nonsense nonsense murdered , rearranged , rearranged stifling involved involved involved blotts said mantelpiece dursley dursley invisible dursley diminished appropriate eve nonsense nonsense nonsense stepping potter dursley , buildings window window unceremoniously unceremoniously ward involved involved involved exceeds exceeds stretching stretching expel seen seen dursley say say proud proud proud toe mr mr mr mr mr reflecting reflecting gave fuss special dursley dursley dursley , , ouch ouch refusal met brief clicking useful edgecombe mr mr mr mr mr reflecting reflecting useful out , out , useful bishop , potter potter young \n",
            "generated sample\t harry potter , voldemort , and dumbledore walk into a bar . discover nonsense grapefruit extendable sturgis foggy aragog dursley , nonsense nonsense nonsense nonsense nonsense nonsense nonsense stepping potter dursley , , thank , that form expulsion aim seen seen seen seen paint cleaner brush proud proud proud spiraling hear and tiny roars savage split animals , walls display refer involved involved elongated arrivals fit curly woken map dursley dursley , ooking softly head , drills drills knowing mr mr mr mr ourselves mr mr mr ourselves out , out , , out , , useful potter mr mr mr mr reflecting mr mr reflecting out , out , out , , necessary decided spinning useful potter potter involved involved involved involved involved stretching stretching say say say say news potter locks markings dursley , , walls nonsense nonsense nonsense nonsense buildings stepping potter mr mr mr mr mr cedric cedric cedric cedric cedric cedric cedric cedric cedric cedric bun asleep so hidden so sleepy complicated ducking dursley dursley ability juice moony secretary drills drills mr mr mr mr reflecting potter out , , dissolving potter young useful dursley rufus , <unknown> useful picked woke woke potter drills potter form say sorcerer sorcerer sorcerer sorcerer expectations tribute bun eighteen shudder stared \n",
            "generated sample\t harry potter , voldemort , and dumbledore walk into a bar . discover blonde saw and drills <unknown> and and and murderous hear out , discover we sorcerer sorcerer tuesday shape needle child involved involved involved quavering involved somebody number darkness mr mr mr reflecting and and and discover blonde eleven ward mr mr mr mr reflecting cresswell mr mr mr rimmed cedric cedric cedric cedric cedric cedric cedric cedric cedric cedric cedric cedric cedric cedric rounded ignotus viktor viktor viktor viktor viktor viktor viktor dragonskin overturned whereas dursley mustn dursley throats nerve spectacles grizzled faking searched incantation got proud proud proud proud proud toe mr mr mr mr reflecting reflecting and and out out , useful woke potter rapping aquiver imprisoning imprisoning imprisoning imprisoning imprisoning gave dementors sweetshop sweetshop roast dursley dursley , exploded met smelly smelly mates finest marching potter impostor sorcerer sorcerer sorcerer ribbon ard tapped gruffly potter mr mr mr mr ourselves mr mr ourselves mr mr mr ourselves involved involved involved involved building involved involved years knight dursley dursley , mustn useful course drills drills metallic mr mr mr mr mr reflecting cedric raging approach dursley window , so drills mr mr mr mr mr reflecting gave and and out groping crowd mr mr mr mr ourselves \n",
            "generated sample\t harry potter , voldemort , and dumbledore walk into a bar . discover blonde saw popular popular coin drip chant strange repair say picked picked woke potter say say potter dursley dursley , markings yanked thank thank thank thank that that that that that that that that that that that that that that that that that that that that that that that that that trepidation foreign that that that that that satin gloating none , toe , five xenophilius mr mr mr mr mr reflecting reflecting fuss and out and sloped cakes good woke ticked thinking ireland mr mr mr mr mr reflecting useful out potter out , useful mr mr mr ourselves pewter out , useful potter out , walls , potter involved involved involved involved involved storming arrivals years center helmet warned seen seen seen seen seen seen seen mistaking morale morale dart use witted await hidin seen seen seen seen seen impertinent whizzed stacks was was soft involved involved involved somebody blotts ajar , concern buckbeak mouth mr mr mr mr ourselves um potter dursley , thank thank thank that that that that that that that that that that that that that that singing drive discussing drive think drive drive drive drive think drive drive rare hates dursley window \n"
          ],
          "name": "stdout"
        },
        {
          "output_type": "stream",
          "text": [
            "\r  0%|          | 0/45 [00:00<?, ?it/s]"
          ],
          "name": "stderr"
        },
        {
          "output_type": "stream",
          "text": [
            "generated beam\t\t harry potter , voldemort , and dumbledore walk into a bar . throw confiscated locket wrenching and <unknown> exercise heated , career mr mr reflecting and and out , out , walls , potter allowed involved involved warned involved turban glimpses potter dursley , \" pen , \" mirror t hair , and realize held quickly mr mr mr reflecting and and and out , useful cormac , hermione , <unknown> , as <unknown> , and <unknown> <unknown> , and that <unknown> , discover , hermione , because and was inspired beady national real sworn dursley , , useful mr mr mr mr ourselves mr ourselves ours , out , started standing mr mr mr ourselves mr out , out , useful was mr mr mr ourselves out , useful , potter out , potter trouble vane window , potter young , potter , hermione as screamed sacks , <unknown> walls , <unknown> and line , mysterious , mysterious dursley , thank , you 11 panted morale dursley , around drills mr mr mr ourselves mr mr ourselves ours out , , . gingerly , potter useful . discover , potter . <unknown> \" lived mr mr potter out , and married dursley , <unknown> , and <unknown> , <unknown> , and \n",
            "\n"
          ],
          "name": "stdout"
        },
        {
          "output_type": "stream",
          "text": [
            "\r  2%|▏         | 1/45 [00:00<00:20,  2.15it/s]"
          ],
          "name": "stderr"
        },
        {
          "output_type": "stream",
          "text": [
            "Train Epoch: 3 [0/23040 (0%)]\tLoss: 3.177586\n"
          ],
          "name": "stdout"
        },
        {
          "output_type": "stream",
          "text": [
            " 24%|██▍       | 11/45 [00:03<00:11,  2.84it/s]"
          ],
          "name": "stderr"
        },
        {
          "output_type": "stream",
          "text": [
            "Train Epoch: 3 [5120/23040 (22%)]\tLoss: 1.480517\n"
          ],
          "name": "stdout"
        },
        {
          "output_type": "stream",
          "text": [
            " 47%|████▋     | 21/45 [00:07<00:08,  2.85it/s]"
          ],
          "name": "stderr"
        },
        {
          "output_type": "stream",
          "text": [
            "Train Epoch: 3 [10240/23040 (44%)]\tLoss: 0.938029\n"
          ],
          "name": "stdout"
        },
        {
          "output_type": "stream",
          "text": [
            " 69%|██████▉   | 31/45 [00:10<00:04,  2.83it/s]"
          ],
          "name": "stderr"
        },
        {
          "output_type": "stream",
          "text": [
            "Train Epoch: 3 [15360/23040 (67%)]\tLoss: 1.053411\n"
          ],
          "name": "stdout"
        },
        {
          "output_type": "stream",
          "text": [
            " 91%|█████████ | 41/45 [00:14<00:01,  2.81it/s]"
          ],
          "name": "stderr"
        },
        {
          "output_type": "stream",
          "text": [
            "Train Epoch: 3 [20480/23040 (89%)]\tLoss: 1.738117\n"
          ],
          "name": "stdout"
        },
        {
          "output_type": "stream",
          "text": [
            "100%|██████████| 45/45 [00:15<00:00,  2.82it/s]\n"
          ],
          "name": "stderr"
        },
        {
          "output_type": "stream",
          "text": [
            "Input\tglass to his lips - - but it was empty . dumbledore groaned and began to <unknown> . \" but i had some - - wait - - aguamenti ! \" said harry again , pointing his wand at the goblet . once more , for a second , clear \n",
            "GT\tto his lips - - but it was empty . dumbledore groaned and began to <unknown> . \" but i had some - - wait - - aguamenti ! \" said harry again , pointing his wand at the goblet . once more , for a second , clear <unknown> \n",
            "pred\tjar ron back . to to he was full punched harry gave ' me to full on on on harry was at conquer to to on very very on harry harry harry and . the at at at the shabby of of presented of as the hopkirk - somethin unnecessary \n",
            "\n",
            "\n",
            "Input\t. dumbledore groaned and began to <unknown> . \" but i had some - - wait - - aguamenti ! \" said harry again , pointing his wand at the goblet . once more , for a second , clear <unknown> - ter gleamed within it , but as he \n",
            "GT\tdumbledore groaned and began to <unknown> . \" but i had some - - wait - - aguamenti ! \" said harry again , pointing his wand at the goblet . once more , for a second , clear <unknown> - ter gleamed within it , but as he approached \n",
            "pred\tthey not could repaired to yer on \" harry harry don been conquer they twist would very very on harry harry harry and . the at at at the perfectly of of presented of as the hopkirk - somethin unnecessary the the who yeh with . brightness i they could \n",
            "\n",
            "\n",
            "\n",
            "Test set: Average loss: 9.4682, Accuracy: 36174/307200 (12%)\n",
            "\n",
            "\n",
            "Perplexity\n",
            " 12941.802430414456\n",
            "generated max\t\t harry potter , voldemort , and dumbledore walk into a bar . vengeance menacing suitable ending finest finest subdued and though pellets effort effort picked picked woke pucey planets woke resemblance discover sorcerer sorcerer sorcerer racket across delacours escorted yours picked picked woke potter pucey woke potter wheel sorcerer sorcerer answered shape hugged nearer dursley , , , , walls savage nonsense nonsense nonsense nonsense nonsense nonsense nonsense stepping potter mr mr mr mr mr mr reflecting out , out , , useful potter mr mr mr mr mr reflecting out , out , , useful mr mr mr mr reflecting out , out , , useful mr mr mr mr reflecting out , out , , useful mr mr mr mr reflecting out , out , , useful mr mr mr mr reflecting out , out , , useful mr mr mr mr reflecting out , out , , useful mr mr mr mr reflecting out , out , , useful mr mr mr mr reflecting out , out , , useful mr mr mr mr reflecting out , out , , useful mr mr mr mr reflecting out , out , , useful mr mr mr mr reflecting out , out , , useful mr mr mr mr reflecting out \n",
            "generated sample\t harry potter , voldemort , and dumbledore walk into a bar . shoes ensuring password ticked window jealous proud proud proud proud proud proud toe mr mr mr mr mr mr reflecting reflecting out , potter out , reality slam think out , out , i i i i sort impersonating seen seen seen dursley , belongs happening involved involved involved involved years surprisingly howling dursley dursley , , throws ouch ouch years tea potter dursley dursley dursley , nonsense nonsense nonsense nonsense nonsense buildings nonsense banisters mr mr mr mr mr ourselves ours fred dursley , , fred fred fred fred fred fred fred fred fred fred fred fred fred fred fred fred fred fred fred fred fred fred fred fred fred fred fred fred fred fred fred fred fred fred fred fred fred fred fred fred fred fred fred fred fred fred fred fred fred fred fred fred fred fred fred fred fred fred fred fred fred fred fred fred fred fred fred tailed fred fred fred fred fred fred fred fred fred row opening discover connected signs inspection supper tion stupefied stupefied feared hardly pruning pruning servant dursley dursley p potter ouch impostor potter severely involved involved years mr mr mr mr mr mr reflecting out , potter out \n",
            "generated sample\t harry potter , voldemort , and dumbledore walk into a bar . thief discover nonsense nonsense grapefruit potter dursley , , nonsense nonsense nonsense nonsense nonsense nonsense nonsense nonsense stepping potter mr mr mr mr mr mr reflecting euan out , out , , trouble hermione hermione trips entwined sank screaming ledge mr mr mr mr mr mr mr reflecting reflecting involved involved involved years mr mr mr mr ourselves out , out , shouts out , drills mr mr mr mr mr mr out out , out , , out , , television , walls involved involved involved unheard involved years warned warned seen seen seen seen if discover , prongs window , window window window wearing chances chances jealous proud proud proud proud proud spying him mr mr mr mr mr mr reflecting reflecting goyle mr mr mr reflecting gave reflecting wide mr mr mr mr mr out out out , out , useful potter mr mr mr ourselves mr mr mr out out , out , , . wanted , blonde brighter freak mr mr mr mr mr mr mr reflecting harry out , out , useful potter mr mr mr reflecting surreptitiously , potter mr mr mr mr mr reflecting out , out , potter out , , \n",
            "generated sample\t harry potter , voldemort , and dumbledore walk into a bar . exercise else wolf blonde warmth lurch jealous proud proud proud proud proud proud proud proud proud spiraling diminished hear mr mr mr mr mr mr reflecting reflecting shoulder potter potter out , , , wanted , potter hermione potter mr mr mr mr mr reflecting out , , , <unknown> august thousands woke peverell drills drills mr mr mr mr mr reflecting reflecting celebration mr mr reflecting out , out , potter , out , , powers bottom secretary , boy satin mr mr mr ourselves involved involved involved involved years separate jabbed dursley dursley dursley , carefully chance proud proud proud proud proud proud spiraling toe mr mr mr mr mr mr mr reflecting out out , potter out , out , brooms complaints hold hold hold back , hold back hold hold hold back , hold hold hold hold hold back , hold hold back , hold hold hold back hold , hold hold hold sank perfect mr mr mr mr mr mr mr mr reflecting out , out , , out , out , name , walls hokey observed was was was involved involved involved aha crushed mr mr mr mr reflecting reflecting gentleman good dursley mr \n",
            "generated sample\t harry potter , voldemort , and dumbledore walk into a bar . special keeps dursley dursley , nonsense nonsense nonsense nonsense nonsense nonsense nonsense nonsense nonsense banisters stepping potter potter dursley , , motorcycle hermione nonsense nonsense nonsense nonsense nonsense nonsense nonsense stepping potter stepping potter satin catchpole discover mr mr mr mr mr mr mr out out , out , out , , useful mr mr mr mr mr reflecting out , out , drills mr mr mr mr mr out out , out , useful mr mr mr mr ourselves out out , , out , pewter mr mr mr mr mr mr out out , out , out , out , threats shudder arrest mr mr mr mr mr out out out sweets mr mr mr mr out out out sweets mr mr mr mr out out out , out out , sparkling hold hold back useful back mr mr mr reflecting and effectively and dodging mr mr mr ourselves mr mr mr reflecting out , out , reality complaints mr mr mr mr mr mr ourselves out out , shouts out , out , dealing mr mr mr mr out out sweets mr out out sweets mr gasped good out sweets mr mr mr mr out out out \n",
            "generated sample\t harry potter , voldemort , and dumbledore walk into a bar . ludo ludo pockmarked break dursley dursley dursley , nonsense nonsense nonsense nonsense nonsense nonsense nonsense lit dursley , nonsense nonsense nonsense nonsense nonsense nonsense nonsense nonsense happening nonsense nonsense banisters nonsense rearranged accepted nonsense happening potter potter young blaise , bawling involved involved involved storming tiny dipped good acceptable involved involved involved involved years grawpy rounding rounding able involved screaming planets dudley sorcerer sorcerer sorcerer werewolf obeyed though barrel right though attacked attacked nonsense reply nonsense nonsense nonsense nonsense stowed strangled stabbing potter of incapable boy boy boy boy boy boy boy fastened ghouls years mr mr mr mr mr mr mr mr rimmed inter shoes lazy mr mr mr mr mr mr mr mr mr reflecting gave was was was was knew diversion strangling sleepily mr mr mr mr mr mr reflecting out , out , , out , limply useful mr mr mr mr ourselves mr mr mr mr out out , , useful out , out , harry swiveling mr mr mr mr mr ourselves out , out , padma mr mr mr mr mr mr out out out , out , shouts out out , , called decided useful dursley , , walls , plucked preparations \n",
            "generated sample\t harry potter , voldemort , and dumbledore walk into a bar . discover good disappointment folded nonsense nonsense nonsense nonsense happening screaming potter potter dursley dursley , , walls , elves involved involved involved involved arrivals involved arrivals involved years showed seen seen seen seen perfumed perfumed keeping forest chicken devil sorcerer sorcerer sorcerer sorcerer pause involved involved involved gaze change raised mr mr mr mr mr reflecting potter potter potter dursley , , ouch ward ouch bishop views dursley forgot hero woke intruder cedric cedric cedric cedric cedric stranger bun head numb night involved involved involved stretching stretching taste proud proud proud proud proud proud spiraling spiraling generally say say say sorcerer sorcerer sorcerer werewolf lighting windows three , that tears wrapper levels fuss knitting sudden ball dursley , and secretary er dursley p ouch remembered involved involved involved involved involved years separate dursley dursley dursley , , throws haircut nonsense nonsense nonsense nonsense nonsense nonsense nonsense nonsense nonsense nonsense happening screaming flitwick opinion striding , potter hermione potter dursley , , potter hermione hard possibility potter potter suspended impostor impostor nonsense nonsense nonsense nonsense nonsense nonsense nonsense nonsense stepping potter numb shudder dursley , , , we town room nonsense mr mr mr mr mr mr ferociously edgecombe whizzing good \n",
            "generated sample\t harry potter , voldemort , and dumbledore walk into a bar . magnificent glance lying and shook test melt dilys composition hold hold pencil mr mr mr mr mr mr rimmed mr mr rimmed out , st mr mr mr mr mr rimmed out out , diff mr mr mr ourselves ours out , out out , reality involved involved involved involved years separate dursley dursley , motorcycle ability famous , picked picked keepers seen picked picked woke potter wanted proud proud proud proud proud proud spiraling toe toe mr mr mr mr mr mr reflecting out out , out , sweets mr mr mr mr out out out , effectively mr mr mr mr reflecting gave was was was was purposefully raced roast chimney buzz involved involved involved flowers discussion punctured released splitting proud proud proud proud proud proud proud proud spiraling toe diminished mr mr mr mr mr mr reflecting reflecting and dursley dodging dodging ice w moons flattering mr mr mr mr mr mr reflecting mr mr reflecting out , out , , potter out , useful mr mr strip out , out , walls hokey there there there blonde there blonde freak blonde eleven ward steak him mr mr mr mr mr mr reflecting cloaks potter out , \n",
            "generated sample\t harry potter , voldemort , and dumbledore walk into a bar . vengeance blacks saw and toast stricken home hold hold hold hold hold hold hold hold trips sank mr mr mr mr mr mr mr mr reflecting reflecting goyle fuss stretching out , execution mr mr mr mr mr mr reflecting out , out , out , shouts mr mr mr ourselves out , out , out , shouts out sweets knight hasn whereabouts ministry was was was was snoutlike cares roast and paint unwelcome deal suppress out window arguing proud proud proud proud proud spiraling toe mr mr mr mr mr reflecting mr mr reflecting out , out , potter out , out , walls allowed dense deluded out out out out sparkling contracted him mr mr mr mr mr lurking out out , out , , clustered mr mr mr mr reflecting out , out , useful mr mr mr mr mr reflecting fuss out , out , out , shouts mr mr mr reflecting out , out out , out , reality rapping benefit flattened mr mr mr ourselves mr mr mr mr out out out , out , sweets mr mr mr mr out out out sweets mr mr mr mr ourselves out out , out , \n",
            "generated sample\t harry potter , voldemort , and dumbledore walk into a bar . vengeance flower knight dursley dursley useful gathering potter potter potter nagging young aquiver flinging pince involved involved years mr mr mr mr mr ourselves mr mr mr mr ourselves out , out , , claiming , , hear , <unknown> complaints mr mr mr mr mr mr mr mr ourselves out , out , , , out , , not decided discover , , dwell thereafter swarming , , discover mr mr mr mr mr mr out out out , out , brooms hold hold useful mr mr mr mr mr mr mr out out , shouts out , out , reality involved involved involved persuading storming tiny involved involved involved involved years warned warned seen seen seen seen , flinging discover gerroff , sorcerer sorcerer sorcerer reminds thank thank thank that that that that that that that that that that that that trepidation that drive drive drive drive drive height throughout sorta lyin curling flag mr mr mr mr mr lurking mr out out sweets mr mr mr mr out out out , out , television , brooms hold hold hold back , hold hold back hold hold back hold hold back hold hold hold back hold back , \n",
            "generated sample\t harry potter , voldemort , and dumbledore walk into a bar . three good _ met hoop dursley dursley , and nonsense nonsense nonsense nonsense nonsense nonsense nonsense nonsense nonsense stepping potter young dreading dursley dursley , nonsense nonsense nonsense happening nonsense nonsense nonsense nonsense nonsense nuts nonsense mr mr mr mr mr ourselves mr mr out out , out , , , , blank limply bottom useful mr mr mr mr mr mr reflecting reflecting and him out out , reality triumphed noticing mr mr mr mr mr mr reflecting out , out , out , , directions potter mr mr mr mr mr mr mr reflecting out , out , , , out , effectively sweating trips mr mr mr mr mr reflecting mr mr reflecting out , out , out , hokey him him out whiskers misty compass emerged emerged slits older incantations mr mr mr mr mr ourselves mr mr mr ourselves ferociously involved involved involved involved involved years involved linger snapping jerked and and knuckles proud proud proud proud proud proud spying him mr mr mr mr reflecting goyle gentleman mr mr mr reflecting reflecting fuss out , , , walls , out , snapes sizes prefers mr mr mr mr mr reflecting reflecting out potter out \n"
          ],
          "name": "stdout"
        },
        {
          "output_type": "stream",
          "text": [
            "\r  0%|          | 0/45 [00:00<?, ?it/s]"
          ],
          "name": "stderr"
        },
        {
          "output_type": "stream",
          "text": [
            "generated beam\t\t harry potter , voldemort , and dumbledore walk into a bar . vengeance menacing puffy potter happier and spent and vengeance realize 5 <unknown> fastened useful mr mr mr reflecting and drills , <unknown> , and out , and was keeled though introduce , was thwarted positively , so discover aim , disappearance and parkinson pleasantly marked and carefully dursley , riddle left and <unknown> and carefully out like , slam useful preparations , potter potter young , potter granger young , drills , <unknown> and nonsense regulus , hold nonsense , nonsense , nonsense nonsense , daylight ted nonsense mr mr mr reflecting and and and eyes rumbled middle of discover , hogsmeade , discover stooped , discover , gerroff , platform , upright and down and windowsill involved mmm fred stirring queen asleep beady useful dungeon mr mr mr ourselves mr mr ourselves clutches irritated , , . walls , involved involved involved storming pen malicious spiral mound contented involve , and drills , bravery , useful mr mr mr reflecting and <unknown> and out , out , behind and stepping discover , alternative times , oldest and realize was horcrux receiver was was was was flow extinguishing goodness and vacation knew that drills albus mr mr mr mr ourselves \n",
            "\n"
          ],
          "name": "stdout"
        },
        {
          "output_type": "stream",
          "text": [
            "\r  2%|▏         | 1/45 [00:00<00:21,  2.01it/s]"
          ],
          "name": "stderr"
        },
        {
          "output_type": "stream",
          "text": [
            "Train Epoch: 4 [0/23040 (0%)]\tLoss: 2.544903\n"
          ],
          "name": "stdout"
        },
        {
          "output_type": "stream",
          "text": [
            " 24%|██▍       | 11/45 [00:04<00:12,  2.78it/s]"
          ],
          "name": "stderr"
        },
        {
          "output_type": "stream",
          "text": [
            "Train Epoch: 4 [5120/23040 (22%)]\tLoss: 0.968886\n"
          ],
          "name": "stdout"
        },
        {
          "output_type": "stream",
          "text": [
            " 47%|████▋     | 21/45 [00:07<00:08,  2.79it/s]"
          ],
          "name": "stderr"
        },
        {
          "output_type": "stream",
          "text": [
            "Train Epoch: 4 [10240/23040 (44%)]\tLoss: 0.621431\n"
          ],
          "name": "stdout"
        },
        {
          "output_type": "stream",
          "text": [
            " 69%|██████▉   | 31/45 [00:11<00:05,  2.76it/s]"
          ],
          "name": "stderr"
        },
        {
          "output_type": "stream",
          "text": [
            "Train Epoch: 4 [15360/23040 (67%)]\tLoss: 0.682195\n"
          ],
          "name": "stdout"
        },
        {
          "output_type": "stream",
          "text": [
            " 91%|█████████ | 41/45 [00:14<00:01,  2.74it/s]"
          ],
          "name": "stderr"
        },
        {
          "output_type": "stream",
          "text": [
            "Train Epoch: 4 [20480/23040 (89%)]\tLoss: 1.154338\n"
          ],
          "name": "stdout"
        },
        {
          "output_type": "stream",
          "text": [
            "100%|██████████| 45/45 [00:16<00:00,  2.74it/s]\n"
          ],
          "name": "stderr"
        },
        {
          "output_type": "stream",
          "text": [
            "Input\tglass to his lips - - but it was empty . dumbledore groaned and began to <unknown> . \" but i had some - - wait - - aguamenti ! \" said harry again , pointing his wand at the goblet . once more , for a second , clear \n",
            "GT\tto his lips - - but it was empty . dumbledore groaned and began to <unknown> . \" but i had some - - wait - - aguamenti ! \" said harry again , pointing his wand at the goblet . once more , for a second , clear <unknown> \n",
            "pred\tjar fooled back . to like he monitored full full full gave ' the to leave on \" on that mean no conquer to to would to hiss <unknown> harry harry harry , , the at at at the perfectly of of presented of of the ! - who unnecessary \n",
            "\n",
            "\n",
            "Input\t. dumbledore groaned and began to <unknown> . \" but i had some - - wait - - aguamenti ! \" said harry again , pointing his wand at the goblet . once more , for a second , clear <unknown> - ter gleamed within it , but as he \n",
            "GT\tdumbledore groaned and began to <unknown> . \" but i had some - - wait - - aguamenti ! \" said harry again , pointing his wand at the goblet . once more , for a second , clear <unknown> - ter gleamed within it , but as he approached \n",
            "pred\tthey not could repaired to yer . \" harry harry don seen conquer limbs don godric alas godric <unknown> harry harry harry , , the at at at the perfectly of of presented of of the <unknown> - who unnecessary - the who yeh the . brightness i they <unknown> \n",
            "\n",
            "\n",
            "\n",
            "Test set: Average loss: 9.8637, Accuracy: 35734/307200 (12%)\n",
            "\n",
            "\n",
            "Perplexity\n",
            " 19219.388747407433\n",
            "generated max\t\t harry potter , voldemort , and dumbledore walk into a bar . vengeance menacing suitable ending finest finest subdued and though involved involved years , linger dursley , , , walls proud proud proud proud proud proud proud proud proud proud proud proud spiraling diminished hear mr mr mr mr mr reflecting reflecting and married wide mr mr mr mr mr mr mr out out out , out , out , reality involved involved involved involved years separate dursley dursley , , secretary , throws quieter , drills mr mr mr mr mr mr mr out out , out , , , , walls , out , blonde freak blonde solution blonde solution solution solution scrolls proud proud proud proud proud spiraling generally drive drive drive drive drive drive drive drowsy depends mr mr mr mr mr mr mr mr mr out out out , out , out , reality complaints mr mr mr mr mr mr out out , out , , out , , walls supposed sayin out mr mr mr mr reflecting out , out , out , reality involved involved involved involved years separate dursley dursley , , secretary , throws quieter , drills drills mr mr mr mr mr mr out out , out , , out \n",
            "generated sample\t harry potter , voldemort , and dumbledore walk into a bar . descendants confiscated living hang authority romilda romilda romilda potter dursley dursley young severely involved years mr mr mr ourselves ours mr mr mr out out out , out , potter out , , walls involved involved involved involved audible spoon involved eyed stricken dursley , , wanted proud proud proud proud proud spiraling toe mr mr mr mr mr mr out out out , out , considering aura pressed , wanted flattened wanted proud proud proud proud proud proud proud proud proud proud spiraling diminished mr mr mr mr mr reflecting mr reflecting mr mr reflecting gentleman involved involved involved involved involved watering cubicle squirm involved involved years factly saying , walls dursley , , and drills mr mr mr mr mr ourselves out , out , out , , dealing screaming mr mr mr mr mr ourselves out , , out , , useful out , walls involved involved involved persuading mrs mrs mr mr mr mr reflecting reflecting blue potter dursley dursley , , , walls savage mr mr mr mr ferociously out , out , out , dealing mr mr mr mr reflecting fuss out , out , , walls discover mr mr mr mr mr rimmed \n",
            "generated sample\t harry potter , voldemort , and dumbledore walk into a bar . breeds invited dursley cheer so say say say dursley dursley , wanted proud proud proud proud proud proud spiraling generally toe sorcerer mr mr mr mr mr reflecting out , potter out , , , , walls , liar blonde blonde freak blonde eleven mr mr mr mr mr reflecting was was was was was was was was bark faster fumbled wee sleeps mr mr mr mr mr mr out out out , out , , gingerly walls goodness brighter unfortunate mr mr mr mr mr reflecting out , out , blonde freak beamed hold hold hold back hold back hold back hold perfect mr mr mr mr mr rimmed mr mr mr lock involved involved involved involved involved years dummy they separate white robe seen seen seen hold prepared dursley , , walls monitored markings combined sorcerer sorcerer sorcerer happening canary although sight thank thank thank shout that that that that that that that that that that that that that that drive drive drive drive drive drive drive drive drive drive drive transform sorta him dursley dursley dursley young dursley dursley dursley ! ouch ouch bear picked met discover sorcerer potter sorcerer wide involved involved involved involved involved years \n",
            "generated sample\t harry potter , voldemort , and dumbledore walk into a bar . vengeance menacing suitable ending finest finest jolt involved involved involved involved years inhabited warned dursley dursley , , detected his boundary nonsense nonsense nonsense nonsense nonsense nonsense nonsense nonsense stepping motorcycle potter dursley dursley , albus albus albus albus albus albus albus albus albus albus albus albus albus albus albus albus albus albus albus albus albus albus albus albus albus albus albus albus albus albus albus albus albus albus albus albus albus albus albus albus albus albus albus an an an an an an awkwardly merely mr mr mr mr rimmed square innocence goggles mr mr mr mr reflecting dursley dursley , , so ouch dodging pretty divide mr mr mr potter mr mr mr mr mr ourselves out , warm mr mr mr mr mr mr mr mr mr out out out , out , , useful swoop mr mr mr mr mr ourselves out , out , , . walls , discover mr mr mr mr mr mr awoke mr out out out out , needle sparkling involved involved involved years mr dursley dursley dursley , bumped triumph await woke raining bumped upright mr mr mr mr mr mr mr mr mr out out out out , out \n",
            "generated sample\t harry potter , voldemort , and dumbledore walk into a bar . exercise discover blonde eleven ward raw pen sooner dursley dursley , nonsense nonsense nonsense nonsense nonsense nonsense nonsense stepping potter dursley dursley , nonsense nonsense nonsense nonsense nonsense stepping lee satin dursley , albus albus albus albus albus albus albus albus albus albus albus albus albus albus albus albus albus albus albus albus albus albus albus albus albus albus albus albus albus albus albus albus albus albus albus albus albus achievement thinking thinking thinking thinking mustache clothing say mustache incapable raised picked picked woke craning pucey woke potter thief potter much pressed elves potter catchpole clock interest mr mr blackened mr mr mr ourselves mr mr out out , , out , , , blank limply spoke mr mr mr mr mr mr criticize out out , out , discover blonde eleven mr mr mr reflecting fuss pewter mr mr mr mr reflecting reflecting whichever mr mr mr mr mr mr out out out out out needle sparkling mr mr mr mr screaming potter appearance useful potter mimed woke sufficient mr mr mr mr mr reflecting mcgonagall , footsteps discover detached crowd mr mr ourselves mr mr mr out out , out , reality involved involved involved stretching stretching today \n",
            "generated sample\t harry potter , voldemort , and dumbledore walk into a bar . uncanny modest discover blonde eleven eleven ward , thank thank thank that that that that that that that that that that that that that trepidation that drive drive drive drive drive drive drive drive transform him him drive drive because and discover nonsense bear drive happening discover nonsense happening sky mr mr mr mr mr mr mr mr lurking out out , , out , , , walls spinning involved involved involved involved involved years swerve mr mr mr mr reflecting was involved involved years mr mr mr mr reflecting out out , out , reality potter hannah mr mr mr ourselves mr mr mr out out , out , out , , , walls doge arrest television motionless mr mr mr mr mr mr ferociously involved involved involved involved involved involved years jupiter dursley dursley , , detected his swift awaiting await met discover mr mr mr mr mr cedric cedric cedric cedric criticize mr mr mr reflecting mr mr mr mr mr mr mr out out out , needle out mr mr mr mr mr out out out , out , , wanted useful mr mr mr mr mr mr reflecting involved involved involved years , downfall involved \n",
            "generated sample\t harry potter , voldemort , and dumbledore walk into a bar . eve regulus shake hating opposite puddings proud proud proud proud proud proud proud proud proud proud proud proud proud spiraling toe diminished mr mr mr mr mr mr mr reflecting reflecting blue mr mr mr reflecting out , out , , brooms out , walls oracle silhouetted sign him him good honest stumping ponytail , walls you involved mr mr ourselves mr mr reflecting potter dursley , , , , , walls , discover , dilys dared history , prophet mr mr reflecting and married wide involved mr mr mr mr reflecting mr mr reflecting out out potter mr mr mr mr mr out out , out , out , , out , brooms skiving importantly terrified snare opinion trips jostled look repair seekers scrape alerted content content hers fruitcake differences twenty <unknown> potter potter slyly hard owner reasonable revolving <unknown> attraction potter mr mr mr mr mr mr mr reflecting out , warm potter beedle involved involved involved involved involved years measure future menacing , potter menacing potter unscathed mr mr mr mr mr out out , out , , , limply hold hold hold hold hold hold back hold hold hold hold hold trips , lived lived lived \n",
            "generated sample\t harry potter , voldemort , and dumbledore walk into a bar . salazar traveling good good today met wail sorcerer sorcerer pause involved involved involved involved years separate dursley dursley , , , walls picturing drawer met done nonsense nonsense nonsense nonsense nonsense stepping potter mr mr mr mr mr cedric cedric cedric cedric cedric cedric cedric fancied eleven mr mr mr mr mr mr mr reflecting was out , was out , reality involved involved involved involved years separate dursley , seen seen seen seen seen seen flinging discover , rosmerta good prongs window window window wonderful hinges prat cards wearing wearing young dinner young dursley dursley dursley dursley going proud proud proud proud proud proud proud proud spiraling diminished intelligence proud proud proud proud proud spiraling diminished mr mr mr mr reflecting mr mr mr reflecting reflecting gentleman involved involved involved involved involved storming fewer drifting dursley dursley , , wanted around proud proud proud proud spiraling generally arguing canceled say say say say discover dursley dursley , , , wanted proud proud proud proud proud proud proud spiraling diminished spiraling mysterious dursley grilles starry years ireland mr mr mr mr mr mr mr reflecting out , out , , , , walls discover mr mr mr mr out out \n",
            "generated sample\t harry potter , voldemort , and dumbledore walk into a bar . exercise grizzled good seen strictly involved involved involved involved years say dursley dursley dursley , , walls you progress seen seen seen seen seen flinging cleaner underage textbook off picked craning craning craning window trespass involved somebody somebody lingering finest involved years showed seen seen in was was was was was was you reality wedding dursley , excitedly seen and whether , discover while shoulder , albus albus held spoon involved involved involved years measure wonders good good probation dursley dursley dursley , met seen gathering seen astonished seen involved seen involved involved firm firm firm sets dursley dursley dursley so say say say say news dursley dursley dursley , picked craning craning craning study finest potter secretary dursley , , secretary nonsense nonsense nonsense nonsense nonsense nonsense obscured nonsense nonsense nonsense nonsense stepping noiselessly discover , , lived lived lived spying demolished dursley dursley dursley dursley armful imperio revision dursley dursley dursley isn picked picked picked woke potter potter nagging tied woke potter drills potter mr mr mr mr mr ourselves mr mr out out , out , , , , , , useful good reproachfully clearly mr mr mr mr mr mr rimmed lurking involved involved involved involved \n",
            "generated sample\t harry potter , voldemort , and dumbledore walk into a bar . exercise discover blonde saw seen seen say say discover , dilys whizzed flattering fleet dursley ally player warm mr mr mr mr ourselves mr mr mr out out out , wanted mr mr mr mr mr mr mr out out , out , , , out , , benefit flattened killin goose killin pressed sinus vampires mr mr mr mr mr mr mr rimmed rimmed chuckled mr mr mr mr mr rimmed cedric cedric asleep secretary thank thank thank thank shout mr mr mr mr mr mr reflecting gave was was was was okay words was was and and discover realize excitedly was discover excitedly charred eclairs mr mr mr mr mr mr mr mr out out , out , out apologies , referring shouldn silk galleons blonde mr mr mr mr mr mr mr mr mr rimmed out out , out , reality discover mr mr mr mr mr out out , out , out , , brooms chunk mr mr mr mr mr mr reflecting was out , out , reality recovery involved involved years patched tea dursley dursley , secretary fireside triumph spying seen mr mr mr mr mr reflecting and dodging so mr mr mr mr \n",
            "generated sample\t harry potter , voldemort , and dumbledore walk into a bar . report yesterday dursley dursley poking olive proud proud proud proud proud proud proud proud proud toe mr mr mr mr mr mr reflecting out out , out , that brooms out , met chapter chapter chapter chapter chapter chapter chapter counting custard and quiet scarcely solution knocker <unknown> , useful picked woke potter potter young drills , <unknown> , hold hold hold hold hold hold hold forbid , , lived walls twist honestly pressed nonsense nonsense nonsense nonsense prey mr mr mr mr mr mr reflecting out , out , , , , blonde shudder erupt useful mr mr mr mr mr mr ourselves back out , , walls , discover stooped discover put blinked was involved building involved involved years warned talk briskly , briskly mr mr ourselves ours mr mr mr mr mr shrivelfig out out , , , , . walls , discover mr mr mr mr mr mr mr criticize out out , , needle out sparkling , stile shudder dursley dursley , course secretary strange woke woke woke potter sofa potter mirthless secretary pantry secretary guilty safer aquiver mr mr mr mr ourselves mr mr mr reflecting out , out , , , spinning recruiting \n"
          ],
          "name": "stdout"
        },
        {
          "output_type": "stream",
          "text": [
            "\r  0%|          | 0/45 [00:00<?, ?it/s]"
          ],
          "name": "stderr"
        },
        {
          "output_type": "stream",
          "text": [
            "generated beam\t\t harry potter , voldemort , and dumbledore walk into a bar . report raise memories hold bless , and intensified , suit and echoed baron <unknown> , and mousy nonsense intruders rods size house nonsense mr mr ourselves dursley , , , \" wanted , drills , <unknown> and greatest , <unknown> , \" council , and partially , amount , harry hepzibah , potter dursley , , so he think as drills , mr mr mr ourselves mr mr mr reflecting out , , potter , , walls , potter out , appearance , favor mind trouble and discover , toe , sorcerer , and throb . <unknown> touchy , frayed to send and was breakout invitation gossip out , called defiant , and but there hold hold mr mr potter um dursley , and aged thought deluded mr mr mr reflecting and and flashed out , discover , easily praise , torturing and ward trunk didn sorcerer sorcerer ard saying portion dursley , , we elves and double recited murmuring and poisonous pressed married proud proud proud proud proud proud proud proud proud panicky perfumed trespass look , daylight and slime say say say say useful dursley , markings dursley , walls , and expectations that w nonsense farthest , \n",
            "\n"
          ],
          "name": "stdout"
        },
        {
          "output_type": "stream",
          "text": [
            "\r  2%|▏         | 1/45 [00:00<00:21,  2.08it/s]"
          ],
          "name": "stderr"
        },
        {
          "output_type": "stream",
          "text": [
            "Train Epoch: 5 [0/23040 (0%)]\tLoss: 1.998865\n"
          ],
          "name": "stdout"
        },
        {
          "output_type": "stream",
          "text": [
            " 24%|██▍       | 11/45 [00:03<00:12,  2.82it/s]"
          ],
          "name": "stderr"
        },
        {
          "output_type": "stream",
          "text": [
            "Train Epoch: 5 [5120/23040 (22%)]\tLoss: 0.689243\n"
          ],
          "name": "stdout"
        },
        {
          "output_type": "stream",
          "text": [
            " 47%|████▋     | 21/45 [00:07<00:08,  2.83it/s]"
          ],
          "name": "stderr"
        },
        {
          "output_type": "stream",
          "text": [
            "Train Epoch: 5 [10240/23040 (44%)]\tLoss: 0.497563\n"
          ],
          "name": "stdout"
        },
        {
          "output_type": "stream",
          "text": [
            " 69%|██████▉   | 31/45 [00:11<00:04,  2.81it/s]"
          ],
          "name": "stderr"
        },
        {
          "output_type": "stream",
          "text": [
            "Train Epoch: 5 [15360/23040 (67%)]\tLoss: 0.530016\n"
          ],
          "name": "stdout"
        },
        {
          "output_type": "stream",
          "text": [
            " 91%|█████████ | 41/45 [00:14<00:01,  2.79it/s]"
          ],
          "name": "stderr"
        },
        {
          "output_type": "stream",
          "text": [
            "Train Epoch: 5 [20480/23040 (89%)]\tLoss: 0.889822\n"
          ],
          "name": "stdout"
        },
        {
          "output_type": "stream",
          "text": [
            "100%|██████████| 45/45 [00:16<00:00,  2.79it/s]\n"
          ],
          "name": "stderr"
        },
        {
          "output_type": "stream",
          "text": [
            "Input\tglass to his lips - - but it was empty . dumbledore groaned and began to <unknown> . \" but i had some - - wait - - aguamenti ! \" said harry again , pointing his wand at the goblet . once more , for a second , clear \n",
            "GT\tto his lips - - but it was empty . dumbledore groaned and began to <unknown> . \" but i had some - - wait - - aguamenti ! \" said harry again , pointing his wand at the goblet . once more , for a second , clear <unknown> \n",
            "pred\tjar fooled innumerable and and and he was full full harry full gave me to leave , \" leave , don no , limbs don would alas harry harry \" harry harry , , i at wand at the perfectly of \" of of without hermione permanently - who unnecessary \n",
            "\n",
            "\n",
            "Input\t. dumbledore groaned and began to <unknown> . \" but i had some - - wait - - aguamenti ! \" said harry again , pointing his wand at the goblet . once more , for a second , clear <unknown> - ter gleamed within it , but as he \n",
            "GT\tdumbledore groaned and began to <unknown> . \" but i had some - - wait - - aguamenti ! \" said harry again , pointing his wand at the goblet . once more , for a second , clear <unknown> - ter gleamed within it , but as he approached \n",
            "pred\ti harry me me leaky yer , \" suitable i don no , limbs don would alas harry harry \" harry harry , , i at wand at the perfectly of of of of without hermione permanently - who unnecessary - who who yeh the . brightness i they might \n",
            "\n",
            "\n",
            "\n",
            "Test set: Average loss: 10.4115, Accuracy: 35230/307200 (11%)\n",
            "\n",
            "\n",
            "Perplexity\n",
            " 33240.42355091916\n",
            "generated max\t\t harry potter , voldemort , and dumbledore walk into a bar . vengeance menacing suitable ending finest finest jolt involved involved involved years beloved raised dursley dursley dursley , , walls picturing nonsense nonsense nonsense nonsense nonsense nonsense nonsense stepping numb dursley , , albus albus albus albus albus albus albus albus albus albus albus albus albus albus albus albus albus albus albus albus albus albus albus albus albus albus albus albus albus albus albus albus albus albus albus albus albus albus albus albus albus albus albus albus albus albus albus albus albus albus albus albus albus albus albus albus albus albus albus albus albus albus albus albus albus albus albus albus albus albus albus albus albus albus albus albus albus albus albus albus albus albus albus albus albus albus albus albus albus albus albus albus albus albus albus albus albus albus albus albus albus albus albus albus albus albus albus albus albus albus albus albus albus albus albus albus albus albus albus albus albus albus albus albus albus albus albus albus albus albus albus albus albus albus albus albus albus albus albus albus albus albus albus albus albus albus albus albus albus albus albus albus albus albus albus albus albus albus albus albus albus albus albus albus albus albus albus albus \n",
            "generated sample\t harry potter , voldemort , and dumbledore walk into a bar . exercise serious good window window dursley dursley dursley off spectacularly fawkes proud proud proud proud proud proud proud spiraling diminished spluttering mr mr mr powerfully mr mr mr mr reflecting was out , out , brooms noticing rogue anybody involved involved involved involved audible audible nonsense nonsense nonsense nonsense happening , potter dursley dursley , , nonsense nonsense nonsense nonsense nonsense nonsense nonsense nonsense nonsense nonsense stepping satin dursley dursley dursley dursley famous albus albus albus albus albus albus albus albus albus albus albus albus albus albus albus albus albus thinking an an an an an an an awkwardly , slower wingardium though picked sibyll dusk spying eaters aggressively <unknown> potter potter dursley dursley , , , , walls picturing nonsense nonsense nonsense nonsense nonsense nonsense stepping mr mr mr mr mr cedric cedric cedric cedric cedric cedric nougat rounded beamed so shifty mr mr mr mr reflecting gentleman mr mr mr mr mr out out , needle sparkling inter wingardium screaming though involved mr mr mr mr mr mr ourselves out , out , , , , walls , potter mr mr mr mr reflecting fuss out , out , , brooms noticing mr mr reflecting lashed mr mr \n",
            "generated sample\t harry potter , voldemort , and dumbledore walk into a bar . exercise success good good met mousy prophets window window proud proud proud proud proud proud proud toe mr mr mr mr mr reflecting out out out , out needle sparkling anguished twenty sneering sneering and sneering milky waking young international dursley nonsense nonsense nonsense nonsense nonsense nonsense happening potter dursley dursley , albus albus albus albus albus albus albus albus albus albus albus albus albus albus albus albus albus albus albus albus albus albus albus albus albus thinking kidney thinking thinking thinking thinking mustache thinking mustache spying spying tweed hold tweed felix felix felix felix felix felix felix felix felix felix felix felix hold hold hold hold hold hold hold hold hold back , , hold anywhere , finest finest understands pince endlessly beating so drills potter mr mr mr mr mr mr mr reflecting out , , harry out , , limply bottom secretary dursley , , secretary fingers moony sir young sweetshop dursley dursley dursley young belongs dursley dursley fred dursley dursley , yorkshire savage indicate nonsense nonsense nonsense nonsense nonsense banisters stepping potter dursley dursley , albus albus albus albus albus albus albus albus albus albus albus albus albus albus albus albus albus albus albus albus albus \n",
            "generated sample\t harry potter , voldemort , and dumbledore walk into a bar . report good good what thinking thinking boomslang nonsense spotted screaming spotted useful bun perched involved involved involved years showed mermish useful dursley , wanted proud proud proud proud proud proud proud proud proud proud proud proud proud proud proud proud proud proud spiraling diminished coach mr mr mr mr reflecting mr reflecting fuss out , out , warmer brooms execution mr mr mr mr criticize out , , fumbled decided , excitedly sleeps reproachfully mr mr mr mr mr mr out out , out , potter appearance appearance appearance potter appearance appearance useful dursley , , lived spying evidence planted say potter dursley dursley , , nonsense batlike batlike courtrooms educational held quickly unforgivable picked discover innocence mr mr mr mr mr reflecting potter dursley , , , , potter measured , walls twist approval involved involved involved involved they fur kindly kindly potter dursley dursley , , , barked , walls nonsense nonsense nonsense nonsense nonsense nonsense nonsense nonsense stepping mr mr mr mr mr mr mr reflecting out , out , knight there noticing locket oldest motionless nicked dursley , , , supposed proud proud proud proud spying bes bes few build strip dawlish appear and drawled clicking \n",
            "generated sample\t harry potter , voldemort , and dumbledore walk into a bar . pointed picked selwyn coolly higher friendship dursley , nonsense nonsense nonsense nonsense nonsense nonsense nonsense read potter interesting dursley dursley dursley , nonsense nonsense nonsense nonsense nonsense nonsense nonsense nonsense stepping small satin dursley dursley dursley , albus albus albus albus albus albus albus albus albus albus albus albus albus albus albus albus albus albus albus albus albus albus albus albus thinking kidney thinking thinking thinking mustache thinking mustache zey <unknown> none none , daylight daylight ted dursley dursley dursley nonsense nonsense nonsense nonsense nonsense nonsense nonsense nonsense nonsense nonsense grapefruit nonsense stowed happening potter dursley dursley dursley , albus albus albus albus albus albus albus albus albus albus albus albus albus albus albus albus albus albus achievement albus albus albus albus albus albus albus albus albus albus albus albus albus albus albus albus albus albus albus albus albus albus albus albus albus albus albus an an an an an an an awkwardly good met mousy nonsense nonsense nonsense nonsense stowed doxy dursley nonsense nonsense nonsense nonsense nonsense nonsense stepping dursley dursley dursley nonsense nonsense nonsense nonsense calming dursley dursley dursley nonsense nonsense nonsense happening nonsense jam seen seen seen involved involved involved firm firm dursley dursley dursley color albus \n",
            "generated sample\t harry potter , voldemort , and dumbledore walk into a bar . traveling good good good fleet met stricken dursley mr mr mr mr mr mr mr rimmed inter boiling so hers dursley dursley , stoop secretary thank thank binding dursley dursley dursley dursley judging p impostor picked picked picked woke potter drills potter dursley dursley , , , walls picturing ordered faces involved involved involved experimental nonsense surprisingly rightly surprisingly dursley , , detected nonsense nonsense nonsense happening potter potter mirthless dursley , , barked bursts images dursley dursley think sob , yorkshire yorkshire nice sweatshirt dursley dursley dursley mirror antlers reunited swim dursley dursley dursley nonsense nonsense nonsense nonsense banisters nonsense nonsense nonsense happening involved involved involved somebody nonsense prey mr mr mr mr mr mr mr reflecting out , out , , potter thank thank thank thank walnut mr mr mr mr mr mr tabby so building slam gaze dursley dursley , so and drills drills dodging mr mr ourselves mr mr mr mr out out out , out , out , walls dislike spoke dursley nonsense nonsense nonsense nonsense nonsense nonsense nonsense stepping splattering nonsense nonsense stepping nonsense nonsense nonsense nonsense stepping tugged tankard hermione dursley dursley dursley , albus albus albus nonsense nonsense nonsense nonsense nonsense nonsense \n",
            "generated sample\t harry potter , voldemort , and dumbledore walk into a bar . glance flower good today nonsense nonsense nonsense prey mr mr mr mr mr stiffly potter potter dursley , , walls so discover put spying picked him mr mr mr mr mr mr mr mr reflecting gave was was was steadying mr mr lashed equipment discover put blonde eleven involved involved involved stretching dursley dursley mirror dursley dursley , albus albus albus albus albus albus albus albus albus albus albus albus albus albus albus thinking thinking thinking kidney thinking thinking mustache thinking thinking mustache clothing feast <unknown> <unknown> grew <unknown> <unknown> grew dursley dursley dursley hidin dursley so poking so say say say say news dursley dursley , , walls dursley await yorkshire orb orb welcome involved involved involved years showed disapparate seen seen perfumed seen perfumed perfumed forest forest niffler say dursley dursley , , walls you picturing quieter useful dursley , wanted proud proud proud proud proud proud proud spiraling diminished hear mr mr mr mr mr reflecting and dropped was knew discover slice mr mr mr mr mr mr mr lurking shoes out , out , , limply brooms sign hold hold , forbid , , driven discover , , powers , generally angrier angrier middle , <unknown> \n",
            "generated sample\t harry potter , voldemort , and dumbledore walk into a bar . padma benches right good good fleet dursley dursley dursley nonsense unraveled stowed potter dursley dursley dursley motorcycle dursley nonsense nonsense nonsense nonsense nonsense nonsense nonsense stepping stepping too good dursley dursley dursley nonsense lived nonsense nonsense nonsense nonsense nonsense nonsense stepping secretary dursley dursley dursley nonsense shifted seen seen seen seen dursley dursley plugs happening albus albus albus albus albus albus albus albus albus albus thinking thinking kidney thinking thinking mustache thinking mustache spying noticeboard <unknown> <unknown> and <unknown> none none , <unknown> dursley dursley , off <unknown> so say say dursley dursley dursley biggest biggest dursley antlers dursley pen dursley dursley batlike blouse ! picked picked picked craning study letters craning proud proud proud proud proud proud proud proud proud proud proud proud proud proud proud proud proud proud mr mr married mr mr reflecting gentleman mr mr reflecting discovering tongue mr mr mr reflecting wasn shoes transported mr mr reflecting out , potter out , , , walls chunk , , walls nonsense nonsense nonsense stepping beans splattering regretting dursley dursley nonsense nonsense nonsense nonsense nonsense stepping splattering dursley dursley nonsense nonsense nonsense nonsense nonsense nonsense happening nonsense nonsense striding nonsense scathingly expelliarmus dursley dursley dursley dursley albus \n",
            "generated sample\t harry potter , voldemort , and dumbledore walk into a bar . invitation scarred now ruined dursley dursley , , walls nonsense nonsense nonsense nonsense nonsense nonsense stepping numb stowed discover detached sigh drive freely freely quiver mr mr mr mr mr reflecting was out , potter vane back , potter hard useful mr mr hedge , , trouble walls involved mr mr mr mr mr reflecting back , out , , , back discover , stooped knelt pressed slumping dursley dursley , , throws famous , walls dursley dursley dursley stop yorkshire nonsense nonsense nonsense nonsense nonsense nonsense nonsense nonsense happening involved really tiredness too simply simply simply motorbike potter young warned dursley dursley , , , , , walls picturing barked happen glided mr mr mr mr ourselves ferociously involved involved involved they um years separate , thank thank thank that that that that that that that drive drive drive drive drive drive drive lateness drive matter reserved dursley dursley , , walls you drive dursley dursley forgot righ hoarsely dursley dursley , , walls picturing nonsense nonsense nonsense nonsense nonsense nonsense numb misted involved involved satin flitwick detached dursley dursley , , suitable happening stop disturbed walls nonsense nonsense nonsense nonsense nonsense stepping pure towards and fred young dursley \n",
            "generated sample\t harry potter , voldemort , and dumbledore walk into a bar . glance flower good town prefers yawned hold hold dursley dursley , , walls dursley aim dursley nonsense nonsense nonsense nonsense nonsense nonsense nonsense stepping numb chimney involved involved involved somebody rescue dursley dursley dursley mirror dursley albus albus albus albus albus albus albus albus albus albus albus albus albus albus albus albus albus albus albus albus albus albus albus albus albus albus albus albus albus hiss secretary thinking finest secretary thinking thinking <unknown> thinking mustache thinking mustache spying <unknown> <unknown> <unknown> <unknown> deserve <unknown> well dursley dursley , say say say say dursley dursley dursley , nonsense nonsense goin nonsense nonsense nonsense nonsense stepping dursley dursley , nonsense nonsense nonsense nonsense nonsense nonsense nonsense stepping dursley dursley , albus albus albus albus albus albus albus albus albus albus albus albus albus albus albus albus albus albus albus albus albus albus albus albus albus albus albus thinking thinking thinking kidney thinking thinking mustache thinking mustache spying <unknown> <unknown> <unknown> <unknown> well good dursley dursley dursley dursley batlike head loony loony loony loony found picked picked enjoyment enjoyment than locked straw opaque lend prefers mr mr mr mr out blonde potter mr mr mr mr mr mr reflecting was out , ginger \n",
            "generated sample\t harry potter , voldemort , and dumbledore walk into a bar . vengeance blacks knight dursley dursley dursley generally isn sorcerer sorcerer sorcerer reminds thank strained good met met seen mr mr mr mr mr mr mr mr ourselves wail inter so lazy mr mr mr mr mr mr reflecting out , out , , , potter noticing locket warning powerfully mr mr mr mr mr mr reflecting fuss out , out , warmer , appearance excitedly appearance levski unkempt bodies dursley , walls , secretary tapping tapping woke furrowed proud proud proud proud proud toe mr mr mr mr mr reflecting out , out , out , brooms potter noticing potter incantations hard useful mr mr mr mr mr mr reflecting was so out , out , brooms noticing noticing locket thereafter good flash fashioned say mr mr mr mr mr mr mr job swell discover , discover put him blinked potter mr mr ourselves mr mr mr ourselves out sweets mr out out out , out reality potter pretence visit spying hold hold hold hold hold , lived lived lived lived spying potter dursley dursley dursley , secretary nonsense nonsense nonsense nonsense nonsense nonsense nonsense nonsense stepping nonsense secretary nonsense nonsense nonsense nonsense stepping dursley dursley nonsense nonsense nonsense nonsense \n"
          ],
          "name": "stdout"
        },
        {
          "output_type": "stream",
          "text": [
            "\r  0%|          | 0/45 [00:00<?, ?it/s]"
          ],
          "name": "stderr"
        },
        {
          "output_type": "stream",
          "text": [
            "generated beam\t\t harry potter , voldemort , and dumbledore walk into a bar . glance national dursley , tents as and surface , potter potter dursley dursley , albus albus albus albus albus albus albus albus albus albus albus albus albus albus albus albus albus albus albus albus albus albus albus albus albus albus albus albus albus albus albus albus albus albus albus albus albus albus albus albus albus albus albus albus albus thinking thinking thinking kidney thinking thinking thinking mustache mustache spying euphoria right years , harry harry potter dursley , , walls , \" mirror dursley , albus albus albus albus albus albus albus albus albus albus albus albus albus albus albus albus albus albus albus albus albus thinking thinking thinking kidney guess thinking harry mustache , and harry guffawed tend , amount , harry potter dursley , , , so dursley , so aim dursley , as both , potter dursley dursley , <unknown> still dursley , started biding <unknown> dudley dursley dursley , , walls drills albus albus albus albus albus albus hiss shoving probably mr mr mr mr ourselves . out , potter dursley , , walls , you put involved involved involved involved whirring dursley dursley , suitable , toy , thank you dursley dursley , , mop \n",
            "\n"
          ],
          "name": "stdout"
        },
        {
          "output_type": "stream",
          "text": [
            "\r  2%|▏         | 1/45 [00:00<00:22,  1.92it/s]"
          ],
          "name": "stderr"
        },
        {
          "output_type": "stream",
          "text": [
            "Train Epoch: 6 [0/23040 (0%)]\tLoss: 1.900405\n"
          ],
          "name": "stdout"
        },
        {
          "output_type": "stream",
          "text": [
            " 24%|██▍       | 11/45 [00:04<00:12,  2.81it/s]"
          ],
          "name": "stderr"
        },
        {
          "output_type": "stream",
          "text": [
            "Train Epoch: 6 [5120/23040 (22%)]\tLoss: 0.665295\n"
          ],
          "name": "stdout"
        },
        {
          "output_type": "stream",
          "text": [
            " 47%|████▋     | 21/45 [00:07<00:08,  2.82it/s]"
          ],
          "name": "stderr"
        },
        {
          "output_type": "stream",
          "text": [
            "Train Epoch: 6 [10240/23040 (44%)]\tLoss: 0.491217\n"
          ],
          "name": "stdout"
        },
        {
          "output_type": "stream",
          "text": [
            " 69%|██████▉   | 31/45 [00:11<00:05,  2.80it/s]"
          ],
          "name": "stderr"
        },
        {
          "output_type": "stream",
          "text": [
            "Train Epoch: 6 [15360/23040 (67%)]\tLoss: 0.509122\n"
          ],
          "name": "stdout"
        },
        {
          "output_type": "stream",
          "text": [
            " 91%|█████████ | 41/45 [00:14<00:01,  2.76it/s]"
          ],
          "name": "stderr"
        },
        {
          "output_type": "stream",
          "text": [
            "Train Epoch: 6 [20480/23040 (89%)]\tLoss: 0.775120\n"
          ],
          "name": "stdout"
        },
        {
          "output_type": "stream",
          "text": [
            "100%|██████████| 45/45 [00:16<00:00,  2.78it/s]\n"
          ],
          "name": "stderr"
        },
        {
          "output_type": "stream",
          "text": [
            "Input\tglass to his lips - - but it was empty . dumbledore groaned and began to <unknown> . \" but i had some - - wait - - aguamenti ! \" said harry again , pointing his wand at the goblet . once more , for a second , clear \n",
            "GT\tto his lips - - but it was empty . dumbledore groaned and began to <unknown> . \" but i had some - - wait - - aguamenti ! \" said harry again , pointing his wand at the goblet . once more , for a second , clear <unknown> \n",
            "pred\tjar fooled innumerable . \" warrington he monitored full full harry full the the to leave on \" on it mean no , paint paint harry harry harry harry \" harry harry , . the at wand at the other of of presented of as the whole - who unnecessary \n",
            "\n",
            "\n",
            "Input\t. dumbledore groaned and began to <unknown> . \" but i had some - - wait - - aguamenti ! \" said harry again , pointing his wand at the goblet . once more , for a second , clear <unknown> - ter gleamed within it , but as he \n",
            "GT\tdumbledore groaned and began to <unknown> . \" but i had some - - wait - - aguamenti ! \" said harry again , pointing his wand at the goblet . once more , for a second , clear <unknown> - ter gleamed within it , but as he approached \n",
            "pred\tthey gold the the leaky yer on \" hagrid harry don no , limbs very godric alas very harry \" harry harry , , the at wand at the other of of presented of as the whole - who unnecessary for the who . times . brightness he they <unknown> \n",
            "\n",
            "\n",
            "\n",
            "Test set: Average loss: 10.0664, Accuracy: 34201/307200 (11%)\n",
            "\n",
            "\n",
            "Perplexity\n",
            " 23538.370987131973\n",
            "generated max\t\t harry potter , voldemort , and dumbledore walk into a bar . vengeance menacing suitable shouldered potter involved involved involved years news dursley , , , markings wanting nonsense nonsense nonsense nonsense nonsense prey mr mr mr cedric cedric cedric cedric cedric cedric cedric suggest so so engulfed so engulfed and <unknown> <unknown> <unknown> say say say dursley dursley dursley , wanted proud proud proud proud proud proud proud proud proud proud proud proud proud proud proud proud proud proud proud proud proud proud proud proud proud proud proud proud proud proud proud proud proud proud proud proud proud proud proud proud proud proud proud proud proud proud proud proud proud proud proud proud proud proud proud proud proud proud proud proud proud proud proud proud proud proud proud proud proud proud proud proud proud proud proud proud proud proud proud proud proud proud proud proud proud proud proud proud proud proud proud proud proud proud proud proud proud proud proud proud proud proud proud proud proud proud proud proud proud proud proud proud proud proud proud proud proud proud proud proud proud proud proud proud proud proud proud proud proud proud proud proud proud proud proud proud proud proud proud proud proud proud proud proud proud proud proud proud proud proud \n",
            "generated sample\t harry potter , voldemort , and dumbledore walk into a bar . he overwhelming and latter good horcruxes dursley dursley successfully mr mr mr mr cedric cedric cedric cedric cedric peeling found found fistful <unknown> met last last <unknown> <unknown> mr mr mr mr mr ourselves mr mr mr reflecting out , inter brighter so concern mr mr mr mr mr mr mr rimmed inter egg bishop dursley dursley , , walls fancied fancied fancied corridors smiling chatter bickering family sniggering possessor completely potter dursley dursley form severely metallic mr mr mr cedric cedric cedric cedric cedric cedric cedric nougat so engulfed so engulfed so engulfed so engulfed so marmalade walls so say say say say say news say say staggering say staggering art huddle was faster dursley dursley , and picked woke woke grow drills drills mr mr mr mr mr ourselves bunk mr mr mr out out out out out sparkling mr mr mr out inter blonde blonde blonde freak mr mr mr mr mr mr mr reflecting gentleman inter so walls so mr mr mr inter . egg put mon paws was mr mr mr mr mr mr mr out out , out , , discover , , , blonde brighter eleven , discover , film wasting dursley dursley \n",
            "generated sample\t harry potter , voldemort , and dumbledore walk into a bar . discover good around igor wishes hungry , years showed ouch avoid mr mr mr cedric cedric cedric cedric peeling knew knew discover color lest pamphlet peculiar overcome mr mr ourselves mr mr mr silver out out , out , brooms potter mr mr mr mr mr reflecting fuss mr mr mr reflecting gentleman harm mr mr mr out out , out , savoring good good him good him good hunt mr mr mr mr mr mr quiver leaky discover , where drills mr mr mr mr mr mr out out out , plan , hold stubbornly mr mr mr mr involved dissolving abruptly dursley , was bark hundreds put found found involved involved years escort jaws dursley dursley , , , walls picturing ordered faces albus albus albus albus albus albus albus albus albus albus albus albus albus thinking thinking thinking thinking thinking mustache thinking mustache guffawed w picked picked craning craning dragon wheezed say say say say news dursley , , wanted and reasonable and and and hugged curtly dursley nonsense nonsense nonsense nonsense surprisingly mr mr letters involved building undoubtedly mr mr mr mr reflecting mr mr mr mr mr reflecting disguised inter potter dursley , , so \n",
            "generated sample\t harry potter , voldemort , and dumbledore walk into a bar . persuading discover deny child main potter later examined good dursley , seen seen seen seen nougat beside seen seen seen promised nougat involved involved picked woke potter potter dursley dursley , secretary nonsense nonsense nonsense nonsense nonsense nonsense expectations pang screaming discover mr mr mr mr mr mr lock potter mr mr mr mr mr mr mr reflecting euan mr mr mr mr mr mr out out good puking discover mr mr mr inter out , , walls , discover put him spying potter mr mr mr mr mr mr out out , discover , out , , rattle dreading dursley , nonsense nonsense nonsense nonsense nonsense lee glanced striding which bun greenish useful potter involved involved involved storming weren mound mound hold hold combined , , walls , and glory just just just just nerve woke spying paced hold hold hold hold lived lived lived potter potter young dursley dursley , secretary nonsense filth expectations pang mullioned drawing and rug eyes drive drive drive drive drive drive 4 else striding , numb schemes involved involved involved involved drifting kindly kindly lots warmer potter sorcerer sorcerer sorcerer although determined etc special y impersonating corners shaky sprouted proud proud proud proud \n",
            "generated sample\t harry potter , voldemort , and dumbledore walk into a bar . vengeance to flower blacks drills mr mr mr mr mr mr out out , out , , harry chunk , , walls , plucked discover put out , walls sunny dursley dursley so stop proud proud proud proud proud proud proud proud proud proud proud proud proud proud proud proud proud proud proud proud proud proud proud proud proud proud proud proud proud proud proud spiraling irritably bit bit roberts instantly dursley dursley dursley , albus albus albus albus albus albus albus albus albus albus albus albus albus albus albus albus albus albus albus albus albus albus albus albus albus albus albus albus albus albus albus albus albus albus albus albus albus albus albus albus albus albus albus albus albus albus albus albus albus albus albus albus albus albus albus albus albus albus albus albus albus albus albus albus albus albus albus albus albus albus albus albus albus albus albus albus albus albus albus albus albus albus albus albus albus albus albus albus albus albus albus albus albus albus albus albus albus albus albus albus albus albus albus albus albus albus albus albus albus albus albus albus albus albus albus albus albus albus albus albus albus albus albus albus albus \n",
            "generated sample\t harry potter , voldemort , and dumbledore walk into a bar . proud proud proud proud proud spiraling diminished seven useful mirror dursley polish spying blink piled dursley dursley dursley risking unraveled unraveled picked picked craning craning craning study enclosure held hold and and and and and and and and discover detached woke proud proud proud proud proud proud spiraling diminished spiraling diminished seven mysterious dursley dursley , dropped nonsense nonsense picked woke woke potter course drills woke say say say discover dilys historian platform bun dusk mr mr mr mr mr mr out out out out mr mr mr mr out out out sparkling hold preparations mr mr mr trouble discover , discover blonde eleven eleven mr mr mr mr mr mr lurking good mr mr mr mr mr tabby out , out , , . walls , was clock involved involved involved squirm dursley dursley , suitable so drills drills drills spying hold hold mentioning straightening dursley dursley , albus albus albus albus albus albus albus albus albus albus albus albus albus albus albus albus albus albus albus albus albus albus albus albus albus albus albus albus albus albus albus albus albus albus albus albus albus albus albus albus albus albus albus albus albus albus albus albus albus albus albus \n",
            "generated sample\t harry potter , voldemort , and dumbledore walk into a bar . discover descendants nonsense screaming potter mr mr mr mr mr out out out out out sparkling mr mr mr mr inter animagi mr mr mr mr reflecting gentleman fuss older mr mr mr mr reflecting gentleman gentleman harm mr mr mr ourselves out out , out , , walls , spoke potter dursley , secretary , nonsense secretary nonsense nonsense nonsense nonsense nonsense stepping chin slumping involved involved involved towards amount seen seen shrivelfig drills dursley , , walls picturing scattered nonsense nonsense nonsense nonsense happening involved happening involved screaming potter dursley dursley , , nonsense nonsense prey spots proud proud proud proud spying bank spying hoisted planets sorcerer sorcerer sorcerer racket whispering met wearily sorcerer sorcerer sorcerer reminds thank thank shout that that that that that that that that trepidation that albus albus albus albus albus albus thinking thinking thinking thinking mustache thinking mustache w mustache guffawed sorcerer sorcerer capture somehow dursley , wanted proud proud proud proud proud proud proud proud proud proud proud spiraling diminished mysterious dursley diminished found found picked picked sibyll sibyll ounce say say say picked picked discover nightdress discover blonde appreciatively mr mr mr mr mr mr mr mr out out out out \n",
            "generated sample\t harry potter , voldemort , and dumbledore walk into a bar . vengeance blacks moodys dursley , window years dursley , , pretend involved involved involved years dursley dursley , spots , secretary await met seen seen seen seen mousy direction silk flinging finest involved involved firm potter potter dursley dursley , detected nonsense potter potter catchpole stepping providing potter dursley , , nonsense , secretary nonsense nonsense nonsense nonsense obscured nonsense nonsense stepping mr mr cedric cedric cedric cedric cedric cedric suggest nougat so engulfed so engulfed inclined won same potter walls dursley dursley so and picked picked woke woke woke potter pucey woke woke proud proud proud proud proud proud proud proud spiraling diminished married dursley dursley dursley armful jones poking found found picked picked potter potter beads potter doxy dursley , , , walls emotion dursley fingers considered drive drive dursley dursley , answered appreciated picked picked craning sibyll picked woke potter say say say say say discover whizzed fleet art say say say say acceptable wanted potter grizzled stretching young useful mr mr mr mr mr mr mr mr mr mr mr mr mr out out , discover , , . blonde blonde eleven keenly involved involved years escort , , walls plucked brief awaiting discover nonsense nonsense \n",
            "generated sample\t harry potter , voldemort , and dumbledore walk into a bar . overwhelming coolly craning finest whomping spying potter ahead and we unseen smirking discover tower pieces wonderingly picked picked craning craning craning swiveled study distorted distorted amelia mr mr mr mr mr mr mr mr out out out , inter brighter so walls mr mr potter mr mr imperiused back , thank , dementors mr mr reflecting and gentleman sister dursley dursley , , walls met dear seen seen seen stupid picturing ward mr mr mr mr mr mr mr mr mr mr reflecting so out , potter mr mr mr mr out out , out , , . walls discover mr mr mr ourselves out , out blonde brighter him mr mr mr mr mr reflecting was involved involved good confusing mr mr mr mr mr mr mr reflecting mr mr mr mr furiously mr mr out out , , inter brighter so listen mr mr mr mr mr mr reflecting was out , , . walls mr mr mr whenever bishop dursley dursley , , , walls fancied fancied fancied family engulfed engulfed surname thumping head therefore across picked picked potter keepers controlling formidable say markings bawling dursley dursley , markings batlike picked woke stoop jones held discover blonde \n",
            "generated sample\t harry potter , voldemort , and dumbledore walk into a bar . pointed boil slytherins hold hold hold hold hold hold hold hold hold hold lived lived lived nonsense screaming potter mr mr mr mr mr criticize mr mr out out out , out , , walls mr mr mr lashed discover blonde blonde eleven eleven mr mr reflecting him excitedly was mr mr mr mr ourselves out , ginger mr mr mr mr mr out out , discover , , , walls , discover blonde eleven mr mr ourselves develop concern mr mr mr mr reflecting gentleman mr mr mr out sweets mr mr out out out , out , called good good good good him curling mr mr mr mr mr mr mr out out , , , , . . walls , discover , blonde blonde eleven involved mr mr reflecting and reflecting and dodging ireland mr mr mr mr mr mr mr mr mr mr out out , discover , , , discover , spinning happening happening screaming discover mr mr mr mr mr mr mr mr mr reflecting out , out , , , thank thank thank thank thank that that pressed hannah mason mr mr mr mr mr mr reflecting fuss out , out , , \n",
            "generated sample\t harry potter , voldemort , and dumbledore walk into a bar . overwhelming didn sorcerer sorcerer locked hesitantly contact hold hold hold hold hold hold hold hold back , raised key hold hold hold hold hold hold hold puffy , several several several letters letters happening proud proud proud proud proud proud proud proud proud proud proud proud proud proud proud proud proud proud spiraling diminished seven useful mr mr reflecting mr potter mr mr mr mr mr mr reflecting fuss out , considering thank thank thank thank that that that language hannah dursley nonsense , nonsense nonsense nonsense moony secretary nonsense nonsense happening poisons ginger nonsense worthwhile moony dursley nonsense nonsense nonsense nonsense nonsense really tiredness mr mr mr mr cedric cedric cedric cedric cedric cedric peeling knew knew right raving dursley dursley , so so say say say say dimitrov realise weren sorcerer and say say say freshly art wanted was say say say say staggering that that that that that trepidation that that drive trepidation drive drive drive drive drive drive drive drive necessity him engraved sentenced and slipping discover stooped discover , toe successfully dursley dursley , , , acts you speck evasively an an an headlong proud proud proud proud proud proud spiraling diminished seven diminished team \n"
          ],
          "name": "stdout"
        },
        {
          "output_type": "stream",
          "text": [
            "\r  0%|          | 0/45 [00:00<?, ?it/s]"
          ],
          "name": "stderr"
        },
        {
          "output_type": "stream",
          "text": [
            "generated beam\t\t harry potter , voldemort , and dumbledore walk into a bar . flooded er good good met hold longest was mr mr mr potter potter dursley , , and cormac , walls , and <unknown> discover , drive , thief dursley , as drills , <unknown> , and and kissed soul dursley , walls was neighbor <unknown> sorcerer and imitated mclaggen hopped mr mr mr mr ourselves mr strings out inter and birds , so werewolves that that <unknown> somebody free stooped , son , son , son , , son , sick , son dursley , son , walls burn hold disapparate and brutal holly burn hold mr mr mr mr mr reflecting potter dursley , , drills , walls , and discover , toe , faster dursley , , drills , land and loss offices found land squeakily whiskey and <unknown> hourglass mr mr mr ourselves mr mr mr reflecting dursley , , , walls , discover nonsense discover put happening mr mr ourselves mr mr mr reflecting reflecting and out , and discover , toe discover , serious , drills , , walls , you laughs and dursley trunk beneath incredibly nonsense mr mr mr reflecting and potter dursley , , walls , discover stooped him excitedly cloth inhabited \n",
            "\n"
          ],
          "name": "stdout"
        },
        {
          "output_type": "stream",
          "text": [
            "\r  2%|▏         | 1/45 [00:00<00:21,  2.00it/s]"
          ],
          "name": "stderr"
        },
        {
          "output_type": "stream",
          "text": [
            "Train Epoch: 7 [0/23040 (0%)]\tLoss: 1.523996\n"
          ],
          "name": "stdout"
        },
        {
          "output_type": "stream",
          "text": [
            " 24%|██▍       | 11/45 [00:04<00:12,  2.79it/s]"
          ],
          "name": "stderr"
        },
        {
          "output_type": "stream",
          "text": [
            "Train Epoch: 7 [5120/23040 (22%)]\tLoss: 0.510819\n"
          ],
          "name": "stdout"
        },
        {
          "output_type": "stream",
          "text": [
            " 47%|████▋     | 21/45 [00:07<00:08,  2.79it/s]"
          ],
          "name": "stderr"
        },
        {
          "output_type": "stream",
          "text": [
            "Train Epoch: 7 [10240/23040 (44%)]\tLoss: 0.422441\n"
          ],
          "name": "stdout"
        },
        {
          "output_type": "stream",
          "text": [
            " 69%|██████▉   | 31/45 [00:11<00:05,  2.78it/s]"
          ],
          "name": "stderr"
        },
        {
          "output_type": "stream",
          "text": [
            "Train Epoch: 7 [15360/23040 (67%)]\tLoss: 0.443595\n"
          ],
          "name": "stdout"
        },
        {
          "output_type": "stream",
          "text": [
            " 91%|█████████ | 41/45 [00:14<00:01,  2.76it/s]"
          ],
          "name": "stderr"
        },
        {
          "output_type": "stream",
          "text": [
            "Train Epoch: 7 [20480/23040 (89%)]\tLoss: 0.656020\n"
          ],
          "name": "stdout"
        },
        {
          "output_type": "stream",
          "text": [
            "100%|██████████| 45/45 [00:16<00:00,  2.76it/s]\n"
          ],
          "name": "stderr"
        },
        {
          "output_type": "stream",
          "text": [
            "Input\tglass to his lips - - but it was empty . dumbledore groaned and began to <unknown> . \" but i had some - - wait - - aguamenti ! \" said harry again , pointing his wand at the goblet . once more , for a second , clear \n",
            "GT\tto his lips - - but it was empty . dumbledore groaned and began to <unknown> . \" but i had some - - wait - - aguamenti ! \" said harry again , pointing his wand at the goblet . once more , for a second , clear <unknown> \n",
            "pred\tjar fooled face . \" \" he monitored imprisoning full harry full the the leaky leave a \" so that don no , paint very harry alas very harry harry harry harry immobile . the at wand at the other of \" presented presented without the first - who unnecessary \n",
            "\n",
            "\n",
            "Input\t. dumbledore groaned and began to <unknown> . \" but i had some - - wait - - aguamenti ! \" said harry again , pointing his wand at the goblet . once more , for a second , clear <unknown> - ter gleamed within it , but as he \n",
            "GT\tdumbledore groaned and began to <unknown> . \" but i had some - - wait - - aguamenti ! \" said harry again , pointing his wand at the goblet . once more , for a second , clear <unknown> - ter gleamed within it , but as he approached \n",
            "pred\tthe gold the the leaky garden on \" hagrid the don no with limbs very very very very harry \" harry harry , , the at wand at the other of \" presented presented without the first - who unnecessary the the who with times with who the they an \n",
            "\n",
            "\n",
            "\n",
            "Test set: Average loss: 10.1976, Accuracy: 32923/307200 (11%)\n",
            "\n",
            "\n",
            "Perplexity\n",
            " 26839.6398824057\n",
            "generated max\t\t harry potter , voldemort , and dumbledore walk into a bar . persuading discover deny child child potter sorcerer sorcerer sorcerer keeper racket dumbledore wrist years mr mr mr mr mr mr mr mr out out , out , was was was cares anguished anguished anguished anguished map know thank thank thank mr mr mr mr mr mr tabby so blue as as <unknown> so location mr mr mr mr mr mr mr mr mr inter inter was was was was was was was was was you buzz w good slumping proud proud proud proud proud proud proud proud proud proud proud proud proud proud proud proud proud proud proud proud proud proud proud proud proud proud proud proud proud proud proud proud proud proud proud proud proud proud proud proud proud proud proud proud proud proud proud proud proud proud proud proud proud proud proud proud proud proud proud proud proud proud proud proud proud proud proud proud proud proud proud proud proud proud proud proud proud proud proud proud proud proud proud proud proud proud proud proud proud proud proud proud proud proud proud proud proud proud proud proud proud proud proud proud proud proud proud proud proud proud proud proud proud proud proud proud proud proud proud proud proud \n",
            "generated sample\t harry potter , voldemort , and dumbledore walk into a bar . glance campaign suitable shouldered uncomfortable dumbledore and and dursley dursley sputtered sputtered comin perfectly diminished hold hold hold hold lived lived lived spying potter small realize pressed filth filth restricted although united finest finest talent dursley dursley dursley roberts chance proud proud proud proud proud proud proud proud proud proud proud proud proud proud proud proud proud proud proud proud proud proud proud proud proud proud proud proud proud proud proud proud proud proud proud proud spiraling diminished explode glowered blasted found found longest say dursley dursley , , head examination examination mirror so say say say news say say say staggering sorcerer art faster was say say faster _ reasonable faster dursley , diminished potter hopes potter dursley dursley , and severely providing thundering reach craning window window weatherby window involved years window involved years good good good met seen seen seen if good twice met stricken dursley seen seen seen prepared dursley dursley plugs stop speck crimson providing dursley dursley , aim secretary yorkshire nonsense nonsense nonsense nonsense nonsense route really tiredness mr mr mr mr cedric cedric cedric cedric nougat so so engulfed <unknown> so so say say say say say say say acceptable staggering say say \n",
            "generated sample\t harry potter , voldemort , and dumbledore walk into a bar . sense excitedly years pouch and was spent useful stretching useful mr mr mr mr mr mr mr good inter animagi mr mr mr reflecting mr mr mr back back back back illuminate was steadying flushed disguised was was was reasons potter dursley , walls proud proud proud proud proud proud proud proud proud proud proud proud proud proud proud proud proud proud proud proud proud proud proud proud proud proud proud proud proud proud proud proud proud proud proud proud proud proud proud proud proud proud proud proud proud proud proud proud proud proud proud proud proud proud proud proud proud proud proud proud proud proud proud proud proud proud proud proud proud proud proud proud proud proud proud proud spying predicting portion found found found say say say sprint dursley , , wanted was sleeping dursley , strange strange woke woke proud proud proud proud proud proud proud proud proud proud proud proud spiraling diminished producing found found found hints found musty vigorously chapter chapter chapter chapter chapter obsession obsession excellent potter dursley dursley , secretary nonsense bushy woke aim secretary nonsense secretary nonsense seen seen seen seen seen nougat seen involved beside seen seen seen promised nougat was \n",
            "generated sample\t harry potter , voldemort , and dumbledore walk into a bar . finest sturgis tartan dursley dursley , nonsense and nonsense nonsense nonsense nonsense really tiredness reversed chintz rest bun milky world mr mr mr mr married was was was was was was turrets was involved involved involved involved years jupiter dursley dursley , , throws and and and surface outlines shook so engulfed and right dursley , and and and nurse midday tiredness brisk fraud sparks field dursley dursley desperately albus albus albus albus albus albus albus albus albus albus albus albus albus albus albus albus albus albus secretary freeze window an an an an an awkwardly good spying square paranoid mr mr mr mr mr irritation dursley inter cakes , walls so husband say say say say discover quicker mr mr mr mr lurking good good so dursley dursley , say walls dursley dursley oliver moony bravely hangings potter secretary dursley dursley considered albus albus albus albus albus albus albus albus albus albus albus albus albus albus albus albus albus albus albus albus albus albus albus albus albus albus albus albus albus albus albus albus albus albus albus albus albus albus albus albus albus albus albus albus albus albus albus albus albus albus albus albus albus albus albus albus albus \n",
            "generated sample\t harry potter , voldemort , and dumbledore walk into a bar . vengeance mopped lot blonde eleven involved involved years , boy dursley dursley dursley , nonsense nonsense nonsense nonsense nonsense which nonsense really tiredness too mr mr mr mr mr reflecting was was was involved involved involved drifting dursley dursley , route proud proud proud proud proud proud proud proud proud proud proud proud proud proud proud proud proud proud proud proud proud proud proud proud proud proud proud proud proud proud proud proud proud proud proud proud proud proud proud proud proud proud proud proud proud proud proud proud proud proud proud proud proud proud proud proud proud proud proud proud proud proud proud proud proud proud proud proud proud proud proud proud proud proud proud proud proud proud proud proud proud proud proud proud proud proud proud proud proud proud proud proud proud proud proud proud proud proud proud proud proud proud proud proud proud proud proud proud proud proud proud proud proud proud proud proud proud proud proud proud proud proud proud proud proud proud proud proud proud proud proud proud proud proud proud proud proud proud proud proud proud proud proud proud proud proud proud spiraling canceled irritably say say say say say say staggering that that \n",
            "generated sample\t harry potter , voldemort , and dumbledore walk into a bar . curtly peered dursley dursley , , walls and and cormac bravely translation dursley dursley nonsense nonsense nonsense nonsense nonsense happening involved tiredness lee mullioned dursley , albus albus albus albus albus albus albus albus albus albus albus albus albus albus albus albus albus albus albus albus albus albus albus albus albus albus albus albus albus albus albus albus albus albus secretary freeze seen albus albus albus albus albus albus albus albus albus albus secretary freeze thinking thinking standing thinking zey eyes eyes seen seen seen seen picked beside beside seen seen square pressed craning craning ward oh potter mr mr mr mr reflecting out , potter out , , walls , supposed preparations walls tend bow develop and discover mr mr reflecting wasn , useful mr mr mr reflecting fuss gentleman tongue mr mr mr mr reflecting out , , out , , pop good hunt spying thank thank thank unnoticed mr mr mr mr mr tabby thereafter daughter , so drills mr mr mr mr out out , out , was crouching sparkling dursley , , useful deluded doorbell involved involved spying by chance dursley head years goodness young dursley dursley , , , bumped ouch years potter young \n",
            "generated sample\t harry potter , voldemort , and dumbledore walk into a bar . salazar traveling good mousy fleet sorcerer sorcerer sorcerer splitting waved met involved involved involved years showed potter dursley dursley , , , walls chance picturing wove build and albus albus albus albus albus albus albus albus just secretary expect seen seen st around good met secretary secretary nonsense rosmerta secretary nonsense secretary nonsense nonsense stepping lived young young tin secretary dursley dursley , ouch color deposited tin yorkshire ouch head my ted smartly potter potter thank thank worrying and and and and and and and wearily steered met and and discover , sickles wham bawling simple dursley dursley , , , markings game camping left well bit bit useful mr mr mr good slice proud proud proud proud proud proud proud proud proud proud proud proud proud proud proud proud proud spiraling diminished mysterious dursley dursley , albus albus albus albus albus albus albus albus albus albus albus albus albus albus albus albus albus albus albus albus dud secretary secretary freeze seen seen seen sunrise good good good seen seen seen disappearing picked woke locked hang and caves hiccup say say say discover quicker juice bun cartoon mr mr mr gripped potter potter potter cackle walls chute so posters personal \n",
            "generated sample\t harry potter , voldemort , and dumbledore walk into a bar . vengeance curtly blunt say say say useful dursley dursley , wanted proud proud proud proud proud proud spiraling diminished secretly former found found reverie say say potter dursley dursley , , lived picked picked craning craning swiveled glorious say say really none none , and and and and and and and and and contrary discover continually mr mr mr abuse was was was was was you was spent nightshirt outlines and scribble knight subjected brooms dursley dursley , , and bravely roberts roberts bedroom clambered u twitch shudder trapped window proud proud proud proud proud proud proud proud proud proud proud proud proud proud proud perfumed to packages relentless reaction proud proud proud proud proud proud proud proud proud proud proud kiss hurled bes plan incantations that that that that that that discussing picked drive headquarters trepidation common abandoned none , sorcerer sorcerer sorcerer happening canary although thank thank gulping met mr mr mr mr mr mr tabby so mon was was was tabby overnight woke fumbled recognized zey none none , squashed preparations mr mr mr mr mr mr mr mr furiously mr back back , discover connecting , so tongue drills mr mr mr mr out out , \n",
            "generated sample\t harry potter , voldemort , and dumbledore walk into a bar . poisonous fur demonstrate discover lurked seventeenth clattering lasting drowsy mr mr mr mr mr mr mr criticize out out , , potter thank , thank thank , thank comprehension strange strange strange met say say involved involved involved storming weren unconvincing years mr mr mr mr mr out , out , , , hating blonde good good dursley mr mr mr mr cedric cedric cedric cedric color so so so hagrid say say say say say say say staggering say say say it art was was was was was spent bun clock incapable craning craning craning james coolly mr mr mr mr mr gripped mr mr robe shoes duels inter mr mr mr mr imperiused mon was was was was was was was was was you travers injury lots mr good extinguishing good puking puking met mr mr mr cedric cedric cedric cedric cedric wail nougat so although <unknown> so so amelia mr mr mr mr mr mr cedric cedric cedric asleep so so so rounded so show say say say say say say say relaxed staggering tongue mr mr mr mr mon was was was was was was shrilly driven and seemingly mr mr imperiused inter handwriting was , \n",
            "generated sample\t harry potter , voldemort , and dumbledore walk into a bar . overwhelming and arrive blearily say say proud proud proud proud proud proud proud proud proud proud proud proud proud proud proud proud proud proud proud proud proud proud proud proud proud proud proud proud proud proud proud proud proud proud proud proud proud proud proud proud proud proud proud proud proud proud proud proud proud proud proud proud proud proud proud proud proud proud proud proud proud proud proud proud proud proud proud proud proud proud proud proud proud proud proud proud proud proud proud proud proud proud proud proud proud proud proud proud proud proud spiraling diminished proud proud proud proud proud proud proud proud proud proud proud proud proud proud proud proud proud proud proud proud proud proud proud proud proud proud proud proud proud proud proud proud proud proud proud proud proud spiraling diminished glazed mr mr mr reflecting pewter greeting potter potter mr mr mr reflecting mr out out , out , , , , , , , walls good ready mr mr mr mr reflecting him out , plinth good rattle spying ex mr mr mr mr reflecting disguised potter there noticing composition mr mr mr mr mr mr furiously out , out , , \n",
            "generated sample\t harry potter , voldemort , and dumbledore walk into a bar . keeps robed forks collected years rope closer mr mr mr mr reflecting potter dursley , , , walls so discover put haven keepers contain centaurs useful dursley dursley dursley smart carefully pen found picked picked picked potter potter wheel simply woke locked mending say say say useful picked woke potter feint potter lumbered potter young drills , drills mr mr mr carelessly , harry likely , drills mr mr mr mr mr mr reflecting so grawpy dursley , so dwell if <unknown> so ado country fearfully dursley , walls proud proud proud proud proud spiraling diminished glazed drive taken dursley frowned craning craning kinds and picturing smelly and discover hogsmeade head middle , witnessed dursley , , , nonsense nonsense happening mouthed rage seem tiredness markings elongated dursley rooms spying albus albus albus albus albus albus albus albus albus albus albus albus albus albus albus albus albus albus albus albus albus albus albus albus albus albus thinking thinking thinking thinking mustache thinking ahead mustache guffawed lane orchestra suit proud proud proud proud proud perfumed spying ex look scruff missed <unknown> none spying stared stared stared window tryin announced though picked met number number number number number say , spying stroked \n"
          ],
          "name": "stdout"
        },
        {
          "output_type": "stream",
          "text": [
            "\r  0%|          | 0/45 [00:00<?, ?it/s]"
          ],
          "name": "stderr"
        },
        {
          "output_type": "stream",
          "text": [
            "generated beam\t\t harry potter , voldemort , and dumbledore walk into a bar . overwhelming was w tree complaints and vanished and say say it dursley , staggering somebody driven and cuffs sleep rear accord and flitted hangings <unknown> and nightcap him and right surrounding dursley , was and albus albus pounded albus albus proud proud proud proud proud proud proud proud cupboard cupboard that nonsense that grudge rug sweating and sweating aura stretch de eager and and pour though picked legs drive into and <unknown> say say it dursley , , thank thank that that that that that that that drive drive drive drive drive hey dursley , , ones shape , , pin , pin hallway young and funny funny and though comprehension fields comprehension distance young drive drive dursley , drills , window , window young international announced dursley , , spots , ways down dursley , , and aquiver kinder , discover , mother ' ' ' dursley dursley , cannons elves and picked fact drive indignation dursley nonsense and nonsense berth chuckle much , happening , met and protect maliciously swerve sorcerer and and wagging and wagging say say say say say appear nice dursley , wanted and that once that that that suggestions boats so pasty brilliance strange \n",
            "\n"
          ],
          "name": "stdout"
        },
        {
          "output_type": "stream",
          "text": [
            "\r  2%|▏         | 1/45 [00:00<00:21,  2.06it/s]"
          ],
          "name": "stderr"
        },
        {
          "output_type": "stream",
          "text": [
            "Train Epoch: 8 [0/23040 (0%)]\tLoss: 1.436608\n"
          ],
          "name": "stdout"
        },
        {
          "output_type": "stream",
          "text": [
            " 24%|██▍       | 11/45 [00:03<00:12,  2.83it/s]"
          ],
          "name": "stderr"
        },
        {
          "output_type": "stream",
          "text": [
            "Train Epoch: 8 [5120/23040 (22%)]\tLoss: 0.493166\n"
          ],
          "name": "stdout"
        },
        {
          "output_type": "stream",
          "text": [
            " 47%|████▋     | 21/45 [00:07<00:08,  2.81it/s]"
          ],
          "name": "stderr"
        },
        {
          "output_type": "stream",
          "text": [
            "Train Epoch: 8 [10240/23040 (44%)]\tLoss: 0.418907\n"
          ],
          "name": "stdout"
        },
        {
          "output_type": "stream",
          "text": [
            " 69%|██████▉   | 31/45 [00:11<00:04,  2.81it/s]"
          ],
          "name": "stderr"
        },
        {
          "output_type": "stream",
          "text": [
            "Train Epoch: 8 [15360/23040 (67%)]\tLoss: 0.440171\n"
          ],
          "name": "stdout"
        },
        {
          "output_type": "stream",
          "text": [
            " 91%|█████████ | 41/45 [00:14<00:01,  2.77it/s]"
          ],
          "name": "stderr"
        },
        {
          "output_type": "stream",
          "text": [
            "Train Epoch: 8 [20480/23040 (89%)]\tLoss: 0.606076\n"
          ],
          "name": "stdout"
        },
        {
          "output_type": "stream",
          "text": [
            "100%|██████████| 45/45 [00:16<00:00,  2.79it/s]\n"
          ],
          "name": "stderr"
        },
        {
          "output_type": "stream",
          "text": [
            "Input\tglass to his lips - - but it was empty . dumbledore groaned and began to <unknown> . \" but i had some - - wait - - aguamenti ! \" said harry again , pointing his wand at the goblet . once more , for a second , clear \n",
            "GT\tto his lips - - but it was empty . dumbledore groaned and began to <unknown> . \" but i had some - - wait - - aguamenti ! \" said harry again , pointing his wand at the goblet . once more , for a second , clear <unknown> \n",
            "pred\tjar fooled face . \" \" he was imprisoning full harry full the the leaky leave on \" on it think it , paint paint to alas very <unknown> \" harry harry , . ron at wand at the other of \" of of without the footsteps - yelled unnecessary \n",
            "\n",
            "\n",
            "Input\t. dumbledore groaned and began to <unknown> . \" but i had some - - wait - - aguamenti ! \" said harry again , pointing his wand at the goblet . once more , for a second , clear <unknown> - ter gleamed within it , but as he \n",
            "GT\tdumbledore groaned and began to <unknown> . \" but i had some - - wait - - aguamenti ! \" said harry again , pointing his wand at the goblet . once more , for a second , clear <unknown> - ter gleamed within it , but as he approached \n",
            "pred\tthey gold blunder it leaky yer on on on it think future with limbs very godric alas very <unknown> \" harry harry and . ron at wand at the other of \" of of without footsteps footsteps - who unnecessary - the say . times . who i dumbledore <unknown> \n",
            "\n",
            "\n",
            "\n",
            "Test set: Average loss: 10.0215, Accuracy: 34263/307200 (11%)\n",
            "\n",
            "\n",
            "Perplexity\n",
            " 22504.383264765802\n",
            "generated max\t\t harry potter , voldemort , and dumbledore walk into a bar . persuading discover deny child child potter sorcerer sorcerer sorcerer keeper racket dumbledore wrist years mr mr mr mr mr mr mr mr mr mr mr reflecting was was was was was involved involved years news dursley dursley , , walls proud proud proud proud proud proud proud proud proud proud proud proud proud proud proud proud proud proud proud proud proud proud proud proud proud proud proud proud proud proud proud proud proud proud proud proud proud proud proud proud proud proud proud proud proud proud proud proud proud proud proud proud proud proud proud proud proud proud proud proud proud proud proud proud proud proud proud proud proud proud proud proud proud proud proud proud proud proud proud proud proud proud proud proud proud proud proud proud proud proud proud proud proud proud proud proud proud proud proud proud proud proud proud proud proud proud proud proud proud proud proud proud proud proud proud proud proud proud proud proud proud proud proud proud proud proud proud proud proud proud proud proud proud proud proud proud proud proud proud proud proud proud proud proud proud proud proud proud proud proud proud proud proud proud proud proud proud proud proud proud \n",
            "generated sample\t harry potter , voldemort , and dumbledore walk into a bar . suppress blacks evidence say say say discover dursley , markings bun potter importantly counted potter dursley form window potter potter grandparents ouch planned window mr mr mr ourselves mr cedric cedric cedric cedric cedric tonight mr mr mr mr mr reflecting was was was was okay mr mr mr mr mr mr reflecting out , mr mr mr mr mr out was was was was was was you travers appointed mr mr mr mr mr mr mr reflecting out , , out , shawls mr mr mr cakes disguised inter thank thank thank mr mr mr mr mr mr mr reflecting so so chalk simple dursley dursley , thank thank thank thank that and met found dursley dursley head pressed arguments society met nonsense nonsense nonsense picked woke potter potter moony markings interviewed mr mr cedric cedric cedric cedric cedric nougat grudge viktor so wearing so so say say say say say say say predicting pig discover mr mr mr mr mr mr mr mr mr reflecting out , potter dursley , , , walls , discover brilliance discover sorcerer drive dursley dursley , nonsense nonsense happening nonsense nonsense happening discover nonsense expectations pang screaming discover mr mr mr mr \n",
            "generated sample\t harry potter , voldemort , and dumbledore walk into a bar . discover excitedly nightdress wheel inserted sorcerer potter potter dursley dursley , , albus albus albus albus albus albus albus albus albus albus albus albus albus albus albus albus albus albus albus albus albus albus albus albus secretary thinking thinking thinking thinking mustache thinking mustache guffawed w picked picked picked craning craning glassy mr mr mr mr mr mr mr mr reflecting lashed discover mr mr mr reflecting gentleman mr mr mr reflecting gentleman good mr mr mr mr tabby out , inter thank thank thank thank that that that mr mr mr mr mr tabby mr mr mr cedric cedric cedric cedric tonight tonight did thank thank thank you mr mr mr mr reflecting mr mr mr reflecting reflecting gentleman fumbled raging met mr mr mr mr mr mr reflecting mr mr mr reflecting mr mr mr mr reflecting out , back mr mr mr mr out was was was was was middle lashed gateway discover counter mr mr mr mr mr mr reflecting zoom so simple out , minute noticing mr mr mr reflecting out , out , back mr mr mr mr out out , discover mr mr mr mr mr mr reflecting was was was cares minute \n",
            "generated sample\t harry potter , voldemort , and dumbledore walk into a bar . discover deny child sorcerer sorcerer rid sandwich dursley dursley dursley severely properly thumbs proud proud proud proud proud proud proud proud proud proud proud proud proud proud proud proud proud proud proud proud proud proud proud proud proud proud proud proud proud proud proud proud proud proud proud proud proud proud proud proud proud proud proud proud proud proud proud proud proud proud proud proud pals incantations breeding mr mr simpering married discovering dursley diminished proud proud proud proud proud proud proud proud proud proud proud proud proud proud proud proud proud proud proud proud proud proud proud proud proud proud proud proud proud proud proud proud proud proud proud proud proud proud proud proud proud bes bes diminished glazed nonsense nonsense spattergroit braver walls discover mr mr mr mr mr reflecting was was was pocketed was was trouble and w good doorbell discover mr mr mr mr mr mr mr reflecting was was was <unknown> him involved involved mr mr mr reflecting reflecting and and flushed mr mr mr reflecting reflecting potter mr mr mr mr mr reflecting ooh dursley , , , thank thank thank pygmy mr mr mr mr mr mr reflecting reflecting , potter mr mr \n",
            "generated sample\t harry potter , voldemort , and dumbledore walk into a bar . right display discover screaming musty potter potter potter hard useful potter merchandise selection proud proud proud proud proud proud proud proud proud proud proud proud proud proud proud proud proud proud proud proud proud proud proud proud proud proud proud proud proud proud proud proud proud proud proud proud proud proud proud proud proud proud proud proud proud proud proud proud proud proud proud proud proud proud proud proud proud proud proud proud proud proud proud proud proud proud proud proud proud proud proud proud proud proud proud proud proud proud proud proud proud proud proud proud proud proud proud proud proud proud proud proud proud proud proud proud proud proud proud proud proud proud proud proud proud proud proud proud proud proud proud proud proud proud proud proud to wife scrimgeour matched blast prickling potter dursley dursley abandoned , soot albus proud proud proud proud proud proud proud proud proud proud proud proud proud proud proud proud proud proud proud proud proud perfumed perfumed possibility packages reasons found found found found say say say tion dursley , , , thank thank that that that that drive drive drive drive drive drive drive drive drive drive drive drive drive drive \n",
            "generated sample\t harry potter , voldemort , and dumbledore walk into a bar . overwhelming exercise window ashamed potter pouch incapable none , , called seen seen dursley dursley , , nonsense nonsense nonsense nonsense nonsense happening discover mindedly dursley dursley , albus albus albus albus albus albus albus albus grapefruit swung swung finally went went poor nonsense secretary nonsense secretary nonsense jam key picked picked picked woke woke buck picked woke potter woke potter say say say say say proud proud proud proud proud proud proud proud proud proud proud proud proud proud proud proud proud proud proud proud proud proud proud proud proud proud proud proud proud proud proud proud proud proud proud proud proud proud proud proud supreme proud proud proud proud proud proud proud proud proud proud proud proud proud proud proud proud proud proud proud proud proud proud proud proud proud proud proud proud proud proud proud proud proud proud proud proud proud proud proud proud proud proud proud proud proud proud proud proud proud proud proud proud proud proud proud proud proud proud proud proud proud proud proud proud proud proud proud proud proud proud proud proud proud proud proud proud proud spiraling diminished incantations producing split mr mr mr mr reflecting mr mr cedric reflecting so mr \n",
            "generated sample\t harry potter , voldemort , and dumbledore walk into a bar . sibyll held and picked discover bracingly blindly window driven potter years showed window , and and cracks an an an an an seeing icy held potter potter potter moony sorcerer sorcerer potter grandparents hitting right involved involved years showed approve seen seen prepared prepared cleaner beside discover craning craning craning mr mr mr mr mr minute inter driven , was was was was was employ screaming discover mr mr mr mr mr inter inter potter vane island , families mr mr mr reflecting disguised inter posters thank thank thank thank that mr mr mr mr mr mr tabby so diving so vampires needle inter egg separated dursley dursley fox ginger chance reunited thought dursley dursley , wanted proud proud proud proud proud proud banisters say say say useful stretching stretching wall stretching say say proud proud proud proud proud proud proud proud proud proud proud proud proud proud proud proud proud proud proud proud proud proud proud proud proud proud proud proud proud proud proud proud proud proud proud proud proud proud proud proud proud proud proud proud proud proud proud proud proud proud proud proud proud proud proud proud proud proud proud proud proud proud proud proud proud proud \n",
            "generated sample\t harry potter , voldemort , and dumbledore walk into a bar . ghostly held discover driven echoes responsible herbs wishes sorcerer sorcerer rid potter mr carelessly mr mr mr mr reflecting reflecting potter mr mr mr mr mr mr reflecting mr mr warningly reflecting gentleman mr mr mr mr mr back back back discover , favors sir sir used mr mr mr mr mr mr mr mr reflecting was was involved involved good scribble good dumbledore mr mr mr mr mr mr reflecting discover , simple potter mr mr mr mr mr bunk mr mr mr out out out , , thank thank thank thank thank thank that that mr mr mr mr mr mr mr cedric cedric cedric peeling found so say mr mr mr mr mr reflecting mr mr mr reflecting fuss gentleman mr mr mr reflecting mr mr mr mr reflecting out , disguised shouldn mr mr mr mr mr mr reflecting fuss out , was and flushed mr mr mr reflecting reflecting mr mr mr mr mr mr reflecting hallows mr mr mr mr reflecting fuss gentleman mr mr mr mr mr back back woke consider back mr mr mr reflecting hallows potter potter thank thank thank that gulping mr mr mr mr mr tabby so diving so \n",
            "generated sample\t harry potter , voldemort , and dumbledore walk into a bar . discover deny child sorcerer staffroom potter responsibility involved involved involved years boy boy boy boy dursley dursley dursley reveal proud proud proud proud proud proud proud proud proud proud proud proud proud proud proud proud proud proud proud proud proud proud proud proud proud proud proud proud proud proud proud proud proud proud proud proud proud proud proud proud proud proud proud proud proud proud proud proud proud proud proud proud proud incantations incantations breeding shrink mr mr mr mr simpering so lurking so forget say say say useful stretching stretching stretching wanted proud proud proud proud proud proud proud proud proud proud proud spiraling diminished hitting that that that discussing married taunt dursley dursley , albus albus albus proud proud proud proud proud proud proud proud proud proud proud proud proud proud proud proud proud proud proud proud proud proud proud proud proud proud proud proud proud proud proud proud proud proud proud proud proud proud proud proud proud proud proud proud proud proud proud proud proud proud proud proud proud proud proud proud proud proud proud proud proud proud proud proud proud proud proud proud proud proud proud proud proud proud proud proud proud proud proud proud proud \n",
            "generated sample\t harry potter , voldemort , and dumbledore walk into a bar . discover deny blonde blonde eleven mr mr mr mr mr rimmed mr mr mr rimmed inter mr mr mr reflecting gentleman fuss scribble mr mr mr mr mr reflecting gentleman dursley inter thank thank thank thank that that that that that that that that that mason tonight thinking thinking thinking thinking thinking thinking thinking mustache plotting purge window dipped picked hangings window , potter much , brooms execution protection them spying tweed hold hold hold hold hold dragons , baron goyle mr mr mr mr mr mr reflecting shoes , disguised several several several several squad ungrateful men loser gently window dursley , , walls so claiming say say dursley dursley dursley rings perfectly perfectly perfectly perfectly picked picked mind screamed hold hold hold hold hold hold hold hold hold lived lived lived spying agitated and and and and and and and and curtly wiz chance scroll dursley dursley , albus albus albus albus albus albus albus albus albus albus albus albus albus albus albus albus albus albus albus albus albus albus thinking thinking thinking thinking thinking mustache thinking mustache guffawed law w eh guffawed none , , called picked dursley , , , picked picked simply woke woke maroon \n",
            "generated sample\t harry potter , voldemort , and dumbledore walk into a bar . discover deny sorcerer say hell bun jones potter dursley , , walls markings yells drive dursley dursley dursley , nor albus albus albus albus albus albus albus albus albus albus albus albus albus albus albus albus albus albus albus albus albus albus albus albus albus albus albus swipe shiver window grudge awkwardly ambitious seen seen mr mr ourselves mr mr mr mr reflecting was was was <unknown> escaping chair involved mr mr mr lashed discover usually deny reasons mr mr mr mr mr reflecting out , , potter dursley , , , walls , discover nonsense nonsense nonsense nonsense stepping discover nonsense responsibility screaming sources dursley , nonsense nonsense striding potter herbs baubles potter herbs potter potter young flinging drills drills , hermione , hold , , hold hold baron , , eye young mr mr mr cedric cedric cedric cedric cedric suggest although so condition mr mr mr mr mr mr mr mr mr reflecting mr mr mr mr inter whizzing gain , was was was was was ! travers potter potter involved involved involved slumping years mermish dursley , , , , , , markings young discover nonsense nonsense nonsense prey dursley , nonsense nonsense nonsense nonsense nonsense \n"
          ],
          "name": "stdout"
        },
        {
          "output_type": "stream",
          "text": [
            "\r  0%|          | 0/45 [00:00<?, ?it/s]"
          ],
          "name": "stderr"
        },
        {
          "output_type": "stream",
          "text": [
            "generated beam\t\t harry potter , voldemort , and dumbledore walk into a bar . he excitedly and was suit rack out , and ride , and neither dursley , so telling say say it dursley , walls it nonsense and was trepidation that which albus albus albus albus albus proud proud proud proud proud proud lettering stretching harpies was was tucked hillside de protecting and de pour though yelped zoo mr mr like and was so anti and and because discover , stooped , because smugness around unforgivable , wizengamot down mr mr mr mr potter dursley , , , and , was woke woke clamped this and and realize prickling have even roar , nonsense nonsense feast potter potter young young , drills hold , potter , allowed , and , manner , <unknown> rein bit , useful , right <unknown> , <unknown> and <unknown> dursley , <unknown> was separately <unknown> useful , markings dursley , \" speck bank yorkshire and nonsense prey calming boiling , nonsense nonsense potter , potter , flitwick , pattern , harry potter young allowed discover , potter clock incapable , you original , footsteps . walls grizzled secure incapable pudding , window , called and . simple by mr mr mr mr reflecting out , potter , \n",
            "\n"
          ],
          "name": "stdout"
        },
        {
          "output_type": "stream",
          "text": [
            "\r  2%|▏         | 1/45 [00:00<00:21,  2.03it/s]"
          ],
          "name": "stderr"
        },
        {
          "output_type": "stream",
          "text": [
            "Train Epoch: 9 [0/23040 (0%)]\tLoss: 1.318358\n"
          ],
          "name": "stdout"
        },
        {
          "output_type": "stream",
          "text": [
            " 24%|██▍       | 11/45 [00:04<00:12,  2.80it/s]"
          ],
          "name": "stderr"
        },
        {
          "output_type": "stream",
          "text": [
            "Train Epoch: 9 [5120/23040 (22%)]\tLoss: 0.473457\n"
          ],
          "name": "stdout"
        },
        {
          "output_type": "stream",
          "text": [
            " 47%|████▋     | 21/45 [00:07<00:08,  2.82it/s]"
          ],
          "name": "stderr"
        },
        {
          "output_type": "stream",
          "text": [
            "Train Epoch: 9 [10240/23040 (44%)]\tLoss: 0.410946\n"
          ],
          "name": "stdout"
        },
        {
          "output_type": "stream",
          "text": [
            " 69%|██████▉   | 31/45 [00:11<00:05,  2.79it/s]"
          ],
          "name": "stderr"
        },
        {
          "output_type": "stream",
          "text": [
            "Train Epoch: 9 [15360/23040 (67%)]\tLoss: 0.430584\n"
          ],
          "name": "stdout"
        },
        {
          "output_type": "stream",
          "text": [
            " 91%|█████████ | 41/45 [00:14<00:01,  2.77it/s]"
          ],
          "name": "stderr"
        },
        {
          "output_type": "stream",
          "text": [
            "Train Epoch: 9 [20480/23040 (89%)]\tLoss: 0.580927\n"
          ],
          "name": "stdout"
        },
        {
          "output_type": "stream",
          "text": [
            "100%|██████████| 45/45 [00:16<00:00,  2.78it/s]\n"
          ],
          "name": "stderr"
        },
        {
          "output_type": "stream",
          "text": [
            "Input\tglass to his lips - - but it was empty . dumbledore groaned and began to <unknown> . \" but i had some - - wait - - aguamenti ! \" said harry again , pointing his wand at the goblet . once more , for a second , clear \n",
            "GT\tto his lips - - but it was empty . dumbledore groaned and began to <unknown> . \" but i had some - - wait - - aguamenti ! \" said harry again , pointing his wand at the goblet . once more , for a second , clear <unknown> \n",
            "pred\tjar fooled face . \" \" he was imprisoning full finds gave the the tle foe . \" on that think no , to to to the \" <unknown> \" harry harry , . \" at wand at the other of \" there important without the name somethin yelled unnecessary \n",
            "\n",
            "\n",
            "Input\t. dumbledore groaned and began to <unknown> . \" but i had some - - wait - - aguamenti ! \" said harry again , pointing his wand at the goblet . once more , for a second , clear <unknown> - ter gleamed within it , but as he \n",
            "GT\tdumbledore groaned and began to <unknown> . \" but i had some - - wait - - aguamenti ! \" said harry again , pointing his wand at the goblet . once more , for a second , clear <unknown> - ter gleamed within it , but as he approached \n",
            "pred\tthey had the the leaky yer on \" on his think future hesitate to to to very very <unknown> \" harry harry , . \" at wand at the responsibility of \" there important without the name announcing yelled unnecessary dirt the say with times treat \" they they ' \n",
            "\n",
            "\n",
            "\n",
            "Test set: Average loss: 10.0056, Accuracy: 36447/307200 (12%)\n",
            "\n",
            "\n",
            "Perplexity\n",
            " 22149.664834031468\n",
            "generated max\t\t harry potter , voldemort , and dumbledore walk into a bar . excitedly picked craning craning craning swiveled swiveled bag guess amelia restored mr mr mr mr out , out , , walls , potter mr mr mr reflecting out , , walls , discover blonde blonde eleven mr mr reflecting reflecting gentleman mr mr mr reflecting gentleman mr mr mr mr mr reflecting gentleman mr mr mr mr mr mr reflecting gentleman mr mr mr mr mr reflecting gentleman mr mr mr mr mr reflecting gentleman mr mr mr mr mr reflecting gentleman mr mr mr mr mr reflecting gentleman mr mr mr mr mr reflecting gentleman mr mr mr mr mr reflecting gentleman mr mr mr mr mr reflecting gentleman mr mr mr mr mr reflecting gentleman mr mr mr mr mr reflecting gentleman mr mr mr mr mr reflecting gentleman mr mr mr mr mr reflecting gentleman mr mr mr mr mr reflecting gentleman mr mr mr mr mr reflecting gentleman mr mr mr mr mr reflecting gentleman mr mr mr mr mr reflecting gentleman mr mr mr mr mr reflecting gentleman mr mr mr mr mr reflecting gentleman mr mr mr mr mr reflecting gentleman mr mr mr mr mr reflecting gentleman mr mr mr mr mr reflecting \n",
            "generated sample\t harry potter , voldemort , and dumbledore walk into a bar . discover deny blonde say blonde eleven and and discover , weren worth knitting dursley dursley dursley carefully craning proud proud proud proud proud proud proud proud proud proud proud proud proud proud proud proud proud proud proud proud proud proud proud proud proud proud proud proud proud proud proud proud proud proud proud proud proud proud plan look possibility found found found found darkening beast found found straining taken hold hold hold hold hold key dursley strange proud proud proud proud proud proud proud proud proud proud proud proud proud proud proud proud proud proud proud proud proud proud proud proud proud proud proud proud proud proud proud proud proud proud proud proud proud proud proud proud proud proud proud proud proud proud proud proud proud proud proud proud proud proud proud proud proud proud proud proud proud proud proud proud proud proud proud proud proud proud proud proud proud proud proud proud proud proud proud proud proud proud proud proud proud proud proud proud proud proud proud proud proud proud proud proud proud proud proud proud proud proud proud proud proud proud proud proud proud proud proud proud proud proud proud proud proud proud proud proud proud proud proud \n",
            "generated sample\t harry potter , voldemort , and dumbledore walk into a bar . discover sniff trust successfully morale dursley close proud proud proud proud takes asks announced sweating notices sight useful dursley , walls and providing glazed dursley dursley depths albus albus albus albus albus albus albus albus albus albus thinking thinking squinting window hoop flicker flitwick window sheepish tackle law , secretary haircut things abou gold dursley , walls picturing window mr mr mr mr ourselves mr mr mr mr mr reflecting mr reflecting mr mr mr reflecting gentleman mr mr mr mr reflecting gentleman disguised mr mr mr mr mr reflecting judging gave mr mr mr reflecting gentleman mr mr mr mr reflecting fuss gentleman mr mr mr mr reflecting mr mr mr reflecting mr mr mr reflecting gentleman gave was was nightshirt was steadying gave was was was was was found involved involved confusing confusing fur dursley dursley , walls waistcoat elves hangings appeared proud proud proud proud perfumed possibility drive drive drive drive drive happening drive happening keeping window , window bathilda and and drive drive drive drive drive drive drive drive drive drive window nonsense window window rear bathilda , called st , , called boils suspiciously articles mr mr mr mr bunk mr mr mr mr mr \n",
            "generated sample\t harry potter , voldemort , and dumbledore walk into a bar . grizzled discover screaming conscious force human hers mr mr mr mr potter dursley so and and and and and and and discover diminished slytherin exercise woke strange proud proud proud proud proud proud proud proud proud proud proud proud proud proud proud proud proud wife curved bes don sorcerer sorcerer potter walls annoyed potter annoyed spying fuss devil dream picked picked picked woke potter potter young young guess scratching guess ninth flashing sob uncertain swarming , , drills , sensation , walls dursley dursley dursley nonsense nonsense nonsense nonsense nonsense stepping encrusted therefore picked failed aragog , wanted brief proud proud proud proud proud proud proud proud proud proud proud proud proud proud proud proud proud proud proud proud proud proud proud proud proud proud proud proud proud proud proud proud proud proud proud proud proud proud proud proud proud proud proud proud proud proud proud proud proud proud proud spiraling diminished curious dursley dursley , nonsense say say proud proud proud proud proud proud proud proud proud proud proud proud proud proud proud proud proud proud proud proud proud proud proud proud proud proud proud proud proud proud proud proud proud proud proud proud proud proud proud proud proud \n",
            "generated sample\t harry potter , voldemort , and dumbledore walk into a bar . excitedly elderly musty whipped lot any , nutters x rightly stare gain and , and and rattled creeping tweed approaching dursley hagger spent mr mr mr mr mr mr inter disconcerted , involved mr mr reflecting mr mr reflecting mr mr reflecting gentleman disguised mr mr mr mr back back gave gentleman back , gentleman kill sir and thank and that and that that that that grudge employ greatly shook talons carefully somehow answered achieve stirring potter dursley dursley , walls proud proud proud proud proud proud proud proud spying incantations bes bes holds appear wide involved involved involved hugged say say say say penalty powerfully within and and camera clock that that that that that that that discussing picked nonsense picked incapable craning realize transformed jumping thinking mr mr mr mr harry furiously mr mr mr gripped faintly significant mr mr mr mr reflecting potter mr mr mr mr inter back , walls thinking mr mr mr reflecting wasn so walls mr mr reflecting mr reflecting mr mr mr reflecting gentleman chill mr mr mr reflecting mr mr reflecting mr mr mr reflecting gentleman minute mr mr mr mr mr reflecting gave was was was was was was steadying \n",
            "generated sample\t harry potter , voldemort , and dumbledore walk into a bar . sibyll shake jinx delacours involved involved involved eater involved involved years say dursley dursley dursley , severely finest ferociously proud proud proud proud proud proud proud proud proud proud proud proud proud proud proud proud proud proud proud proud proud proud proud proud proud proud proud proud proud proud proud quarter incantations producing incantations sweating mr mr mr reflecting cedric cedric cedric cedric cedric tonight did found incantations mr mr reflecting and and realize so actions mr mr mr mr reflecting mr mr mr mr mr mr mr reflecting mr mr mr out was was was was was overnight travers woke immortality potter dursley dursley , , walls proud proud proud scrolls diminished drive drive drive drive drive drive drive drive drive drive drive drive drive drive drive drive drive drive drive drive drive drive drive drive drive drive else nonsense , numb drive drive drive drive drive 4 grease robe dursley , , , , , agrees young evidence evidence discover nonsense moony screaming discover crowd mr mr mr mr mr reflecting mr mr mr mr reflecting gentleman harm mr mr mr reflecting gentleman mr mr mr mr reflecting gentleman mr mr mr mr mr reflecting disguised inter mr \n",
            "generated sample\t harry potter , voldemort , and dumbledore walk into a bar . bustling slashing evidence spectacles and and was involved involved years braced briskly christmas mysterious dursley dursley , , walls proud proud proud proud proud proud proud proud proud proud proud proud proud proud proud proud proud proud proud proud proud proud proud proud proud proud proud proud proud proud proud proud proud proud proud proud proud proud proud proud proud proud perfumed irritably to look scruff look scruff lightning dursley dursley , nonsense nonsense nonsense nonsense picked picked failed gold obscured nonsense nonsense screaming mr mr mr mr stiffly mr mr mr reflecting back discover usually mr mr mr mr mr reflecting was mr mr mr mr reflecting mr mr mr back mr back mr reflecting gentleman disguised dursley dursley , thank thank thank thank that that that that that drive drive drive drive drive drive drive drive drive drive drive drive drive else , window off off dursley , , , called and and picked craning craning craning craning dragon skirt mr mr mr mr mr mr mr furiously mr inter cliff mr mr mr inter was was was was was was was frantically simple crackling mr mr mr mr reflecting mr mr mr reflecting gentleman disguised several , \n",
            "generated sample\t harry potter , voldemort , and dumbledore walk into a bar . excitedly picked discover bracingly flopping screaming potter sorcerer sorcerer sorcerer somehow performing involved involved involved involved aims groping dursley nosy around proud proud proud proud proud proud proud proud proud proud proud proud proud proud proud proud proud proud proud proud proud proud proud proud proud proud proud proud proud proud proud proud proud proud proud proud proud proud proud proud proud proud proud proud proud proud proud proud proud proud proud proud proud proud proud proud proud proud proud proud proud proud proud proud proud proud proud proud proud proud proud proud proud proud proud proud proud proud proud proud proud bes bes bes holds holds holds holds involve descend rights holds proud proud proud proud proud proud proud proud proud proud proud proud proud proud proud proud proud proud proud proud proud proud proud proud producing bes bes wounded found found found found reflecting twisting potter potter dursley dursley , walls loathed brilliance vigorously dursley dursley p mirthless and picked picked craning craning craning craning window tied tied though that drive drive awestruck and ll windowsill norris norris flow gotta velvet dursley dursley , , walls proud proud proud proud popping proud proud proud proud mr mr reflecting \n",
            "generated sample\t harry potter , voldemort , and dumbledore walk into a bar . girlfriend excitedly good justin lavender proud proud proud proud proud proud centaurs proud proud proud proud proud proud proud proud to to wife suggest don proud proud proud proud proud proud proud proud proud proud proud proud proud proud proud proud proud proud proud wife chute that that that that married truth sycophantically my my horrorstruck found picked say say say say say say staggering say staggering say it mr mr mr reflecting mr mr mr reflecting mr mr reflecting podium so dursley dursley , so say say discover quicker it say mr mr mr reflecting mr mr reflecting skiing gentleman guests mr mr mr mr inter potter mr mr mr mr reflecting mr mr mr mr mr reflecting reflecting gentleman inter mr mr mr reflecting wasn tongue mr mr mr mr mr reflecting wasn , was was was was was cares gently mr mr mr mr mr mr reflecting disguised involved mr mr mr mr reflecting mr reflecting back mr mr reflecting gentleman disguised and mirror and and and and and and and thank thank that that that that that that that that that that mason picked confession disappointed truth appeared \\( drive drive blonde amounts cowardly saying together \n",
            "generated sample\t harry potter , voldemort , and dumbledore walk into a bar . excitedly musty nightdress haze admitting and stared window proud proud proud proud proud proud proud proud proud proud proud proud proud proud proud proud proud proud proud proud proud proud proud proud proud proud proud proud proud proud proud proud proud proud proud proud proud proud proud proud proud proud proud proud proud proud proud proud proud proud proud proud proud proud proud proud proud proud proud proud proud proud proud proud proud proud proud proud proud proud proud proud proud proud proud proud perfumed strangely proud proud proud proud proud proud proud proud proud proud proud proud proud proud proud proud proud proud proud proud proud proud proud proud proud proud proud proud proud proud proud proud proud proud proud proud proud proud proud proud proud proud proud proud proud proud proud proud wife bes bes producing backward found found found found crisp involved nah dursley dursley , zoo proud proud proud proud proud proud proud incantations incantations drive drive drive drive drive matter parted window separated dursley dursley , , walls and discover nonsense nonsense nonsense nonsense nonsense nonsense expectations expectations him excitedly experiments educational uncertain says drills mr mr mr mr mr furiously tabby out , , \n",
            "generated sample\t harry potter , voldemort , and dumbledore walk into a bar . excitedly dursleys hiding arrive nightdress fortune exchanging proud proud proud proud proud proud proud proud proud proud proud proud proud proud proud proud proud proud proud proud proud seemed proud proud proud proud proud proud proud proud proud proud proud proud proud proud proud proud proud proud proud proud proud proud proud proud proud proud proud proud proud proud proud proud proud proud proud proud proud proud proud proud proud proud proud proud proud proud proud proud proud proud proud proud proud proud proud proud perfumed duels look nonsense sorcerer barnabas proud proud proud proud proud proud proud proud proud proud proud proud proud proud proud proud proud proud proud proud proud proud proud proud proud proud proud proud proud proud proud proud proud proud proud proud proud proud proud proud proud proud proud proud proud proud proud proud proud proud proud proud proud proud proud proud proud proud proud proud proud proud proud proud proud proud proud proud proud proud proud proud proud proud proud proud proud proud proud proud proud proud proud proud proud proud proud proud seemed proud proud proud proud proud proud proud proud proud proud proud proud proud proud proud proud proud proud proud proud \n"
          ],
          "name": "stdout"
        },
        {
          "output_type": "stream",
          "text": [
            "\r  0%|          | 0/45 [00:00<?, ?it/s]"
          ],
          "name": "stderr"
        },
        {
          "output_type": "stream",
          "text": [
            "generated beam\t\t harry potter , voldemort , and dumbledore walk into a bar . excitedly 5 window , whipped and bits medieval and drip instantly and chanced dursley dursley , loathed loathed tongue remain dursley , and nonsense eyes attempted nonsense drive dursley , nonsense flowered screaming low dursley dursley , whether yorkshire , hopes and nonsense dursley of and to prompted desperate pour drawing dursley , right finest detected crossing lifeless years , happens folded and and and realize and followed zigzagged would mr um dursley , thank thank thank that that that that that that that family albus picked realize pressed atrium evening nonsense , nonsense bear thinking , albus albus albus plot grapefruit mr mr mr potter dursley , , walls , and and discover , deliberately , excitedly dursley , sneaked panic backfired bark aim ' timetable above poking onlookers dursley , head and . waiting jones albus albus albus albus albus proud proud proud proud proud proud proud lettering stretching dungeon don say say in tufty dursley , that that that that that that that picked craning hoping craning study additional jogged there dursley , head outrageous weekend and nonsense and nonsense nonsense bear useful dursley , nonsense , nonsense failed principles opened lived mr mr mr potter dursley \n",
            "\n"
          ],
          "name": "stdout"
        },
        {
          "output_type": "stream",
          "text": [
            "\r  2%|▏         | 1/45 [00:00<00:21,  2.05it/s]"
          ],
          "name": "stderr"
        },
        {
          "output_type": "stream",
          "text": [
            "Train Epoch: 10 [0/23040 (0%)]\tLoss: 1.450707\n"
          ],
          "name": "stdout"
        },
        {
          "output_type": "stream",
          "text": [
            " 24%|██▍       | 11/45 [00:03<00:12,  2.81it/s]"
          ],
          "name": "stderr"
        },
        {
          "output_type": "stream",
          "text": [
            "Train Epoch: 10 [5120/23040 (22%)]\tLoss: 0.531418\n"
          ],
          "name": "stdout"
        },
        {
          "output_type": "stream",
          "text": [
            " 47%|████▋     | 21/45 [00:07<00:08,  2.81it/s]"
          ],
          "name": "stderr"
        },
        {
          "output_type": "stream",
          "text": [
            "Train Epoch: 10 [10240/23040 (44%)]\tLoss: 0.443140\n"
          ],
          "name": "stdout"
        },
        {
          "output_type": "stream",
          "text": [
            " 69%|██████▉   | 31/45 [00:11<00:05,  2.80it/s]"
          ],
          "name": "stderr"
        },
        {
          "output_type": "stream",
          "text": [
            "Train Epoch: 10 [15360/23040 (67%)]\tLoss: 0.456635\n"
          ],
          "name": "stdout"
        },
        {
          "output_type": "stream",
          "text": [
            " 91%|█████████ | 41/45 [00:14<00:01,  2.77it/s]"
          ],
          "name": "stderr"
        },
        {
          "output_type": "stream",
          "text": [
            "Train Epoch: 10 [20480/23040 (89%)]\tLoss: 0.580565\n"
          ],
          "name": "stdout"
        },
        {
          "output_type": "stream",
          "text": [
            "100%|██████████| 45/45 [00:16<00:00,  2.77it/s]\n"
          ],
          "name": "stderr"
        },
        {
          "output_type": "stream",
          "text": [
            "Input\tglass to his lips - - but it was empty . dumbledore groaned and began to <unknown> . \" but i had some - - wait - - aguamenti ! \" said harry again , pointing his wand at the goblet . once more , for a second , clear \n",
            "GT\tto his lips - - but it was empty . dumbledore groaned and began to <unknown> . \" but i had some - - wait - - aguamenti ! \" said harry again , pointing his wand at the goblet . once more , for a second , clear <unknown> \n",
            "pred\tjar fooled life and \" \" he was imprisoning devastated harry gave the the neck foe on \" so his don nightfall , to to to the \" <unknown> \" harry harry had . \" \" mouth at the responsibility without \" there important without a first , somethin view \n",
            "\n",
            "\n",
            "Input\t. dumbledore groaned and began to <unknown> . \" but i had some - - wait - - aguamenti ! \" said harry again , pointing his wand at the goblet . once more , for a second , clear <unknown> - ter gleamed within it , but as he \n",
            "GT\tdumbledore groaned and began to <unknown> . \" but i had some - - wait - - aguamenti ! \" said harry again , pointing his wand at the goblet . once more , for a second , clear <unknown> - ter gleamed within it , but as he approached \n",
            "pred\the gold the loony leaky grateful on \" and his don future with to to to very \" harry \" harry harry had . \" his mouth at the responsibility without \" there important without a first , somethin view - the say . times this who he she was \n",
            "\n",
            "\n",
            "\n",
            "Test set: Average loss: 9.8007, Accuracy: 32627/307200 (11%)\n",
            "\n",
            "\n",
            "Perplexity\n",
            " 18046.75355336502\n",
            "generated max\t\t harry potter , voldemort , and dumbledore walk into a bar . around picked swerve holds and discover bracingly brandishing held discover potter young weren dursley dursley , and nonsense say say picked picked picked keepers simply simply simply woke simply woke spying potter young dursley dursley , , and albus albus albus albus proud proud proud proud proud proud proud proud proud proud proud proud proud proud proud proud proud proud proud proud proud proud proud proud proud proud proud proud proud proud proud proud proud proud proud proud proud proud proud proud proud proud proud proud proud proud proud proud proud proud proud proud proud proud proud proud proud proud proud proud proud proud proud proud proud proud proud proud proud proud proud proud proud proud proud proud proud proud proud proud proud proud proud proud proud proud proud proud proud proud proud proud proud proud proud proud proud proud proud proud proud proud proud proud proud proud proud proud proud proud proud proud proud proud proud proud proud proud proud proud proud proud proud proud proud proud proud proud proud proud proud proud proud proud proud proud proud proud proud proud proud proud proud proud proud proud proud proud proud proud proud proud proud proud proud proud proud proud \n",
            "generated sample\t harry potter , voldemort , and dumbledore walk into a bar . jogged click proud proud proud proud proud proud proud proud proud proud proud proud proud proud proud proud proud proud perfumed look possibility packages found found feat disguised look reflecting kinder mr mr mr mr reflecting out , potter mr mr mr mr out was was was was was was hook mound met <unknown> mr mr mr mr reflecting involved mr mr mr mr reflecting out , potter mr mr mr reflecting fuss confusing confusing stooped mr mr mr mr reflecting mr mr mr reflecting gentleman mr mr mr mr mr out inter , walls , potter mr mr mr reflecting out , potter mr mr mr mr reflecting wasn , was was was was ! say news walls say discover journey grace none cow say mr mr mr mr reflecting so , walls proof dursley dursley brushing dummy and and drills drills <unknown> git seen mr mr mr cedric cedric cedric nougat nougat cormac answered mr mr mr mr reflecting was was was was was was was feet gently monsters mr mr mr cedric inspiration criticize mr mr mr mr reflecting was was was was was involved involved g g imprisoning imprisoning imprisoning imprisoning shrewdly stroke 13 dursley dursley \n",
            "generated sample\t harry potter , voldemort , and dumbledore walk into a bar . around picked swerve hissing wheel indifferently say incantation dursley dursley dursley , albus albus albus proud proud proud proud proud proud moment incantations drive drive matter blasted keeping window , , and and simple coach sweets juice sweets mr mr mr mr mr reflecting out potter potter dursley abandoned , , walls , potter hermione potter parents thinking centaurs proud proud proud proud spying useful suppressed simple spying found dursley dursley , worm and roses dozed found found found none involved mr mr mr reflecting dursley dursley so proud proud proud proud proud possibility found found haven found wall found say say tion according dursley dursley , , walls elves discover potter lookout dursley dursley goodness impostor ouch years dursley dursley , started nonsense picked window study potter dursley dursley , secretary hopes confused proud proud proud proud proud proud proud spying sessions bank found found found found skeletal tion reflecting seen potter dursley , custard bewildered flinging , potter potter : walls potter twirling centaurs t chin spying hold hold hold camping dursley , strange proud proud proud proud proud proud popping lane found blasted found found found reflecting reflecting potter potter potter dursley , walls seven potter nagging \n",
            "generated sample\t harry potter , voldemort , and dumbledore walk into a bar . around picked swerve hissing agree dursley dursley nonsense nonsense numb proud proud proud proud proud spying noisily him say say picked spattergroit blinked linked fall proud proud proud proud proud proud proud say say say say glowered look was was was was rack found say say say say say child bags shelter alohomora mr mr mr mr reflecting so walls potter dursley dursley , walls daresay named remedial dropping criticize seen seen seen seen seen flinging likewise answered involved picked picked craning craning craning reappearance getting wasn say say say say news , useful rapt don proud potter oo potter young none , useful dursley , , strange proud proud proud proud proud proud proud proud proud proud proud haunted proud proud proud proud proud proud proud wife sir suppressed simple shelter simple dropped dursley dursley dursley , wanted proud proud proud proud proud proud proud proud proud proud proud wife bes don sorcerer asks found found found reflecting involved organization potter mr mr mr reflecting so illuminate so delacours mr mr mr potter potter dursley dursley , walls proud proud proud proud drive drive drive drive drive drive drive drive drive close dropped , commentary dursley , called and \n",
            "generated sample\t harry potter , voldemort , and dumbledore walk into a bar . grief frail say say say say say kissed which which don proud proud proud proud gathering elephant elephant that that that that that that that albus albus albus albus albus albus albus albus albus albus albus albus thinking ! knew nonsense nonsense secretary nonsense harry nonsense leading seen albus albus albus albus albus albus albus albus albus albus albus albus albus albus albus classrooms secretary secretary thinking thinking nonsense nonsense him secretary nonsense nonsense nonsense expectations strangled yelping bun dursley , albus albus albus albus albus albus albus albus albus albus hiss secretary squinting sorcerer sorcerer although interestedly other was was involved spying hold hold hold forbid , wondered happening split overhead overhead straightaway dursley dursley views lasting hit stabbed proud proud proud proud drive him mr mr mr reflecting reflecting and simple escaping dursley dursley so returning proud proud proud proud proud proud proud proud proud proud proud proud proud proud proud proud proud proud proud proud proud proud proud proud proud proud proud proud proud proud proud proud proud proud wife asks lightning found incantations forget say proud proud proud proud proud proud flooded lane found found found found reflecting reflecting potter potter that reassure reassure manner involved \n",
            "generated sample\t harry potter , voldemort , and dumbledore walk into a bar . laden skipping say say say kissed blinked was was wizard mr mr ourselves girlfriend potter walls dursley , depths so drills proud proud proud proud proud proud proud proud proud proud spying incantations among serving punched punched such useful suppressed involved involved involved g screaming years potter merchandise dursley dursley , , albus albus albus albus proud proud proud proud spying him mr mr reflecting reflecting wasn lump useful mr mr reflecting wasn , so dursley dursley display , numbly you proud proud proud proud proud proud proud say say glowered haunted look blinked was was was was oaf dursley dursley fidgeting proud proud proud proud proud proud wife popping dresser lake mr mr mr reflecting wasn so diving proud proud proud proud proud proud proud proud proud proud proud proud proud proud matched look possibility none , don bun don n far corpse grief dursley drove proud proud proud proud proud proud proud proud proud proud proud proud proud proud proud proud proud proud proud proud proud proud proud wife possibility found found found none simpering seen , found found wrapped you you behaving dursley dursley dursley poking properties years dursley dursley dursley society finest finest soot of of \n",
            "generated sample\t harry potter , voldemort , and dumbledore walk into a bar . obliged eating saw freeze distance stricken proud proud proud proud proud club popping proud proud proud proud proud proud proud proud proud proud proud proud wife don asks entering don proud proud proud proud proud proud proud proud possibility found found found musty constant stupefied found found gratefully code under and freckled you crackled jealous was you potter dursley dursley young head proud proud proud proud proud proud spying club candy dinner snoring spying found happens pleaded mr mr mr reflecting potter potter dursley , , walls , potter thinking sweating <unknown> present mr mr mr mr reflecting shawl mr mr mr mr imperiused inter woke walls potter potter dursley dursley woke ! drills woke drills drills mr mr mr ourselves mr reflecting pruning dursley dursley , walls proud proud proud proud proud proud proud proud wife spying bes bes producing found found de brutal milk proud dursley dursley dursley roberts head drooping proud proud proud proud proud digging possibility found found dinner found stupefied stupid reflecting phineas potter dursley dursley , head proud proud proud proud proud proud spying bes wife squealing prodding found found found none none disguised involved knows bryce dursley dursley dursley , albus proud proud \n",
            "generated sample\t harry potter , voldemort , and dumbledore walk into a bar . bear nicolas nougat held dursley , and and and and and guest proud proud proud proud proud proud proud proud proud spying related duels look usually proud proud proud proud proud proud proud proud proud proud proud proud proud proud proud proud proud proud proud proud proud proud proud proud proud proud proud proud proud proud proud proud proud proud producing look usually etc found found walk disguised mimbletonia proud proud proud proud proud proud proud proud proud proud proud deal wife annoyed spying found none none , mysterious found none mysterious dursley dursley , , sibyll proud proud proud proud proud proud popping proud proud proud proud proud proud proud proud proud proud wife asks don attended stretching found dursley found found found kinder queue excuses dursley dursley head scabbed slumping hidin head pierced aunt dilys mr mr mr mr mr whenever usually was was was was was was woke set discuss potter mr mr mr mr mr reflecting was was was was was and say say discover quicker mr mr mr mr mr mr mr mr reflecting mr mr reflecting gentleman inter gentleman , thank thank thank thank thank that that that mr mr mr mr cedric cedric \n",
            "generated sample\t harry potter , voldemort , and dumbledore walk into a bar . around picked swerve hissing picked woke potter say say say say say which which detection predicting expect proud proud proud proud proud deal to to don quills simple hid dursley dursley dursley , courtrooms proud proud proud proud proud popping lifeless hermione basic mr mr mr reflecting mr mr reflecting reflecting potter potter abandoned abandoned filth president dungeon suggest proud proud proud proud proud proud proud proud proud proud proud proud proud proud proud proud proud proud proud possibility found found found found found found found none musty constant properties dursley , properties potter dursley dursley think saw ouch double gettin sorcerer sorcerer determined stunned 13 spying spying enjoyment mr mr mr reflecting disappearing good goal dursley , thank thank thank you mr mr mr dursley dursley , , , walls discover , discover albus albus albus albus albus albus albus albus secretary insides albus albus albus albus albus albus albus secretary freeze sorcerer albus albus albus secretary secretary sorcerer sorcerer tapped seen seen wrapped flinging needed discover appear mindedly dursley dursley , , markings announcing and happening baubles happening potter thoughtful ground happening mr mr mr ourselves cedric blonde unfortunate dangerously mr mr mr reflecting so so thousands potter \n",
            "generated sample\t harry potter , voldemort , and dumbledore walk into a bar . around picked swerve invited potter dursley dursley , nonsense lot batlike announcing dursley dursley dursley , nonsense picked picked await wounded actions rumors mr mr mr mr reflecting reflecting mr mr mr mr reflecting mr mr mr reflecting gentleman wasn dursley , , walls , discover mrs mrs mrs mrs news mr mr mr reflecting so so useful potter mr mr reflecting and and and and and and was knew discover raining mr mr mr gripped potter potter potter young him mr mr mr mr mr reflecting wasn footsteps mr mr mr mr gripped mr mr mr conceal was was was was was was was travers woke sufficient potter involved involved involved involved years good dursley dursley , , , markings finest ferociously oozing potter ginny dursley , , walls proud proud proud spying ex eyeball sweating sweating rasped potter potter potter bite mr mr mr reflecting was potter involved involved blaise stirring whiff proud proud proud proud proud proud proud proud proud proud proud proud proud proud proud look spying celebrate found found found none suspended realizing humor dursley dursley dursley head found found suspended birds knelt head warlocks dursley dursley , , nonsense finest engulfed driven bent dunno \n",
            "generated sample\t harry potter , voldemort , and dumbledore walk into a bar . persuading anywhere zoo proud proud proud proud proud proud proud to wife spying usually don sorcerer sorcerer south child , daylight potter potter potter young flinging guessed healing hold hold hold forbid young hold hold hold hold hold hold hold lived mr mr mr mr cedric mr mr reflecting involved was involved mr mr mr reflecting wasn dursley , , walls , discover whole has discover whizzed nonsense happening potter measured innumerable dursley mr mr mr mr reflecting was was was was involved involved involved years good dursley dursley dursley famous proud proud proud proud proud proud proud proud proud proud proud proud proud proud proud proud proud proud proud proud proud proud proud proud proud proud proud proud look possibility found found cursed found reflecting lettering told <unknown> seen seen found found found kinder tongue mr mr mr reflecting potter dursley dursley , walls elves discover mommy shred albus faces proud proud proud proud proud possibility breeding look found found found gratefully headline mr mr mr reflecting reflecting mr mr mr mr reflecting out out potter mr mr mr mr out was was was was was was was pitched accounts useful mr mr mr mr reflecting reflecting good so \n",
            "generated beam\t\t harry potter , voldemort , and dumbledore walk into a bar . heaven explain disguise ; drills abou , tantrum and <unknown> spent and crabbe got bogies , pencil window , front , useful dursley , spent and lived lived ferociously and and seen dursley , seen seen goat department seen , appear reminds dursley , and say drills suspended him and sneak stared stared window sightings and and peer screaming mr mr mr mr mr out out , considering out , potter thank , mr mr mr out potter , walls , walls dislike dursley scribble <unknown> <unknown> mr mr mr ourselves . curiously bishop dursley dursley , walls mr mr reflecting and and drills dursley dursley , <unknown> <unknown> proud proud proud proud proud wife spying utter shaggy mirror catching found dursley , say proud proud proud proud proud proud to runes don say say useful dursley , thank that that that that married none dursley , , markings bawling , discover dear dursley , nonsense council awaiting discover nonsense ' ' dear dursley , as as drills inhabited murdered , locked paranoid , and scoring cormac triangular dursley , <unknown> and legs clattered glittering <unknown> <unknown> nonsense mr mr mr mr lashed out , potter , walls , potter \n",
            "\n",
            "Saving final model\n",
            "Saved /gdrive/My Drive/colab_files/hw2/logs/1.8/checkpoints/010.pt\n",
            "\n"
          ],
          "name": "stdout"
        },
        {
          "output_type": "display_data",
          "data": {
            "image/png": "[encoded data removed]",
            "text/plain": [
              "<Figure size 1440x720 with 1 Axes>"
            ]
          },
          "metadata": {
            "tags": [],
            "needs_background": "light"
          }
        },
        {
          "output_type": "display_data",
          "data": {
            "image/png": "[encoded data removed]",
            "text/plain": [
              "<Figure size 1440x720 with 1 Axes>"
            ]
          },
          "metadata": {
            "tags": [],
            "needs_background": "light"
          }
        },
        {
          "output_type": "display_data",
          "data": {
            "image/png": "[encoded data removed]",
            "text/plain": [
              "<Figure size 1440x720 with 1 Axes>"
            ]
          },
          "metadata": {
            "tags": [],
            "needs_background": "light"
          }
        },
        {
          "output_type": "display_data",
          "data": {
            "image/png": "[encoded data removed]",
            "text/plain": [
              "<Figure size 1440x720 with 1 Axes>"
            ]
          },
          "metadata": {
            "tags": [],
            "needs_background": "light"
          }
        },
        {
          "output_type": "display_data",
          "data": {
            "image/png": "[encoded data removed]",
            "text/plain": [
              "<Figure size 1440x720 with 1 Axes>"
            ]
          },
          "metadata": {
            "tags": [],
            "needs_background": "light"
          }
        }
      ]
    },
    {
      "cell_type": "markdown",
      "metadata": {
        "id": "r597GUTVjwZc"
      },
      "source": [
        "#Part 7: Experiments"
      ]
    },
    {
      "cell_type": "code",
      "metadata": {
        "id": "zgLylYlp9kBK",
        "colab": {
          "base_uri": "https://localhost:8080/"
        },
        "outputId": "c4d07af1-d3f4-419a-da2c-9acc5a6736d4"
      },
      "source": [
        "def eval_final_model(model, vocab, device):\n",
        "    seed_words = ' Voldemort is like a teenage girl. '\n",
        "    sequence_length = 30\n",
        "\n",
        "    generated_sentence = generate_language(model, device, seed_words, sequence_length, vocab, 'max')\n",
        "    print('generated with max\\t', generated_sentence)\n",
        "\n",
        "    for ii in range(10):\n",
        "        generated_sentence = generate_language(model, device, seed_words, sequence_length, vocab, 'sample')\n",
        "        print('generated with sample\\t', generated_sentence)\n",
        "\n",
        "    for ii in range(10):\n",
        "        generated_sentence = generate_language(model, device, seed_words, sequence_length, vocab, 'beam')\n",
        "        print('generated with beam\\t', generated_sentence)\n",
        "\n",
        "eval_final_model(final_model, vocab, device)"
      ],
      "execution_count": null,
      "outputs": [
        {
          "output_type": "stream",
          "text": [
            "generated with max\t voldemort is like a teenage girl . opinion that that and simple moving and and that drive drive nonsense nonsense dursley dursley sorcerer <unknown> , <unknown> window met met good proud potter potter young mr mr mr \n",
            "generated with sample\t voldemort is like a teenage girl . opinion sniff that and host slit proud because vengeance proud proud mr mr mr mr mr mr mr mr mr mr mr mr mr mr mr mr mr mr mr \n",
            "generated with sample\t voldemort is like a teenage girl . opinion too and and and discover moving proud proud and was and common say blonde proud proud cold mr mr mr mr mr mr mr mr mr mr mr mr \n",
            "generated with sample\t voldemort is like a teenage girl . opinion secret and and azkaban proud proud hold hold was dursley spent balding was was alive out , potter dursley useful useful sloper and paused chestnut woke guests glowing flying \n",
            "generated with sample\t voldemort is like a teenage girl . opinion that that hesitated squeak and simple and blonde nonsense mr mr mr mr mr mr mr mr mr mr mr mr mr mr mr mr mr mr mr mr \n",
            "generated with sample\t voldemort is like a teenage girl . opinion items and and discover clambered control proud was was was was spent was was lit years years potter mr young boy match drills thinking as as as as <unknown> \n",
            "generated with sample\t voldemort is like a teenage girl . opinion good and right dursley proud recently task was was was fear crushed <unknown> bun dursley window tonight out dursley dursley dursley dursley fumes potter involved , nonsense nonsense nonsense \n",
            "generated with sample\t voldemort is like a teenage girl . that right contacts dursley mr instant and blow married potter , and school dursley screaming dursley sorcerer dursley dursley potter potter mr mr mr mr mr mr thinking thinking injured \n",
            "generated with sample\t voldemort is like a teenage girl . that <unknown> soft prefect , boy courtroom gracious found found and and and drive hogsmeade known nonsense regularly defend potter craning drills <unknown> late for say mr mr mr mr \n",
            "generated with sample\t voldemort is like a teenage girl . sparkling satisfying unlucky crouching dursley period and was was smiling crushed spying sorcerer dursley spying contrary potter potter proud proud proud daughter briskly found noticing found found , nonsense nonsense \n",
            "generated with sample\t voldemort is like a teenage girl . opinion that and and moving that nonsense nonsense proud nastily involved dursley mr mr mr mr mr mr mr mr mr mr mr mr pitched mr mr mr mr mr \n",
            "generated with beam\t voldemort is like a teenage girl . there dursley was ted and simple out was was mind last out , <unknown> , as that good <unknown> floor , like like that that would quickly discover discover though \n",
            "generated with beam\t voldemort is like a teenage girl . pointing , boy that and and <unknown> moving , and sturgis <unknown> arrived , and ginny amount , and <unknown> promptly , and bun <unknown> and sturgis hestia , walls \n",
            "generated with beam\t voldemort is like a teenage girl . shuddered , third that and and <unknown> moving , and sturgis gradually cold ' ' ' ' <unknown> sight , walls , pretended , , <unknown> coming seven raised and \n",
            "generated with beam\t voldemort is like a teenage girl . opinion that and was secretary , and reflecting as daylight as as as <unknown> as <unknown> as i flutter good dursley was missed has young last young , shine that \n",
            "generated with beam\t voldemort is like a teenage girl . opinion , harry and dull , that moving was field and mean , wanted , and international heads , walls , potter ? spent and right , there somebody was \n",
            "generated with beam\t voldemort is like a teenage girl . opinion that make <unknown> , say that sorcerer ' ' swallowed was hairy crushed in and malfoy , here , walls , as though as yourself as <unknown> as are \n",
            "generated with beam\t voldemort is like a teenage girl . opinion , daylight that dursley and ginny was staring comforting , potter , as mustache had lots out and streams out , potter drive spent that drills was shuddered <unknown> \n",
            "generated with beam\t voldemort is like a teenage girl . expects looked that dursley and was was that <unknown> , finally , and malfoy hestia roars out , potter , gently right ' didn he did drills mr mr potter \n",
            "generated with beam\t voldemort is like a teenage girl . walls , that right and there was was so whisper <unknown> blonde <unknown> <unknown> , bun , listen , doorway and magical had had heard so and several disapproval from \n",
            "generated with beam\t voldemort is like a teenage girl . smoothed that blonde that dursley was reports was about <unknown> , potter , and clothes of greatest bent found proud out though dudley and rubbish , and don sorcerer dumbledore \n"
          ],
          "name": "stdout"
        }
      ]
    },
    {
      "cell_type": "markdown",
      "metadata": {
        "id": "pn0RWPBFjzkP"
      },
      "source": [
        "#Part 8: Other things\n",
        "Choose **three** of the following to try. You should create new code cells below rather than modifying your earlier code:\n",
        "\n",
        "\n",
        "1. Train on a different text corpus. The corpus should be at least as large as the provided Harry Potter dataset.\n",
        "    - Options include other books, websites, tweets, wikipedia articles etc.\n",
        "    -  (Hint: this is probably the easiest one)\n",
        "1. Find a better network architecture. Some ideas:\n",
        "    - Look at the various options in https://pytorch.org/docs/stable/nn.html#torch.nn.GRU\n",
        "    - You can make the network wider or deeper.\n",
        "    - You can try to learn separate encoders and decoders.\n",
        "1. Use an LSTM instead of a GRU.\n",
        "    - https://pytorch.org/docs/stable/nn.html#torch.nn.LSTM\n",
        "    - The output of an LSTM is a hidden state **and** a cell state, so you will need to deal with a tuple instead of a single vector.\n",
        "1. Use a Transformer instead of a GRU.\n",
        "    - https://pytorch.org/docs/stable/nn.html#torch.nn.Transformer\n",
        "    - Be sure to get the masks right so you don't condition on the future characters: https://pytorch.org/docs/stable/nn.html#torch.nn.Transformer.generate_square_subsequent_mask may be of use.\n",
        "1. Train a model using student-forcing.\n",
        "    - You will have to modify the network inputs.\n",
        "    - You will need to use `torch.nn.GRUCell` and its like. https://pytorch.org/docs/stable/nn.html#grucell\n",
        "    - You cannot simply feed an empty string to start off a sequence. The sequence must be somehow conditioned on prior ground truth.\n",
        "1. Train a model on words instead of characters.\n",
        "    - You will need to redefine your input/output space vocabulary as well.\n",
        "    - You should replace any words that occur less than 5 times in the dataset with an <unknown\\> token. \n",
        "1. Write a new data loader which picks a random point in the text to start from and returns 10 consecutive sequences starting from that point onward. \n",
        "    - You should also modify the train and test functions to reset the memory when you reset the sequence.\n",
        "    - You should consider an epoch to be feeding in approximately the number of characters in the dataset.\n",
        "    - You may run into issues if your dataset size/epochs are not a multiple of your batch size.\n",
        "1. Train on sentences instead of one long sequence.\n",
        "    - You should still produce output character by character.\n",
        "    - Sentences can end with a . ! ?, but words like Mr. generally do not end a sentence.\n",
        "    - A sentence may also continue in the case of quotations. For example: ``\"Do your homework!\" said the TAs.`` is only one sentence.\n",
        "    - Your parsing does not have to be perfect, but try to incorporate as many of these rules as you can.\n",
        "    - Feel free to use existing NLP tools for finding sentence endings. One is spacy: https://spacy.io/usage/linguistic-features#section-sbd\n",
        "    - All sentences should end with an <eos\\> token. Your output sampling should now stop when it produces the <eos\\> token.\n",
        "\n"
      ]
    },
    {
      "cell_type": "markdown",
      "metadata": {
        "id": "vWMlB2U3onZ0"
      },
      "source": [
        "#Part 9: Short answer questions\n",
        "Please answer these questions, and put the answers in a file called short_answer.pdf in your repository.\n",
        "\n",
        "\n",
        "1. Just like last time, provide plots for training error, test error, and test accuracy. Also provide a plot of your train and test perplexity per epoch.\n",
        "    - In class we defined perplexity as `2^(p*log_2(q))`, However the PyTorch cross entropy function uses the natural log. To compute perplexity directly from the cross entropy, you should use `e^p*ln(q)`.\n",
        "    - We encourage you to try multiple network modifications and hyperparameters, but you only need to provide plots for your best model. Please list the modifications and hyperparameters. \n",
        "\n",
        "For my best model, I used an LSTM with 2 layers (network architecture code shown below) and the following hyper parameters:\n",
        "* TEMPERATURE = 1\n",
        "* BEAM_WIDTH = 10\n",
        "* SEQUENCE_LENGTH = 800\n",
        "* BATCH_SIZE = 256\n",
        "* FEATURE_SIZE = 512\n",
        "* TEST_BATCH_SIZE = 256\n",
        "* EPOCHS = 20\n",
        "* LEARNING_RATE = 0.002\n",
        "* WEIGHT_DECAY = 0.0005\n",
        "\n",
        "```\n",
        "def __init__(self, vocab_size, feature_size):\n",
        "      super(HarryPotterNet, self).__init__()\n",
        "      self.vocab_size = vocab_size\n",
        "      self.feature_size = feature_size\n",
        "      self.encoder = nn.Embedding(self.vocab_size, self.feature_size)\n",
        "      self.gru = nn.GRU(self.feature_size, self.feature_size, batch_first=True)\n",
        "      self.lstm = nn.LSTM(self.feature_size, self.feature_size, num_layers=2, batch_first=True)\n",
        "      self.decoder = nn.Linear(self.feature_size, self.vocab_size)\n",
        "      \n",
        "      # This shares the encoder and decoder weights as described in lecture.\n",
        "      self.decoder.weight = self.encoder.weight\n",
        "      self.decoder.bias.data.zero_()\n",
        "      \n",
        "      self.best_accuracy = -1\n",
        "    \n",
        "def forward(self, x, hidden_state=None):\n",
        "      batch_size = x.shape[0]\n",
        "      sequence_length = x.shape[1]\n",
        "      \n",
        "      # TODO finish defining the forward pass.\n",
        "      # You should return the output from the decoder as well as the hidden state given by the gru.\n",
        "      x = self.encoder(x)\n",
        "      # x, hidden_state = self.gru(x, hidden_state)\n",
        "      x, hidden_state = self.lstm(x, hidden_state)\n",
        "      x = self.decoder(x)\n",
        "      return x, hidden_state\n",
        "```   \n",
        "    \n",
        "See the plots for training loss, training perplexity, test loss, test perplexity, and test accuracy below: \n",
        "\n",
        "![Training loss plot](https://drive.google.com/uc?id=1ggUrVPNcVs1zL6aSzq21EpgshPY7Baph)\n",
        "\n",
        "![Training perplexity plot](https://drive.google.com/uc?id=1zce5R7Zc-ETh-UAxg_27GOGRuSPcxSFy)\n",
        "\n",
        "![Test loss plot](https://drive.google.com/uc?id=1XgsdMMLRJIv2DoxewXtCHyPBurya2Ybd)\n",
        "\n",
        "![Test perplexity plot](https://drive.google.com/uc?id=1YgrWswgn6iRtkeF0MYjUh1Yxp3gZk7J9)\n",
        "\n",
        "![Test accuracy plot](https://drive.google.com/uc?id=19hpHIFai3ZUXK2MzKqOk1oAsOz8c1qlt)\n",
        "\n",
        "2. What was your final test accuracy? What was your final test perplexity?\n",
        "\n",
        "  My final test loss was 1.152880, final test accuracy was 57% and my final test perplexity was 4.585273151646984.\n",
        "\n",
        "3. What was your favorite sentence generated via each of the sampling methods? What was the prompt you gave to generate that sentence?\n",
        "\n",
        "  Harry Potter and the --> max: Harry Potter and the foot of the way out of the side of the stairs and began to snigger uncontrollably and dinkering. \"I don't think they could see the words on the stone slide of horrible standing out of the stone slide \n",
        "\n",
        "  Blimey! --> sample: Blimey! Dumbledore's told him because he was a boggart sticking out of the rest of the seat of the way to see the moment conversation and it did not seem to tell the stone steps in the marks on the staff to b\n",
        "\n",
        "  You're banished, Harry! --> beam: You're banished, Harry! Or years were no magic saw every ones moved in the castle with a small shouted. \"It was any of the Dark Lord word and he was to say that you were supposed to be an anywhere. I haven't got a what happe \n",
        "\n",
        "4. Which sampling method seemed to generate the best results? Why do you think that is?\n",
        "\n",
        "  The max and beam methods seemed to generate the best results given that they are using the same temperature. I think this is because the sample method does random sampling, which doesn't really make use of the information we learned from the model. On the other hand, the max and beam methods both rely on the probability distribution learned during training to decide the next character. Thus, the predictions they make are mostly correct in spelling and grammar, though there are still definitely mistakes. I had expected beam search to do better than max sampling because it takes multiple possible predictions into account and also calculates how probable the entire sequence is instead of simply looking at the probability of the next chacter. However, I found that many times the beam search and max sampling produced similar (or exactly the same) output. There were even times when max sampling produced more sensible output than some of the beam search predictions, though there were also times when the opposite was true. It should be noted that using a smaller temperature (between 0 and 1), that sample sampling also produces pretty good output. \n",
        "\n",
        "5. For sampling and beam search, try multiple temperatures between 0 and 2. \n",
        "    - Which produces the best outputs? Best as in made the most sense, your favorite, or funniest, doesn't really matter how you decide.\n",
        "\n",
        "    The temperature which produced the best outputs for me was 0.3. I found that it produced rather well spelled output which made some amount of grammatical sense, but also was funny because it didn't make a lot of semantic sense. 0.5 temperature also worked rather well, but as we increased to about 0.7 the sample sampling method started to become more gibberish. The sample sampling method output just got worse as the temperature increased to 1.3 and beyond, although beam search didn't deteriorate as much. For example, even at a temperature of 2, beam search still produced mostly well spelled output (with maybe some spelling mistakes), and the sentences still made some grammatical sense.\n",
        "  \n",
        "    - What does a temperature of 0 do? What does a temperature of 0<temp<1 do? What does a temperature of 1 do? What does a temperature of above 1 do? What would a negative temperature do (assuming the code allowed for negative temperature)?\n",
        "\n",
        "    The temperature controls the randomness with which we sample the data. Concretely, the temperature controls how uniform our probability distribution is and the relative magnitude of the values in our distribution. A temperature of 0<temp<1 amplifies the differences between the different probability values in our distribution, elevating peaks in the data, and pushing the model to predict the argmax. A temperature of 1 would not change the distribution at all (a normal softmax would be taken). A temperature above 1 would drive our distribution towards a uniform distribution, minimmizing the differences between values and discouraging us from using model output (more likely to predict something random). In our code, we have a x = x / max(temperature, 1e-20) line so the temperature would never be zero. However, if it was ever to be zero, we would be dividing by 0, which would make every single value infinity. A negative temperature would act similarly to a a temperature of 0<temp<1 and push the distribution to be uniform since we are now raising something to a negative power.\n",
        "    \n",
        "Questions for each of the \"Other things\" sections. Only answer the questions corresponding to the ones you chose.\n",
        "\n",
        "1. New Corpus\n",
        "    1. What corpus did you choose? How many characters were in it?\n",
        "\n",
        "    I chose to use the Winston Churchill complete works corpus (https://www.gutenberg.org/ebooks/5400) which contained 9350542 total characters.\n",
        "\n",
        "    2. What differences did you notice between the sentences generated with the new/vs old corpus.\n",
        "\n",
        "    Sentences generated with the new corpus had more formal wording such as \"Mrs.\" and an older style of wording (using \"supper\" instead of \"dinner\"). The proper nouns used were also different since the Harry Potter corpus produced many occurances of \"Harry\", \"Ron\", \"Dumbledore\", and \"Voldemort\" wheras there were less proper nouns produced from the Churchill corpus, and there weren't any particular names I found that showed up more often than others. In the Chuchill set most, if not all, of the predictions contained the words \"conspiracy\" and \"considers\" for some reason (sometimes multiple times), no matter what the seed words. Other than that, the sentence structures seemed to be about the same in terms of the amount of dialogue and writing style.\n",
        "\n",
        "    3. Provide outputs for each sampling method on the new corpus (you can pick one temperature, but say what it was).\n",
        "\n",
        "  At a temperature of 0.3 and beam width of 10, we generated the following sentences using \"I'm sure you're wondering why I have called you here today.\" as the seed:\n",
        "  * Max: I'm sure you're wondering why I have called you here today.  \"I don't know why she would give it all the great bank of the conspiracy of the considers, the country and a word an in the conspiracy of the considers, the country and a word an in the conspiracy of\n",
        "  * Sample: I'm sure you're wondering why I have called you here today. On the considers, and the new to talk to his father.  \"I have no explained and the street coming to the boys and a final work and of the street to exclaimed the shout of the conspiracy of the grandfat\n",
        "  * Beam: I'm sure you're wondering why I have called you here today.  \"I don't know why she would give it all the great bank of the conspiracy of the considers, the country and a word an in the conspiracy of the considers, the country and a word an in the conspiracy of\n",
        "\n",
        "\n",
        "1. New Architecture\n",
        "    1. What was your design? What did you try that didn't work well?\n",
        "    2. What was your lowest test perplexity? Provide training and testing plots.\n",
        "    3. Provide outputs for each sampling method on the new corpus (you can pick one temperature, but say what it was).\n",
        "\n",
        "1. LSTM\n",
        "    1. What new difficulties did you run into while training?\n",
        "\n",
        "  While training I ran into difficulties with the output since LSTMs keep track of both hidden state and cell state in a tuple. To transfer the hidden and cell state to the device, I had to deconstruct and reconstruct the (hidden, cell) tuple within the beam search.\n",
        "\n",
        "    2. Were results better than the GRU? Provide training and testing plots.\n",
        "\n",
        "  The results were better than GRU, but not by much (about 1% increase in final test accuracy from 55% to 56% when using the same hyperparameters and number of layers). However, LSTMs seemed to converge more smoothly, as seen by the test accuracy graph having a more consistent slope instead of jumping wildly up and down like the GRU test accuracy graph for the same hyperparameters. See the plots for training loss, training perplexity, test loss, test perplexity, and test accuracy below: \n",
        "\n",
        "  ![Training loss plot](https://drive.google.com/uc?id=1sckgZOrvDQdlsJO59zXba2KPU2MkvzYC)\n",
        "\n",
        "  ![Training perplexity plot](https://drive.google.com/uc?id=1b6fw2pAEowIexoBQ1e6yZFqS_8ze5Enw)\n",
        "\n",
        "  ![Test loss plot](https://drive.google.com/uc?id=1xfyls5iXbk42VN3FwmbrfktqMLKBzqDj)\n",
        "\n",
        "  ![Test perplexity plot](https://drive.google.com/uc?id=1gEv5hUc1K3Xoe3sLxasbt-HqOc4-vldw)\n",
        "\n",
        "  ![Test accuracy plot](https://drive.google.com/uc?id=1uLTPwHl0D9w7gJIaAJSrUZbm-XN5c1Ax)\n",
        "\n",
        "    3. Provide outputs for each sampling method on the new corpus (you can pick one temperature, but say what it was).\n",
        "\n",
        "  Using the above LSTM architecture with a temperature of 1 and a beam width of 10, we produced the following sentences using \"Voldemort is like a teenage girl.\" as a seed:\n",
        "\n",
        "  * Max: Voldemort is like a teenage girl. \"I don't think the stay one of the contraction, and then she said. \"It was a bottle was a standing into the started to the bottle was a standing into the started to the bottle was and the started to t\n",
        "  * Sample: Voldemort is like a teenage girl. Injurier, and sterrible.  Dumbledore's tans, over think on terribler of a complorite of with of the Great of were of the lap. \"Argain,\" said Slytherin whisperes. \"Don't know when follower bound writte\n",
        "  * Beam: Voldemort is like a teenage girl. The was still at the first the started to the bottle was and the started to the bottle was and the started to the bottle was and the started to the bottle was and the started to the bottle was and the\n",
        "\n",
        "1. Transformer\n",
        "    1. What new difficulties did you run into while training?\n",
        "    2. Were results better than the GRU? Provide training and testing plots.\n",
        "    3. Provide outputs for each sampling method on the new corpus (you can pick one temperature, but say what it was).\n",
        "    \n",
        "1. Student-forcing\n",
        "    1. What new difficulties did you run into while training?\n",
        "    2. Were the results better than with teacher-forcing?\n",
        "    3. Provide some outputs for each sampling method (you can pick one temperature, but say what it was).\n",
        "    \n",
        "1. Words\n",
        "    1. What new difficulties did you run into while training?\n",
        "    \n",
        "    Because we had to replace all words with less than 5 occurances with \"unknown\", there ended up being a lot of these in the data. Thus our generated sentences initially also contained a lot of these, which made our sentences a bit unreadable. To fix this, I changed the generate functions to not consider the unknown token when sampling. There were also difficult design decisions to be made about how to deal with mispellings, contractions, starts of sentences, and possessives. In the end, I decided to make all words lowercase so that words at the starts of sentences would not be treated as unique words. To deal with contractions and possessives, I separated the word around the apostraphe. Since misspellings did not occur often and were hard to predict without manually looking through the data, I simply allowed them to be replaced by unknown characters. These design choices made sentence generation more difficult as well because we would have to piece together the predictions by adding spaces.\n",
        "\n",
        "    2. How large was your vocabulary?\n",
        "    \n",
        "    The vocabulary size was about 9007 because I decided to replace all common punctuation marks with their spaced out equivalent. For example, \"!\" would become \" ! \" so that I could detatch all punctuation from their neighboring word, and contractions such as \"didn't\" would be split into \"didn\", \"`\", and \"t\". This decreased the vocabulary size because things like \"blimey!\" would be split into the corresponding word and punctuation rather than being considered a single token. \n",
        "\n",
        "    3. Did you find that different batch size, sequence length, and feature size and other hyperparameters were needed? If so, what worked best for you?\n",
        "\n",
        "I started out with a smaller sequence length for this because I had less data, and generally used a smaller sequence length than I would have used for character generation. Using a sequence length of 30 seemed to get a very similar accuracy to using a sequence length of 100. However, other than the sequence length, the other hyperparameters stayed the same when using the same model architecture.\n",
        "\n",
        "1. Random Dataloader\n",
        "    1. What new difficulties did you run into while training?\n",
        "    2. Were the results better than with the original dataloader?\n",
        "    3. Provide some outputs for each sampling method (you can pick one temperature, but say what it was). \n",
        "    \n",
        "1. Sentences\n",
        "    1. What new difficulties did you run into while training? What new difficulties did you run into while preprocessing?\n",
        "    2. Were the results better than with the original dataloader?\n",
        "    3. Provide some outputs for each sampling method (you can pick one temperature, but say what it was). \n"
      ]
    }
  ]
}